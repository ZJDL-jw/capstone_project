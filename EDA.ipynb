{
 "cells": [
  {
   "cell_type": "code",
   "execution_count": 1,
   "metadata": {},
   "outputs": [],
   "source": [
    "import pandas as pd\n",
    "import numpy as np\n",
    "import seaborn as sns\n",
    "import matplotlib.colors as mcolors\n",
    "import matplotlib.pyplot as plt\n",
    "from sklearn.decomposition import PCA\n",
    "from sklearn.preprocessing import StandardScaler\n",
    "from sklearn.cluster import KMeans\n",
    "import pycountry\n",
    "import plotly.express as px\n",
    "import re"
   ]
  },
  {
   "cell_type": "code",
   "execution_count": 2,
   "metadata": {},
   "outputs": [
    {
     "data": {
      "text/html": [
       "<div>\n",
       "<style scoped>\n",
       "    .dataframe tbody tr th:only-of-type {\n",
       "        vertical-align: middle;\n",
       "    }\n",
       "\n",
       "    .dataframe tbody tr th {\n",
       "        vertical-align: top;\n",
       "    }\n",
       "\n",
       "    .dataframe thead th {\n",
       "        text-align: right;\n",
       "    }\n",
       "</style>\n",
       "<table border=\"1\" class=\"dataframe\">\n",
       "  <thead>\n",
       "    <tr style=\"text-align: right;\">\n",
       "      <th>sex</th>\n",
       "      <th>country</th>\n",
       "      <th>year</th>\n",
       "      <th>Female</th>\n",
       "      <th>Male</th>\n",
       "    </tr>\n",
       "  </thead>\n",
       "  <tbody>\n",
       "    <tr>\n",
       "      <th>0</th>\n",
       "      <td>Afghanistan</td>\n",
       "      <td>2014</td>\n",
       "      <td>24.44</td>\n",
       "      <td>41.06</td>\n",
       "    </tr>\n",
       "    <tr>\n",
       "      <th>1</th>\n",
       "      <td>Afghanistan</td>\n",
       "      <td>2017</td>\n",
       "      <td>21.14</td>\n",
       "      <td>42.64</td>\n",
       "    </tr>\n",
       "    <tr>\n",
       "      <th>2</th>\n",
       "      <td>Albania</td>\n",
       "      <td>2010</td>\n",
       "      <td>37.26</td>\n",
       "      <td>44.03</td>\n",
       "    </tr>\n",
       "    <tr>\n",
       "      <th>3</th>\n",
       "      <td>Albania</td>\n",
       "      <td>2012</td>\n",
       "      <td>37.24</td>\n",
       "      <td>41.31</td>\n",
       "    </tr>\n",
       "    <tr>\n",
       "      <th>4</th>\n",
       "      <td>Albania</td>\n",
       "      <td>2013</td>\n",
       "      <td>38.24</td>\n",
       "      <td>43.15</td>\n",
       "    </tr>\n",
       "    <tr>\n",
       "      <th>...</th>\n",
       "      <td>...</td>\n",
       "      <td>...</td>\n",
       "      <td>...</td>\n",
       "      <td>...</td>\n",
       "    </tr>\n",
       "    <tr>\n",
       "      <th>872</th>\n",
       "      <td>Zambia</td>\n",
       "      <td>2017</td>\n",
       "      <td>36.22</td>\n",
       "      <td>42.43</td>\n",
       "    </tr>\n",
       "    <tr>\n",
       "      <th>873</th>\n",
       "      <td>Zambia</td>\n",
       "      <td>2018</td>\n",
       "      <td>35.71</td>\n",
       "      <td>41.81</td>\n",
       "    </tr>\n",
       "    <tr>\n",
       "      <th>874</th>\n",
       "      <td>Zambia</td>\n",
       "      <td>2019</td>\n",
       "      <td>38.56</td>\n",
       "      <td>44.26</td>\n",
       "    </tr>\n",
       "    <tr>\n",
       "      <th>875</th>\n",
       "      <td>Zimbabwe</td>\n",
       "      <td>2014</td>\n",
       "      <td>25.93</td>\n",
       "      <td>33.52</td>\n",
       "    </tr>\n",
       "    <tr>\n",
       "      <th>876</th>\n",
       "      <td>Zimbabwe</td>\n",
       "      <td>2019</td>\n",
       "      <td>35.06</td>\n",
       "      <td>42.06</td>\n",
       "    </tr>\n",
       "  </tbody>\n",
       "</table>\n",
       "<p>877 rows × 4 columns</p>\n",
       "</div>"
      ],
      "text/plain": [
       "sex      country  year  Female   Male\n",
       "0    Afghanistan  2014   24.44  41.06\n",
       "1    Afghanistan  2017   21.14  42.64\n",
       "2        Albania  2010   37.26  44.03\n",
       "3        Albania  2012   37.24  41.31\n",
       "4        Albania  2013   38.24  43.15\n",
       "..           ...   ...     ...    ...\n",
       "872       Zambia  2017   36.22  42.43\n",
       "873       Zambia  2018   35.71  41.81\n",
       "874       Zambia  2019   38.56  44.26\n",
       "875     Zimbabwe  2014   25.93  33.52\n",
       "876     Zimbabwe  2019   35.06  42.06\n",
       "\n",
       "[877 rows x 4 columns]"
      ]
     },
     "execution_count": 2,
     "metadata": {},
     "output_type": "execute_result"
    }
   ],
   "source": [
    "# Working hours by sex\n",
    "sex_data = pd.read_csv(\"Working hours by sex_2000-2019.csv\")[['ref_area.label', \"sex.label\", \"time\", \"obs_value\"]]\n",
    "sex_data.columns = [\"country\", \"sex\",  \"year\", \"working_hours\"]\n",
    "sex_data['sex'] = sex_data['sex'].str.replace(\"Sex: \", \"\")\n",
    "sex_data = pd.pivot_table(sex_data, index=['country', 'year'], columns=['sex'], values='working_hours').reset_index()\n",
    "sex_data"
   ]
  },
  {
   "cell_type": "code",
   "execution_count": 3,
   "metadata": {},
   "outputs": [
    {
     "data": {
      "text/html": [
       "<div>\n",
       "<style scoped>\n",
       "    .dataframe tbody tr th:only-of-type {\n",
       "        vertical-align: middle;\n",
       "    }\n",
       "\n",
       "    .dataframe tbody tr th {\n",
       "        vertical-align: top;\n",
       "    }\n",
       "\n",
       "    .dataframe thead th {\n",
       "        text-align: right;\n",
       "    }\n",
       "</style>\n",
       "<table border=\"1\" class=\"dataframe\">\n",
       "  <thead>\n",
       "    <tr style=\"text-align: right;\">\n",
       "      <th></th>\n",
       "      <th>country</th>\n",
       "      <th>year</th>\n",
       "      <th>Armed forces occupations</th>\n",
       "      <th>Managers</th>\n",
       "      <th>Professionals</th>\n",
       "      <th>Technicians and associate professionals</th>\n",
       "      <th>Clerical support workers</th>\n",
       "      <th>Service and sales workers</th>\n",
       "      <th>Skilled agricultural, forestry and fishery workers</th>\n",
       "      <th>Craft and related trades workers</th>\n",
       "      <th>Plant and machine operators, and assemblers</th>\n",
       "      <th>Elementary occupations</th>\n",
       "      <th>X. Not elsewhere classified</th>\n",
       "    </tr>\n",
       "  </thead>\n",
       "  <tbody>\n",
       "    <tr>\n",
       "      <th>0</th>\n",
       "      <td>Afghanistan</td>\n",
       "      <td>2014</td>\n",
       "      <td>53.88</td>\n",
       "      <td>45.28</td>\n",
       "      <td>33.91</td>\n",
       "      <td>40.75</td>\n",
       "      <td>45.05</td>\n",
       "      <td>53.51</td>\n",
       "      <td>31.64</td>\n",
       "      <td>38.37</td>\n",
       "      <td>47.65</td>\n",
       "      <td>39.95</td>\n",
       "      <td>16.26</td>\n",
       "    </tr>\n",
       "    <tr>\n",
       "      <th>1</th>\n",
       "      <td>Afghanistan</td>\n",
       "      <td>2017</td>\n",
       "      <td>56.70</td>\n",
       "      <td>45.51</td>\n",
       "      <td>33.94</td>\n",
       "      <td>43.40</td>\n",
       "      <td>46.85</td>\n",
       "      <td>52.23</td>\n",
       "      <td>29.50</td>\n",
       "      <td>37.30</td>\n",
       "      <td>47.91</td>\n",
       "      <td>40.66</td>\n",
       "      <td>42.11</td>\n",
       "    </tr>\n",
       "    <tr>\n",
       "      <th>2</th>\n",
       "      <td>Albania</td>\n",
       "      <td>2010</td>\n",
       "      <td>40.74</td>\n",
       "      <td>47.08</td>\n",
       "      <td>40.00</td>\n",
       "      <td>43.18</td>\n",
       "      <td>42.81</td>\n",
       "      <td>46.74</td>\n",
       "      <td>37.30</td>\n",
       "      <td>43.41</td>\n",
       "      <td>45.86</td>\n",
       "      <td>42.38</td>\n",
       "      <td>NaN</td>\n",
       "    </tr>\n",
       "    <tr>\n",
       "      <th>3</th>\n",
       "      <td>Albania</td>\n",
       "      <td>2012</td>\n",
       "      <td>39.51</td>\n",
       "      <td>44.71</td>\n",
       "      <td>37.34</td>\n",
       "      <td>41.34</td>\n",
       "      <td>43.09</td>\n",
       "      <td>47.04</td>\n",
       "      <td>35.35</td>\n",
       "      <td>41.56</td>\n",
       "      <td>44.35</td>\n",
       "      <td>41.21</td>\n",
       "      <td>47.57</td>\n",
       "    </tr>\n",
       "    <tr>\n",
       "      <th>4</th>\n",
       "      <td>Albania</td>\n",
       "      <td>2013</td>\n",
       "      <td>42.67</td>\n",
       "      <td>45.83</td>\n",
       "      <td>39.11</td>\n",
       "      <td>42.90</td>\n",
       "      <td>45.88</td>\n",
       "      <td>48.82</td>\n",
       "      <td>36.18</td>\n",
       "      <td>43.93</td>\n",
       "      <td>45.83</td>\n",
       "      <td>43.56</td>\n",
       "      <td>48.65</td>\n",
       "    </tr>\n",
       "    <tr>\n",
       "      <th>...</th>\n",
       "      <td>...</td>\n",
       "      <td>...</td>\n",
       "      <td>...</td>\n",
       "      <td>...</td>\n",
       "      <td>...</td>\n",
       "      <td>...</td>\n",
       "      <td>...</td>\n",
       "      <td>...</td>\n",
       "      <td>...</td>\n",
       "      <td>...</td>\n",
       "      <td>...</td>\n",
       "      <td>...</td>\n",
       "      <td>...</td>\n",
       "    </tr>\n",
       "    <tr>\n",
       "      <th>867</th>\n",
       "      <td>Zambia</td>\n",
       "      <td>2017</td>\n",
       "      <td>48.27</td>\n",
       "      <td>45.15</td>\n",
       "      <td>41.01</td>\n",
       "      <td>42.16</td>\n",
       "      <td>43.17</td>\n",
       "      <td>46.71</td>\n",
       "      <td>26.10</td>\n",
       "      <td>40.48</td>\n",
       "      <td>52.54</td>\n",
       "      <td>37.74</td>\n",
       "      <td>NaN</td>\n",
       "    </tr>\n",
       "    <tr>\n",
       "      <th>868</th>\n",
       "      <td>Zambia</td>\n",
       "      <td>2018</td>\n",
       "      <td>44.36</td>\n",
       "      <td>44.47</td>\n",
       "      <td>40.46</td>\n",
       "      <td>42.77</td>\n",
       "      <td>45.62</td>\n",
       "      <td>46.73</td>\n",
       "      <td>22.04</td>\n",
       "      <td>39.85</td>\n",
       "      <td>52.19</td>\n",
       "      <td>42.57</td>\n",
       "      <td>NaN</td>\n",
       "    </tr>\n",
       "    <tr>\n",
       "      <th>869</th>\n",
       "      <td>Zambia</td>\n",
       "      <td>2019</td>\n",
       "      <td>48.18</td>\n",
       "      <td>46.12</td>\n",
       "      <td>40.59</td>\n",
       "      <td>40.55</td>\n",
       "      <td>44.95</td>\n",
       "      <td>47.37</td>\n",
       "      <td>27.29</td>\n",
       "      <td>41.18</td>\n",
       "      <td>53.81</td>\n",
       "      <td>39.25</td>\n",
       "      <td>NaN</td>\n",
       "    </tr>\n",
       "    <tr>\n",
       "      <th>870</th>\n",
       "      <td>Zimbabwe</td>\n",
       "      <td>2014</td>\n",
       "      <td>35.33</td>\n",
       "      <td>45.09</td>\n",
       "      <td>37.76</td>\n",
       "      <td>42.23</td>\n",
       "      <td>39.23</td>\n",
       "      <td>46.29</td>\n",
       "      <td>20.97</td>\n",
       "      <td>39.17</td>\n",
       "      <td>50.29</td>\n",
       "      <td>42.92</td>\n",
       "      <td>NaN</td>\n",
       "    </tr>\n",
       "    <tr>\n",
       "      <th>871</th>\n",
       "      <td>Zimbabwe</td>\n",
       "      <td>2019</td>\n",
       "      <td>41.63</td>\n",
       "      <td>47.54</td>\n",
       "      <td>40.64</td>\n",
       "      <td>43.29</td>\n",
       "      <td>42.88</td>\n",
       "      <td>47.05</td>\n",
       "      <td>25.35</td>\n",
       "      <td>38.61</td>\n",
       "      <td>45.14</td>\n",
       "      <td>39.66</td>\n",
       "      <td>NaN</td>\n",
       "    </tr>\n",
       "  </tbody>\n",
       "</table>\n",
       "<p>872 rows × 13 columns</p>\n",
       "</div>"
      ],
      "text/plain": [
       "         country  year  Armed forces occupations  Managers  Professionals  \\\n",
       "0    Afghanistan  2014                     53.88     45.28          33.91   \n",
       "1    Afghanistan  2017                     56.70     45.51          33.94   \n",
       "2        Albania  2010                     40.74     47.08          40.00   \n",
       "3        Albania  2012                     39.51     44.71          37.34   \n",
       "4        Albania  2013                     42.67     45.83          39.11   \n",
       "..           ...   ...                       ...       ...            ...   \n",
       "867       Zambia  2017                     48.27     45.15          41.01   \n",
       "868       Zambia  2018                     44.36     44.47          40.46   \n",
       "869       Zambia  2019                     48.18     46.12          40.59   \n",
       "870     Zimbabwe  2014                     35.33     45.09          37.76   \n",
       "871     Zimbabwe  2019                     41.63     47.54          40.64   \n",
       "\n",
       "     Technicians and associate professionals  Clerical support workers  \\\n",
       "0                                      40.75                     45.05   \n",
       "1                                      43.40                     46.85   \n",
       "2                                      43.18                     42.81   \n",
       "3                                      41.34                     43.09   \n",
       "4                                      42.90                     45.88   \n",
       "..                                       ...                       ...   \n",
       "867                                    42.16                     43.17   \n",
       "868                                    42.77                     45.62   \n",
       "869                                    40.55                     44.95   \n",
       "870                                    42.23                     39.23   \n",
       "871                                    43.29                     42.88   \n",
       "\n",
       "     Service and sales workers  \\\n",
       "0                        53.51   \n",
       "1                        52.23   \n",
       "2                        46.74   \n",
       "3                        47.04   \n",
       "4                        48.82   \n",
       "..                         ...   \n",
       "867                      46.71   \n",
       "868                      46.73   \n",
       "869                      47.37   \n",
       "870                      46.29   \n",
       "871                      47.05   \n",
       "\n",
       "     Skilled agricultural, forestry and fishery workers  \\\n",
       "0                                                31.64    \n",
       "1                                                29.50    \n",
       "2                                                37.30    \n",
       "3                                                35.35    \n",
       "4                                                36.18    \n",
       "..                                                 ...    \n",
       "867                                              26.10    \n",
       "868                                              22.04    \n",
       "869                                              27.29    \n",
       "870                                              20.97    \n",
       "871                                              25.35    \n",
       "\n",
       "     Craft and related trades workers  \\\n",
       "0                               38.37   \n",
       "1                               37.30   \n",
       "2                               43.41   \n",
       "3                               41.56   \n",
       "4                               43.93   \n",
       "..                                ...   \n",
       "867                             40.48   \n",
       "868                             39.85   \n",
       "869                             41.18   \n",
       "870                             39.17   \n",
       "871                             38.61   \n",
       "\n",
       "     Plant and machine operators, and assemblers  Elementary occupations  \\\n",
       "0                                          47.65                   39.95   \n",
       "1                                          47.91                   40.66   \n",
       "2                                          45.86                   42.38   \n",
       "3                                          44.35                   41.21   \n",
       "4                                          45.83                   43.56   \n",
       "..                                           ...                     ...   \n",
       "867                                        52.54                   37.74   \n",
       "868                                        52.19                   42.57   \n",
       "869                                        53.81                   39.25   \n",
       "870                                        50.29                   42.92   \n",
       "871                                        45.14                   39.66   \n",
       "\n",
       "     X. Not elsewhere classified  \n",
       "0                          16.26  \n",
       "1                          42.11  \n",
       "2                            NaN  \n",
       "3                          47.57  \n",
       "4                          48.65  \n",
       "..                           ...  \n",
       "867                          NaN  \n",
       "868                          NaN  \n",
       "869                          NaN  \n",
       "870                          NaN  \n",
       "871                          NaN  \n",
       "\n",
       "[872 rows x 13 columns]"
      ]
     },
     "execution_count": 3,
     "metadata": {},
     "output_type": "execute_result"
    }
   ],
   "source": [
    "# Working hours by occupation\n",
    "occup_data = pd.read_csv(\"Working hours by ISCO-08 occupation_2000-2019.csv\")[['ref_area.label', \"classif1.label\", \"time\", \"obs_value\"]]\n",
    "occup_data.columns = [\"country\", \"occupation\",  \"year\", \"working_hours\"]\n",
    "occup_data['occupation'] = occup_data['occupation'].str.replace(\"Occupation (ISCO-08): \",\"\", regex=False)\n",
    "occup_data = pd.pivot_table(occup_data, index=['country', 'year'], columns=['occupation'], values='working_hours').reset_index()\n",
    "# Remove numeric prefix (e.g., \"1. \", \"2. \", etc.) from column names starting from the 3rd column onwards\n",
    "occup_data.columns = [re.sub(r'^\\d+\\.\\s*', '', col) if i >= 2 else col for i, col in enumerate(occup_data.columns)]\n",
    "occup_data"
   ]
  },
  {
   "cell_type": "code",
   "execution_count": 4,
   "metadata": {},
   "outputs": [
    {
     "data": {
      "text/html": [
       "<div>\n",
       "<style scoped>\n",
       "    .dataframe tbody tr th:only-of-type {\n",
       "        vertical-align: middle;\n",
       "    }\n",
       "\n",
       "    .dataframe tbody tr th {\n",
       "        vertical-align: top;\n",
       "    }\n",
       "\n",
       "    .dataframe thead th {\n",
       "        text-align: right;\n",
       "    }\n",
       "</style>\n",
       "<table border=\"1\" class=\"dataframe\">\n",
       "  <thead>\n",
       "    <tr style=\"text-align: right;\">\n",
       "      <th></th>\n",
       "      <th>country</th>\n",
       "      <th>year</th>\n",
       "      <th>Armed forces occupations</th>\n",
       "      <th>Managers</th>\n",
       "      <th>Professionals</th>\n",
       "      <th>Technicians and associate professionals</th>\n",
       "      <th>Clerical support workers</th>\n",
       "      <th>Service and sales workers</th>\n",
       "      <th>Skilled agricultural, forestry and fishery workers</th>\n",
       "      <th>Craft and related trades workers</th>\n",
       "      <th>Plant and machine operators, and assemblers</th>\n",
       "      <th>Elementary occupations</th>\n",
       "      <th>X. Not elsewhere classified</th>\n",
       "    </tr>\n",
       "  </thead>\n",
       "  <tbody>\n",
       "    <tr>\n",
       "      <th>136</th>\n",
       "      <td>China</td>\n",
       "      <td>2005</td>\n",
       "      <td>NaN</td>\n",
       "      <td>47.2</td>\n",
       "      <td>43.2</td>\n",
       "      <td>NaN</td>\n",
       "      <td>44.4</td>\n",
       "      <td>52.0</td>\n",
       "      <td>43.0</td>\n",
       "      <td>NaN</td>\n",
       "      <td>51.4</td>\n",
       "      <td>NaN</td>\n",
       "      <td>48.9</td>\n",
       "    </tr>\n",
       "    <tr>\n",
       "      <th>137</th>\n",
       "      <td>China</td>\n",
       "      <td>2006</td>\n",
       "      <td>NaN</td>\n",
       "      <td>47.3</td>\n",
       "      <td>44.1</td>\n",
       "      <td>NaN</td>\n",
       "      <td>44.4</td>\n",
       "      <td>52.0</td>\n",
       "      <td>41.9</td>\n",
       "      <td>NaN</td>\n",
       "      <td>50.8</td>\n",
       "      <td>NaN</td>\n",
       "      <td>48.4</td>\n",
       "    </tr>\n",
       "    <tr>\n",
       "      <th>138</th>\n",
       "      <td>China</td>\n",
       "      <td>2007</td>\n",
       "      <td>NaN</td>\n",
       "      <td>47.7</td>\n",
       "      <td>43.4</td>\n",
       "      <td>NaN</td>\n",
       "      <td>43.8</td>\n",
       "      <td>50.3</td>\n",
       "      <td>38.2</td>\n",
       "      <td>NaN</td>\n",
       "      <td>49.8</td>\n",
       "      <td>NaN</td>\n",
       "      <td>46.7</td>\n",
       "    </tr>\n",
       "    <tr>\n",
       "      <th>139</th>\n",
       "      <td>China</td>\n",
       "      <td>2008</td>\n",
       "      <td>NaN</td>\n",
       "      <td>47.5</td>\n",
       "      <td>43.0</td>\n",
       "      <td>NaN</td>\n",
       "      <td>43.5</td>\n",
       "      <td>49.1</td>\n",
       "      <td>37.7</td>\n",
       "      <td>NaN</td>\n",
       "      <td>48.2</td>\n",
       "      <td>NaN</td>\n",
       "      <td>46.8</td>\n",
       "    </tr>\n",
       "    <tr>\n",
       "      <th>140</th>\n",
       "      <td>China</td>\n",
       "      <td>2009</td>\n",
       "      <td>NaN</td>\n",
       "      <td>47.5</td>\n",
       "      <td>42.8</td>\n",
       "      <td>NaN</td>\n",
       "      <td>43.3</td>\n",
       "      <td>49.0</td>\n",
       "      <td>37.7</td>\n",
       "      <td>NaN</td>\n",
       "      <td>48.9</td>\n",
       "      <td>NaN</td>\n",
       "      <td>46.3</td>\n",
       "    </tr>\n",
       "    <tr>\n",
       "      <th>141</th>\n",
       "      <td>China</td>\n",
       "      <td>2010</td>\n",
       "      <td>NaN</td>\n",
       "      <td>47.1</td>\n",
       "      <td>43.1</td>\n",
       "      <td>NaN</td>\n",
       "      <td>44.0</td>\n",
       "      <td>49.8</td>\n",
       "      <td>41.5</td>\n",
       "      <td>NaN</td>\n",
       "      <td>49.7</td>\n",
       "      <td>NaN</td>\n",
       "      <td>47.8</td>\n",
       "    </tr>\n",
       "    <tr>\n",
       "      <th>142</th>\n",
       "      <td>China</td>\n",
       "      <td>2011</td>\n",
       "      <td>NaN</td>\n",
       "      <td>47.7</td>\n",
       "      <td>43.7</td>\n",
       "      <td>NaN</td>\n",
       "      <td>43.9</td>\n",
       "      <td>49.5</td>\n",
       "      <td>38.2</td>\n",
       "      <td>NaN</td>\n",
       "      <td>48.7</td>\n",
       "      <td>NaN</td>\n",
       "      <td>47.7</td>\n",
       "    </tr>\n",
       "    <tr>\n",
       "      <th>143</th>\n",
       "      <td>China</td>\n",
       "      <td>2012</td>\n",
       "      <td>NaN</td>\n",
       "      <td>48.2</td>\n",
       "      <td>43.7</td>\n",
       "      <td>NaN</td>\n",
       "      <td>44.0</td>\n",
       "      <td>49.6</td>\n",
       "      <td>38.3</td>\n",
       "      <td>NaN</td>\n",
       "      <td>48.8</td>\n",
       "      <td>NaN</td>\n",
       "      <td>49.8</td>\n",
       "    </tr>\n",
       "    <tr>\n",
       "      <th>144</th>\n",
       "      <td>China</td>\n",
       "      <td>2013</td>\n",
       "      <td>NaN</td>\n",
       "      <td>48.4</td>\n",
       "      <td>43.9</td>\n",
       "      <td>NaN</td>\n",
       "      <td>44.0</td>\n",
       "      <td>49.9</td>\n",
       "      <td>38.2</td>\n",
       "      <td>NaN</td>\n",
       "      <td>49.5</td>\n",
       "      <td>NaN</td>\n",
       "      <td>49.2</td>\n",
       "    </tr>\n",
       "    <tr>\n",
       "      <th>145</th>\n",
       "      <td>China</td>\n",
       "      <td>2014</td>\n",
       "      <td>NaN</td>\n",
       "      <td>48.4</td>\n",
       "      <td>43.9</td>\n",
       "      <td>NaN</td>\n",
       "      <td>43.8</td>\n",
       "      <td>49.9</td>\n",
       "      <td>37.6</td>\n",
       "      <td>NaN</td>\n",
       "      <td>49.5</td>\n",
       "      <td>NaN</td>\n",
       "      <td>44.0</td>\n",
       "    </tr>\n",
       "  </tbody>\n",
       "</table>\n",
       "</div>"
      ],
      "text/plain": [
       "    country  year  Armed forces occupations  Managers  Professionals  \\\n",
       "136   China  2005                       NaN      47.2           43.2   \n",
       "137   China  2006                       NaN      47.3           44.1   \n",
       "138   China  2007                       NaN      47.7           43.4   \n",
       "139   China  2008                       NaN      47.5           43.0   \n",
       "140   China  2009                       NaN      47.5           42.8   \n",
       "141   China  2010                       NaN      47.1           43.1   \n",
       "142   China  2011                       NaN      47.7           43.7   \n",
       "143   China  2012                       NaN      48.2           43.7   \n",
       "144   China  2013                       NaN      48.4           43.9   \n",
       "145   China  2014                       NaN      48.4           43.9   \n",
       "\n",
       "     Technicians and associate professionals  Clerical support workers  \\\n",
       "136                                      NaN                      44.4   \n",
       "137                                      NaN                      44.4   \n",
       "138                                      NaN                      43.8   \n",
       "139                                      NaN                      43.5   \n",
       "140                                      NaN                      43.3   \n",
       "141                                      NaN                      44.0   \n",
       "142                                      NaN                      43.9   \n",
       "143                                      NaN                      44.0   \n",
       "144                                      NaN                      44.0   \n",
       "145                                      NaN                      43.8   \n",
       "\n",
       "     Service and sales workers  \\\n",
       "136                       52.0   \n",
       "137                       52.0   \n",
       "138                       50.3   \n",
       "139                       49.1   \n",
       "140                       49.0   \n",
       "141                       49.8   \n",
       "142                       49.5   \n",
       "143                       49.6   \n",
       "144                       49.9   \n",
       "145                       49.9   \n",
       "\n",
       "     Skilled agricultural, forestry and fishery workers  \\\n",
       "136                                               43.0    \n",
       "137                                               41.9    \n",
       "138                                               38.2    \n",
       "139                                               37.7    \n",
       "140                                               37.7    \n",
       "141                                               41.5    \n",
       "142                                               38.2    \n",
       "143                                               38.3    \n",
       "144                                               38.2    \n",
       "145                                               37.6    \n",
       "\n",
       "     Craft and related trades workers  \\\n",
       "136                               NaN   \n",
       "137                               NaN   \n",
       "138                               NaN   \n",
       "139                               NaN   \n",
       "140                               NaN   \n",
       "141                               NaN   \n",
       "142                               NaN   \n",
       "143                               NaN   \n",
       "144                               NaN   \n",
       "145                               NaN   \n",
       "\n",
       "     Plant and machine operators, and assemblers  Elementary occupations  \\\n",
       "136                                         51.4                     NaN   \n",
       "137                                         50.8                     NaN   \n",
       "138                                         49.8                     NaN   \n",
       "139                                         48.2                     NaN   \n",
       "140                                         48.9                     NaN   \n",
       "141                                         49.7                     NaN   \n",
       "142                                         48.7                     NaN   \n",
       "143                                         48.8                     NaN   \n",
       "144                                         49.5                     NaN   \n",
       "145                                         49.5                     NaN   \n",
       "\n",
       "     X. Not elsewhere classified  \n",
       "136                         48.9  \n",
       "137                         48.4  \n",
       "138                         46.7  \n",
       "139                         46.8  \n",
       "140                         46.3  \n",
       "141                         47.8  \n",
       "142                         47.7  \n",
       "143                         49.8  \n",
       "144                         49.2  \n",
       "145                         44.0  "
      ]
     },
     "execution_count": 4,
     "metadata": {},
     "output_type": "execute_result"
    }
   ],
   "source": [
    "occup_data[occup_data['country'] == 'China']"
   ]
  },
  {
   "cell_type": "code",
   "execution_count": 5,
   "metadata": {},
   "outputs": [
    {
     "data": {
      "text/html": [
       "<div>\n",
       "<style scoped>\n",
       "    .dataframe tbody tr th:only-of-type {\n",
       "        vertical-align: middle;\n",
       "    }\n",
       "\n",
       "    .dataframe tbody tr th {\n",
       "        vertical-align: top;\n",
       "    }\n",
       "\n",
       "    .dataframe thead th {\n",
       "        text-align: right;\n",
       "    }\n",
       "</style>\n",
       "<table border=\"1\" class=\"dataframe\">\n",
       "  <thead>\n",
       "    <tr style=\"text-align: right;\">\n",
       "      <th></th>\n",
       "      <th></th>\n",
       "      <th>Female</th>\n",
       "      <th>Male</th>\n",
       "      <th>Armed forces occupations</th>\n",
       "      <th>Managers</th>\n",
       "      <th>Professionals</th>\n",
       "      <th>Technicians and associate professionals</th>\n",
       "      <th>Clerical support workers</th>\n",
       "      <th>Service and sales workers</th>\n",
       "      <th>Skilled agricultural, forestry and fishery workers</th>\n",
       "      <th>Craft and related trades workers</th>\n",
       "      <th>Plant and machine operators, and assemblers</th>\n",
       "      <th>Elementary occupations</th>\n",
       "      <th>X. Not elsewhere classified</th>\n",
       "    </tr>\n",
       "    <tr>\n",
       "      <th>country</th>\n",
       "      <th>year</th>\n",
       "      <th></th>\n",
       "      <th></th>\n",
       "      <th></th>\n",
       "      <th></th>\n",
       "      <th></th>\n",
       "      <th></th>\n",
       "      <th></th>\n",
       "      <th></th>\n",
       "      <th></th>\n",
       "      <th></th>\n",
       "      <th></th>\n",
       "      <th></th>\n",
       "      <th></th>\n",
       "    </tr>\n",
       "  </thead>\n",
       "  <tbody>\n",
       "    <tr>\n",
       "      <th rowspan=\"2\" valign=\"top\">Afghanistan</th>\n",
       "      <th>2014</th>\n",
       "      <td>24.44</td>\n",
       "      <td>41.06</td>\n",
       "      <td>53.88</td>\n",
       "      <td>45.28</td>\n",
       "      <td>33.91</td>\n",
       "      <td>40.75</td>\n",
       "      <td>45.05</td>\n",
       "      <td>53.51</td>\n",
       "      <td>31.64</td>\n",
       "      <td>38.37</td>\n",
       "      <td>47.65</td>\n",
       "      <td>39.95</td>\n",
       "      <td>16.26</td>\n",
       "    </tr>\n",
       "    <tr>\n",
       "      <th>2017</th>\n",
       "      <td>21.14</td>\n",
       "      <td>42.64</td>\n",
       "      <td>56.70</td>\n",
       "      <td>45.51</td>\n",
       "      <td>33.94</td>\n",
       "      <td>43.40</td>\n",
       "      <td>46.85</td>\n",
       "      <td>52.23</td>\n",
       "      <td>29.50</td>\n",
       "      <td>37.30</td>\n",
       "      <td>47.91</td>\n",
       "      <td>40.66</td>\n",
       "      <td>42.11</td>\n",
       "    </tr>\n",
       "    <tr>\n",
       "      <th rowspan=\"3\" valign=\"top\">Albania</th>\n",
       "      <th>2010</th>\n",
       "      <td>37.26</td>\n",
       "      <td>44.03</td>\n",
       "      <td>40.74</td>\n",
       "      <td>47.08</td>\n",
       "      <td>40.00</td>\n",
       "      <td>43.18</td>\n",
       "      <td>42.81</td>\n",
       "      <td>46.74</td>\n",
       "      <td>37.30</td>\n",
       "      <td>43.41</td>\n",
       "      <td>45.86</td>\n",
       "      <td>42.38</td>\n",
       "      <td>NaN</td>\n",
       "    </tr>\n",
       "    <tr>\n",
       "      <th>2012</th>\n",
       "      <td>37.24</td>\n",
       "      <td>41.31</td>\n",
       "      <td>39.51</td>\n",
       "      <td>44.71</td>\n",
       "      <td>37.34</td>\n",
       "      <td>41.34</td>\n",
       "      <td>43.09</td>\n",
       "      <td>47.04</td>\n",
       "      <td>35.35</td>\n",
       "      <td>41.56</td>\n",
       "      <td>44.35</td>\n",
       "      <td>41.21</td>\n",
       "      <td>47.57</td>\n",
       "    </tr>\n",
       "    <tr>\n",
       "      <th>2013</th>\n",
       "      <td>38.24</td>\n",
       "      <td>43.15</td>\n",
       "      <td>42.67</td>\n",
       "      <td>45.83</td>\n",
       "      <td>39.11</td>\n",
       "      <td>42.90</td>\n",
       "      <td>45.88</td>\n",
       "      <td>48.82</td>\n",
       "      <td>36.18</td>\n",
       "      <td>43.93</td>\n",
       "      <td>45.83</td>\n",
       "      <td>43.56</td>\n",
       "      <td>48.65</td>\n",
       "    </tr>\n",
       "    <tr>\n",
       "      <th>...</th>\n",
       "      <th>...</th>\n",
       "      <td>...</td>\n",
       "      <td>...</td>\n",
       "      <td>...</td>\n",
       "      <td>...</td>\n",
       "      <td>...</td>\n",
       "      <td>...</td>\n",
       "      <td>...</td>\n",
       "      <td>...</td>\n",
       "      <td>...</td>\n",
       "      <td>...</td>\n",
       "      <td>...</td>\n",
       "      <td>...</td>\n",
       "      <td>...</td>\n",
       "    </tr>\n",
       "    <tr>\n",
       "      <th rowspan=\"3\" valign=\"top\">Zambia</th>\n",
       "      <th>2017</th>\n",
       "      <td>36.22</td>\n",
       "      <td>42.43</td>\n",
       "      <td>48.27</td>\n",
       "      <td>45.15</td>\n",
       "      <td>41.01</td>\n",
       "      <td>42.16</td>\n",
       "      <td>43.17</td>\n",
       "      <td>46.71</td>\n",
       "      <td>26.10</td>\n",
       "      <td>40.48</td>\n",
       "      <td>52.54</td>\n",
       "      <td>37.74</td>\n",
       "      <td>NaN</td>\n",
       "    </tr>\n",
       "    <tr>\n",
       "      <th>2018</th>\n",
       "      <td>35.71</td>\n",
       "      <td>41.81</td>\n",
       "      <td>44.36</td>\n",
       "      <td>44.47</td>\n",
       "      <td>40.46</td>\n",
       "      <td>42.77</td>\n",
       "      <td>45.62</td>\n",
       "      <td>46.73</td>\n",
       "      <td>22.04</td>\n",
       "      <td>39.85</td>\n",
       "      <td>52.19</td>\n",
       "      <td>42.57</td>\n",
       "      <td>NaN</td>\n",
       "    </tr>\n",
       "    <tr>\n",
       "      <th>2019</th>\n",
       "      <td>38.56</td>\n",
       "      <td>44.26</td>\n",
       "      <td>48.18</td>\n",
       "      <td>46.12</td>\n",
       "      <td>40.59</td>\n",
       "      <td>40.55</td>\n",
       "      <td>44.95</td>\n",
       "      <td>47.37</td>\n",
       "      <td>27.29</td>\n",
       "      <td>41.18</td>\n",
       "      <td>53.81</td>\n",
       "      <td>39.25</td>\n",
       "      <td>NaN</td>\n",
       "    </tr>\n",
       "    <tr>\n",
       "      <th rowspan=\"2\" valign=\"top\">Zimbabwe</th>\n",
       "      <th>2014</th>\n",
       "      <td>25.93</td>\n",
       "      <td>33.52</td>\n",
       "      <td>35.33</td>\n",
       "      <td>45.09</td>\n",
       "      <td>37.76</td>\n",
       "      <td>42.23</td>\n",
       "      <td>39.23</td>\n",
       "      <td>46.29</td>\n",
       "      <td>20.97</td>\n",
       "      <td>39.17</td>\n",
       "      <td>50.29</td>\n",
       "      <td>42.92</td>\n",
       "      <td>NaN</td>\n",
       "    </tr>\n",
       "    <tr>\n",
       "      <th>2019</th>\n",
       "      <td>35.06</td>\n",
       "      <td>42.06</td>\n",
       "      <td>41.63</td>\n",
       "      <td>47.54</td>\n",
       "      <td>40.64</td>\n",
       "      <td>43.29</td>\n",
       "      <td>42.88</td>\n",
       "      <td>47.05</td>\n",
       "      <td>25.35</td>\n",
       "      <td>38.61</td>\n",
       "      <td>45.14</td>\n",
       "      <td>39.66</td>\n",
       "      <td>NaN</td>\n",
       "    </tr>\n",
       "  </tbody>\n",
       "</table>\n",
       "<p>878 rows × 13 columns</p>\n",
       "</div>"
      ],
      "text/plain": [
       "                  Female   Male  Armed forces occupations  Managers  \\\n",
       "country     year                                                      \n",
       "Afghanistan 2014   24.44  41.06                     53.88     45.28   \n",
       "            2017   21.14  42.64                     56.70     45.51   \n",
       "Albania     2010   37.26  44.03                     40.74     47.08   \n",
       "            2012   37.24  41.31                     39.51     44.71   \n",
       "            2013   38.24  43.15                     42.67     45.83   \n",
       "...                  ...    ...                       ...       ...   \n",
       "Zambia      2017   36.22  42.43                     48.27     45.15   \n",
       "            2018   35.71  41.81                     44.36     44.47   \n",
       "            2019   38.56  44.26                     48.18     46.12   \n",
       "Zimbabwe    2014   25.93  33.52                     35.33     45.09   \n",
       "            2019   35.06  42.06                     41.63     47.54   \n",
       "\n",
       "                  Professionals  Technicians and associate professionals  \\\n",
       "country     year                                                           \n",
       "Afghanistan 2014          33.91                                    40.75   \n",
       "            2017          33.94                                    43.40   \n",
       "Albania     2010          40.00                                    43.18   \n",
       "            2012          37.34                                    41.34   \n",
       "            2013          39.11                                    42.90   \n",
       "...                         ...                                      ...   \n",
       "Zambia      2017          41.01                                    42.16   \n",
       "            2018          40.46                                    42.77   \n",
       "            2019          40.59                                    40.55   \n",
       "Zimbabwe    2014          37.76                                    42.23   \n",
       "            2019          40.64                                    43.29   \n",
       "\n",
       "                  Clerical support workers  Service and sales workers  \\\n",
       "country     year                                                        \n",
       "Afghanistan 2014                     45.05                      53.51   \n",
       "            2017                     46.85                      52.23   \n",
       "Albania     2010                     42.81                      46.74   \n",
       "            2012                     43.09                      47.04   \n",
       "            2013                     45.88                      48.82   \n",
       "...                                    ...                        ...   \n",
       "Zambia      2017                     43.17                      46.71   \n",
       "            2018                     45.62                      46.73   \n",
       "            2019                     44.95                      47.37   \n",
       "Zimbabwe    2014                     39.23                      46.29   \n",
       "            2019                     42.88                      47.05   \n",
       "\n",
       "                  Skilled agricultural, forestry and fishery workers  \\\n",
       "country     year                                                       \n",
       "Afghanistan 2014                                              31.64    \n",
       "            2017                                              29.50    \n",
       "Albania     2010                                              37.30    \n",
       "            2012                                              35.35    \n",
       "            2013                                              36.18    \n",
       "...                                                             ...    \n",
       "Zambia      2017                                              26.10    \n",
       "            2018                                              22.04    \n",
       "            2019                                              27.29    \n",
       "Zimbabwe    2014                                              20.97    \n",
       "            2019                                              25.35    \n",
       "\n",
       "                  Craft and related trades workers  \\\n",
       "country     year                                     \n",
       "Afghanistan 2014                             38.37   \n",
       "            2017                             37.30   \n",
       "Albania     2010                             43.41   \n",
       "            2012                             41.56   \n",
       "            2013                             43.93   \n",
       "...                                            ...   \n",
       "Zambia      2017                             40.48   \n",
       "            2018                             39.85   \n",
       "            2019                             41.18   \n",
       "Zimbabwe    2014                             39.17   \n",
       "            2019                             38.61   \n",
       "\n",
       "                  Plant and machine operators, and assemblers  \\\n",
       "country     year                                                \n",
       "Afghanistan 2014                                        47.65   \n",
       "            2017                                        47.91   \n",
       "Albania     2010                                        45.86   \n",
       "            2012                                        44.35   \n",
       "            2013                                        45.83   \n",
       "...                                                       ...   \n",
       "Zambia      2017                                        52.54   \n",
       "            2018                                        52.19   \n",
       "            2019                                        53.81   \n",
       "Zimbabwe    2014                                        50.29   \n",
       "            2019                                        45.14   \n",
       "\n",
       "                  Elementary occupations  X. Not elsewhere classified  \n",
       "country     year                                                       \n",
       "Afghanistan 2014                   39.95                        16.26  \n",
       "            2017                   40.66                        42.11  \n",
       "Albania     2010                   42.38                          NaN  \n",
       "            2012                   41.21                        47.57  \n",
       "            2013                   43.56                        48.65  \n",
       "...                                  ...                          ...  \n",
       "Zambia      2017                   37.74                          NaN  \n",
       "            2018                   42.57                          NaN  \n",
       "            2019                   39.25                          NaN  \n",
       "Zimbabwe    2014                   42.92                          NaN  \n",
       "            2019                   39.66                          NaN  \n",
       "\n",
       "[878 rows x 13 columns]"
      ]
     },
     "execution_count": 5,
     "metadata": {},
     "output_type": "execute_result"
    }
   ],
   "source": [
    "merged_data = pd.merge(sex_data, occup_data, on=['country', 'year'], how='outer')\n",
    "merged_data.set_index(['country', 'year'], inplace=True)\n",
    "merged_data.sort_index(inplace=True)\n",
    "merged_data"
   ]
  },
  {
   "cell_type": "code",
   "execution_count": 6,
   "metadata": {},
   "outputs": [],
   "source": [
    "# total_data = pd.read_csv('HOW_TEMP_SEX_OCU_total.csv')[['ref_area.label', \"time\", \"obs_value\"]]\n",
    "# # total_data = pd.read_csv('HOW_TEMP_SEX_ECO_NB_total.csv')[['ref_area.label', \"time\", \"obs_value\"]]\n",
    "# total_data.columns = [\"country\", \"year\", \"working_hours\"]\n",
    "# total_data.set_index(['country', 'year'], inplace=True)\n",
    "# total_data.sort_index(inplace=True)\n",
    "# total_data\n",
    "\n",
    "# idx1 = total_data.index\n",
    "# idx2 = merged_data.index\n",
    "# idx1.difference(idx2)\n",
    "\n",
    "# idx1.difference(idx2).shape"
   ]
  },
  {
   "cell_type": "code",
   "execution_count": 7,
   "metadata": {},
   "outputs": [
    {
     "name": "stdout",
     "output_type": "stream",
     "text": [
      "Female                                                  4\n",
      "Male                                                    2\n",
      "Armed forces occupations                              305\n",
      "Managers                                                8\n",
      "Professionals                                          15\n",
      "Technicians and associate professionals                17\n",
      "Clerical support workers                                6\n",
      "Service and sales workers                               7\n",
      "Skilled agricultural, forestry and fishery workers     12\n",
      "Craft and related trades workers                       25\n",
      "Plant and machine operators, and assemblers             7\n",
      "Elementary occupations                                 17\n",
      "X. Not elsewhere classified                           424\n",
      "dtype: int64\n"
     ]
    },
    {
     "data": {
      "text/html": [
       "<div>\n",
       "<style scoped>\n",
       "    .dataframe tbody tr th:only-of-type {\n",
       "        vertical-align: middle;\n",
       "    }\n",
       "\n",
       "    .dataframe tbody tr th {\n",
       "        vertical-align: top;\n",
       "    }\n",
       "\n",
       "    .dataframe thead th {\n",
       "        text-align: right;\n",
       "    }\n",
       "</style>\n",
       "<table border=\"1\" class=\"dataframe\">\n",
       "  <thead>\n",
       "    <tr style=\"text-align: right;\">\n",
       "      <th></th>\n",
       "      <th></th>\n",
       "      <th>Female</th>\n",
       "      <th>Male</th>\n",
       "      <th>Managers</th>\n",
       "      <th>Professionals</th>\n",
       "      <th>Technicians and associate professionals</th>\n",
       "      <th>Clerical support workers</th>\n",
       "      <th>Service and sales workers</th>\n",
       "      <th>Skilled agricultural, forestry and fishery workers</th>\n",
       "      <th>Craft and related trades workers</th>\n",
       "      <th>Plant and machine operators, and assemblers</th>\n",
       "      <th>Elementary occupations</th>\n",
       "    </tr>\n",
       "    <tr>\n",
       "      <th>country</th>\n",
       "      <th>year</th>\n",
       "      <th></th>\n",
       "      <th></th>\n",
       "      <th></th>\n",
       "      <th></th>\n",
       "      <th></th>\n",
       "      <th></th>\n",
       "      <th></th>\n",
       "      <th></th>\n",
       "      <th></th>\n",
       "      <th></th>\n",
       "      <th></th>\n",
       "    </tr>\n",
       "  </thead>\n",
       "  <tbody>\n",
       "    <tr>\n",
       "      <th rowspan=\"2\" valign=\"top\">Afghanistan</th>\n",
       "      <th>2014</th>\n",
       "      <td>24.44</td>\n",
       "      <td>41.06</td>\n",
       "      <td>45.28</td>\n",
       "      <td>33.91</td>\n",
       "      <td>40.75</td>\n",
       "      <td>45.05</td>\n",
       "      <td>53.51</td>\n",
       "      <td>31.64</td>\n",
       "      <td>38.37</td>\n",
       "      <td>47.65</td>\n",
       "      <td>39.95</td>\n",
       "    </tr>\n",
       "    <tr>\n",
       "      <th>2017</th>\n",
       "      <td>21.14</td>\n",
       "      <td>42.64</td>\n",
       "      <td>45.51</td>\n",
       "      <td>33.94</td>\n",
       "      <td>43.40</td>\n",
       "      <td>46.85</td>\n",
       "      <td>52.23</td>\n",
       "      <td>29.50</td>\n",
       "      <td>37.30</td>\n",
       "      <td>47.91</td>\n",
       "      <td>40.66</td>\n",
       "    </tr>\n",
       "    <tr>\n",
       "      <th rowspan=\"3\" valign=\"top\">Albania</th>\n",
       "      <th>2010</th>\n",
       "      <td>37.26</td>\n",
       "      <td>44.03</td>\n",
       "      <td>47.08</td>\n",
       "      <td>40.00</td>\n",
       "      <td>43.18</td>\n",
       "      <td>42.81</td>\n",
       "      <td>46.74</td>\n",
       "      <td>37.30</td>\n",
       "      <td>43.41</td>\n",
       "      <td>45.86</td>\n",
       "      <td>42.38</td>\n",
       "    </tr>\n",
       "    <tr>\n",
       "      <th>2012</th>\n",
       "      <td>37.24</td>\n",
       "      <td>41.31</td>\n",
       "      <td>44.71</td>\n",
       "      <td>37.34</td>\n",
       "      <td>41.34</td>\n",
       "      <td>43.09</td>\n",
       "      <td>47.04</td>\n",
       "      <td>35.35</td>\n",
       "      <td>41.56</td>\n",
       "      <td>44.35</td>\n",
       "      <td>41.21</td>\n",
       "    </tr>\n",
       "    <tr>\n",
       "      <th>2013</th>\n",
       "      <td>38.24</td>\n",
       "      <td>43.15</td>\n",
       "      <td>45.83</td>\n",
       "      <td>39.11</td>\n",
       "      <td>42.90</td>\n",
       "      <td>45.88</td>\n",
       "      <td>48.82</td>\n",
       "      <td>36.18</td>\n",
       "      <td>43.93</td>\n",
       "      <td>45.83</td>\n",
       "      <td>43.56</td>\n",
       "    </tr>\n",
       "    <tr>\n",
       "      <th>...</th>\n",
       "      <th>...</th>\n",
       "      <td>...</td>\n",
       "      <td>...</td>\n",
       "      <td>...</td>\n",
       "      <td>...</td>\n",
       "      <td>...</td>\n",
       "      <td>...</td>\n",
       "      <td>...</td>\n",
       "      <td>...</td>\n",
       "      <td>...</td>\n",
       "      <td>...</td>\n",
       "      <td>...</td>\n",
       "    </tr>\n",
       "    <tr>\n",
       "      <th rowspan=\"3\" valign=\"top\">Zambia</th>\n",
       "      <th>2017</th>\n",
       "      <td>36.22</td>\n",
       "      <td>42.43</td>\n",
       "      <td>45.15</td>\n",
       "      <td>41.01</td>\n",
       "      <td>42.16</td>\n",
       "      <td>43.17</td>\n",
       "      <td>46.71</td>\n",
       "      <td>26.10</td>\n",
       "      <td>40.48</td>\n",
       "      <td>52.54</td>\n",
       "      <td>37.74</td>\n",
       "    </tr>\n",
       "    <tr>\n",
       "      <th>2018</th>\n",
       "      <td>35.71</td>\n",
       "      <td>41.81</td>\n",
       "      <td>44.47</td>\n",
       "      <td>40.46</td>\n",
       "      <td>42.77</td>\n",
       "      <td>45.62</td>\n",
       "      <td>46.73</td>\n",
       "      <td>22.04</td>\n",
       "      <td>39.85</td>\n",
       "      <td>52.19</td>\n",
       "      <td>42.57</td>\n",
       "    </tr>\n",
       "    <tr>\n",
       "      <th>2019</th>\n",
       "      <td>38.56</td>\n",
       "      <td>44.26</td>\n",
       "      <td>46.12</td>\n",
       "      <td>40.59</td>\n",
       "      <td>40.55</td>\n",
       "      <td>44.95</td>\n",
       "      <td>47.37</td>\n",
       "      <td>27.29</td>\n",
       "      <td>41.18</td>\n",
       "      <td>53.81</td>\n",
       "      <td>39.25</td>\n",
       "    </tr>\n",
       "    <tr>\n",
       "      <th rowspan=\"2\" valign=\"top\">Zimbabwe</th>\n",
       "      <th>2014</th>\n",
       "      <td>25.93</td>\n",
       "      <td>33.52</td>\n",
       "      <td>45.09</td>\n",
       "      <td>37.76</td>\n",
       "      <td>42.23</td>\n",
       "      <td>39.23</td>\n",
       "      <td>46.29</td>\n",
       "      <td>20.97</td>\n",
       "      <td>39.17</td>\n",
       "      <td>50.29</td>\n",
       "      <td>42.92</td>\n",
       "    </tr>\n",
       "    <tr>\n",
       "      <th>2019</th>\n",
       "      <td>35.06</td>\n",
       "      <td>42.06</td>\n",
       "      <td>47.54</td>\n",
       "      <td>40.64</td>\n",
       "      <td>43.29</td>\n",
       "      <td>42.88</td>\n",
       "      <td>47.05</td>\n",
       "      <td>25.35</td>\n",
       "      <td>38.61</td>\n",
       "      <td>45.14</td>\n",
       "      <td>39.66</td>\n",
       "    </tr>\n",
       "  </tbody>\n",
       "</table>\n",
       "<p>843 rows × 11 columns</p>\n",
       "</div>"
      ],
      "text/plain": [
       "                  Female   Male  Managers  Professionals  \\\n",
       "country     year                                           \n",
       "Afghanistan 2014   24.44  41.06     45.28          33.91   \n",
       "            2017   21.14  42.64     45.51          33.94   \n",
       "Albania     2010   37.26  44.03     47.08          40.00   \n",
       "            2012   37.24  41.31     44.71          37.34   \n",
       "            2013   38.24  43.15     45.83          39.11   \n",
       "...                  ...    ...       ...            ...   \n",
       "Zambia      2017   36.22  42.43     45.15          41.01   \n",
       "            2018   35.71  41.81     44.47          40.46   \n",
       "            2019   38.56  44.26     46.12          40.59   \n",
       "Zimbabwe    2014   25.93  33.52     45.09          37.76   \n",
       "            2019   35.06  42.06     47.54          40.64   \n",
       "\n",
       "                  Technicians and associate professionals  \\\n",
       "country     year                                            \n",
       "Afghanistan 2014                                    40.75   \n",
       "            2017                                    43.40   \n",
       "Albania     2010                                    43.18   \n",
       "            2012                                    41.34   \n",
       "            2013                                    42.90   \n",
       "...                                                   ...   \n",
       "Zambia      2017                                    42.16   \n",
       "            2018                                    42.77   \n",
       "            2019                                    40.55   \n",
       "Zimbabwe    2014                                    42.23   \n",
       "            2019                                    43.29   \n",
       "\n",
       "                  Clerical support workers  Service and sales workers  \\\n",
       "country     year                                                        \n",
       "Afghanistan 2014                     45.05                      53.51   \n",
       "            2017                     46.85                      52.23   \n",
       "Albania     2010                     42.81                      46.74   \n",
       "            2012                     43.09                      47.04   \n",
       "            2013                     45.88                      48.82   \n",
       "...                                    ...                        ...   \n",
       "Zambia      2017                     43.17                      46.71   \n",
       "            2018                     45.62                      46.73   \n",
       "            2019                     44.95                      47.37   \n",
       "Zimbabwe    2014                     39.23                      46.29   \n",
       "            2019                     42.88                      47.05   \n",
       "\n",
       "                  Skilled agricultural, forestry and fishery workers  \\\n",
       "country     year                                                       \n",
       "Afghanistan 2014                                              31.64    \n",
       "            2017                                              29.50    \n",
       "Albania     2010                                              37.30    \n",
       "            2012                                              35.35    \n",
       "            2013                                              36.18    \n",
       "...                                                             ...    \n",
       "Zambia      2017                                              26.10    \n",
       "            2018                                              22.04    \n",
       "            2019                                              27.29    \n",
       "Zimbabwe    2014                                              20.97    \n",
       "            2019                                              25.35    \n",
       "\n",
       "                  Craft and related trades workers  \\\n",
       "country     year                                     \n",
       "Afghanistan 2014                             38.37   \n",
       "            2017                             37.30   \n",
       "Albania     2010                             43.41   \n",
       "            2012                             41.56   \n",
       "            2013                             43.93   \n",
       "...                                            ...   \n",
       "Zambia      2017                             40.48   \n",
       "            2018                             39.85   \n",
       "            2019                             41.18   \n",
       "Zimbabwe    2014                             39.17   \n",
       "            2019                             38.61   \n",
       "\n",
       "                  Plant and machine operators, and assemblers  \\\n",
       "country     year                                                \n",
       "Afghanistan 2014                                        47.65   \n",
       "            2017                                        47.91   \n",
       "Albania     2010                                        45.86   \n",
       "            2012                                        44.35   \n",
       "            2013                                        45.83   \n",
       "...                                                       ...   \n",
       "Zambia      2017                                        52.54   \n",
       "            2018                                        52.19   \n",
       "            2019                                        53.81   \n",
       "Zimbabwe    2014                                        50.29   \n",
       "            2019                                        45.14   \n",
       "\n",
       "                  Elementary occupations  \n",
       "country     year                          \n",
       "Afghanistan 2014                   39.95  \n",
       "            2017                   40.66  \n",
       "Albania     2010                   42.38  \n",
       "            2012                   41.21  \n",
       "            2013                   43.56  \n",
       "...                                  ...  \n",
       "Zambia      2017                   37.74  \n",
       "            2018                   42.57  \n",
       "            2019                   39.25  \n",
       "Zimbabwe    2014                   42.92  \n",
       "            2019                   39.66  \n",
       "\n",
       "[843 rows x 11 columns]"
      ]
     },
     "execution_count": 7,
     "metadata": {},
     "output_type": "execute_result"
    }
   ],
   "source": [
    "print(merged_data.isnull().sum())\n",
    "merged_data.drop(columns=['Armed forces occupations', 'X. Not elsewhere classified'], inplace=True)\n",
    "merged_data.dropna(inplace=True)\n",
    "merged_data"
   ]
  },
  {
   "cell_type": "code",
   "execution_count": 8,
   "metadata": {},
   "outputs": [
    {
     "name": "stdout",
     "output_type": "stream",
     "text": [
      "Female                                                0\n",
      "Male                                                  0\n",
      "Managers                                              0\n",
      "Professionals                                         0\n",
      "Technicians and associate professionals               0\n",
      "Clerical support workers                              0\n",
      "Service and sales workers                             0\n",
      "Skilled agricultural, forestry and fishery workers    0\n",
      "Craft and related trades workers                      0\n",
      "Plant and machine operators, and assemblers           0\n",
      "Elementary occupations                                0\n",
      "dtype: int64\n"
     ]
    },
    {
     "data": {
      "text/plain": [
       "Index(['Female', 'Male', 'Managers', 'Professionals',\n",
       "       'Technicians and associate professionals', 'Clerical support workers',\n",
       "       'Service and sales workers',\n",
       "       'Skilled agricultural, forestry and fishery workers',\n",
       "       'Craft and related trades workers',\n",
       "       'Plant and machine operators, and assemblers',\n",
       "       'Elementary occupations'],\n",
       "      dtype='object')"
      ]
     },
     "execution_count": 8,
     "metadata": {},
     "output_type": "execute_result"
    }
   ],
   "source": [
    "print(merged_data.isna().sum())\n",
    "merged_data.columns"
   ]
  },
  {
   "cell_type": "markdown",
   "metadata": {},
   "source": [
    "# K-Means Clustering"
   ]
  },
  {
   "cell_type": "code",
   "execution_count": 9,
   "metadata": {},
   "outputs": [
    {
     "name": "stderr",
     "output_type": "stream",
     "text": [
      "/Users/wenjiayu/anaconda3/lib/python3.11/site-packages/sklearn/cluster/_kmeans.py:1412: FutureWarning: The default value of `n_init` will change from 10 to 'auto' in 1.4. Set the value of `n_init` explicitly to suppress the warning\n",
      "  super()._check_params_vs_input(X, default_n_init=10)\n"
     ]
    }
   ],
   "source": [
    "kmeans = KMeans(n_clusters=4, random_state=42).fit(merged_data)"
   ]
  },
  {
   "cell_type": "code",
   "execution_count": 10,
   "metadata": {},
   "outputs": [
    {
     "data": {
      "text/html": [
       "<div>\n",
       "<style scoped>\n",
       "    .dataframe tbody tr th:only-of-type {\n",
       "        vertical-align: middle;\n",
       "    }\n",
       "\n",
       "    .dataframe tbody tr th {\n",
       "        vertical-align: top;\n",
       "    }\n",
       "\n",
       "    .dataframe thead th {\n",
       "        text-align: right;\n",
       "    }\n",
       "</style>\n",
       "<table border=\"1\" class=\"dataframe\">\n",
       "  <thead>\n",
       "    <tr style=\"text-align: right;\">\n",
       "      <th></th>\n",
       "      <th></th>\n",
       "      <th>Female</th>\n",
       "      <th>Male</th>\n",
       "      <th>Managers</th>\n",
       "      <th>Professionals</th>\n",
       "      <th>Technicians and associate professionals</th>\n",
       "      <th>Clerical support workers</th>\n",
       "      <th>Service and sales workers</th>\n",
       "      <th>Skilled agricultural, forestry and fishery workers</th>\n",
       "      <th>Craft and related trades workers</th>\n",
       "      <th>Plant and machine operators, and assemblers</th>\n",
       "      <th>Elementary occupations</th>\n",
       "      <th>Cluster</th>\n",
       "    </tr>\n",
       "    <tr>\n",
       "      <th>country</th>\n",
       "      <th>year</th>\n",
       "      <th></th>\n",
       "      <th></th>\n",
       "      <th></th>\n",
       "      <th></th>\n",
       "      <th></th>\n",
       "      <th></th>\n",
       "      <th></th>\n",
       "      <th></th>\n",
       "      <th></th>\n",
       "      <th></th>\n",
       "      <th></th>\n",
       "      <th></th>\n",
       "    </tr>\n",
       "  </thead>\n",
       "  <tbody>\n",
       "    <tr>\n",
       "      <th rowspan=\"2\" valign=\"top\">Afghanistan</th>\n",
       "      <th>2014</th>\n",
       "      <td>24.44</td>\n",
       "      <td>41.06</td>\n",
       "      <td>45.28</td>\n",
       "      <td>33.91</td>\n",
       "      <td>40.75</td>\n",
       "      <td>45.05</td>\n",
       "      <td>53.51</td>\n",
       "      <td>31.64</td>\n",
       "      <td>38.37</td>\n",
       "      <td>47.65</td>\n",
       "      <td>39.95</td>\n",
       "      <td>3</td>\n",
       "    </tr>\n",
       "    <tr>\n",
       "      <th>2017</th>\n",
       "      <td>21.14</td>\n",
       "      <td>42.64</td>\n",
       "      <td>45.51</td>\n",
       "      <td>33.94</td>\n",
       "      <td>43.40</td>\n",
       "      <td>46.85</td>\n",
       "      <td>52.23</td>\n",
       "      <td>29.50</td>\n",
       "      <td>37.30</td>\n",
       "      <td>47.91</td>\n",
       "      <td>40.66</td>\n",
       "      <td>3</td>\n",
       "    </tr>\n",
       "    <tr>\n",
       "      <th rowspan=\"3\" valign=\"top\">Albania</th>\n",
       "      <th>2010</th>\n",
       "      <td>37.26</td>\n",
       "      <td>44.03</td>\n",
       "      <td>47.08</td>\n",
       "      <td>40.00</td>\n",
       "      <td>43.18</td>\n",
       "      <td>42.81</td>\n",
       "      <td>46.74</td>\n",
       "      <td>37.30</td>\n",
       "      <td>43.41</td>\n",
       "      <td>45.86</td>\n",
       "      <td>42.38</td>\n",
       "      <td>0</td>\n",
       "    </tr>\n",
       "    <tr>\n",
       "      <th>2012</th>\n",
       "      <td>37.24</td>\n",
       "      <td>41.31</td>\n",
       "      <td>44.71</td>\n",
       "      <td>37.34</td>\n",
       "      <td>41.34</td>\n",
       "      <td>43.09</td>\n",
       "      <td>47.04</td>\n",
       "      <td>35.35</td>\n",
       "      <td>41.56</td>\n",
       "      <td>44.35</td>\n",
       "      <td>41.21</td>\n",
       "      <td>3</td>\n",
       "    </tr>\n",
       "    <tr>\n",
       "      <th>2013</th>\n",
       "      <td>38.24</td>\n",
       "      <td>43.15</td>\n",
       "      <td>45.83</td>\n",
       "      <td>39.11</td>\n",
       "      <td>42.90</td>\n",
       "      <td>45.88</td>\n",
       "      <td>48.82</td>\n",
       "      <td>36.18</td>\n",
       "      <td>43.93</td>\n",
       "      <td>45.83</td>\n",
       "      <td>43.56</td>\n",
       "      <td>0</td>\n",
       "    </tr>\n",
       "    <tr>\n",
       "      <th>...</th>\n",
       "      <th>...</th>\n",
       "      <td>...</td>\n",
       "      <td>...</td>\n",
       "      <td>...</td>\n",
       "      <td>...</td>\n",
       "      <td>...</td>\n",
       "      <td>...</td>\n",
       "      <td>...</td>\n",
       "      <td>...</td>\n",
       "      <td>...</td>\n",
       "      <td>...</td>\n",
       "      <td>...</td>\n",
       "      <td>...</td>\n",
       "    </tr>\n",
       "    <tr>\n",
       "      <th rowspan=\"3\" valign=\"top\">Zambia</th>\n",
       "      <th>2017</th>\n",
       "      <td>36.22</td>\n",
       "      <td>42.43</td>\n",
       "      <td>45.15</td>\n",
       "      <td>41.01</td>\n",
       "      <td>42.16</td>\n",
       "      <td>43.17</td>\n",
       "      <td>46.71</td>\n",
       "      <td>26.10</td>\n",
       "      <td>40.48</td>\n",
       "      <td>52.54</td>\n",
       "      <td>37.74</td>\n",
       "      <td>3</td>\n",
       "    </tr>\n",
       "    <tr>\n",
       "      <th>2018</th>\n",
       "      <td>35.71</td>\n",
       "      <td>41.81</td>\n",
       "      <td>44.47</td>\n",
       "      <td>40.46</td>\n",
       "      <td>42.77</td>\n",
       "      <td>45.62</td>\n",
       "      <td>46.73</td>\n",
       "      <td>22.04</td>\n",
       "      <td>39.85</td>\n",
       "      <td>52.19</td>\n",
       "      <td>42.57</td>\n",
       "      <td>3</td>\n",
       "    </tr>\n",
       "    <tr>\n",
       "      <th>2019</th>\n",
       "      <td>38.56</td>\n",
       "      <td>44.26</td>\n",
       "      <td>46.12</td>\n",
       "      <td>40.59</td>\n",
       "      <td>40.55</td>\n",
       "      <td>44.95</td>\n",
       "      <td>47.37</td>\n",
       "      <td>27.29</td>\n",
       "      <td>41.18</td>\n",
       "      <td>53.81</td>\n",
       "      <td>39.25</td>\n",
       "      <td>3</td>\n",
       "    </tr>\n",
       "    <tr>\n",
       "      <th rowspan=\"2\" valign=\"top\">Zimbabwe</th>\n",
       "      <th>2014</th>\n",
       "      <td>25.93</td>\n",
       "      <td>33.52</td>\n",
       "      <td>45.09</td>\n",
       "      <td>37.76</td>\n",
       "      <td>42.23</td>\n",
       "      <td>39.23</td>\n",
       "      <td>46.29</td>\n",
       "      <td>20.97</td>\n",
       "      <td>39.17</td>\n",
       "      <td>50.29</td>\n",
       "      <td>42.92</td>\n",
       "      <td>3</td>\n",
       "    </tr>\n",
       "    <tr>\n",
       "      <th>2019</th>\n",
       "      <td>35.06</td>\n",
       "      <td>42.06</td>\n",
       "      <td>47.54</td>\n",
       "      <td>40.64</td>\n",
       "      <td>43.29</td>\n",
       "      <td>42.88</td>\n",
       "      <td>47.05</td>\n",
       "      <td>25.35</td>\n",
       "      <td>38.61</td>\n",
       "      <td>45.14</td>\n",
       "      <td>39.66</td>\n",
       "      <td>3</td>\n",
       "    </tr>\n",
       "  </tbody>\n",
       "</table>\n",
       "<p>843 rows × 12 columns</p>\n",
       "</div>"
      ],
      "text/plain": [
       "                  Female   Male  Managers  Professionals  \\\n",
       "country     year                                           \n",
       "Afghanistan 2014   24.44  41.06     45.28          33.91   \n",
       "            2017   21.14  42.64     45.51          33.94   \n",
       "Albania     2010   37.26  44.03     47.08          40.00   \n",
       "            2012   37.24  41.31     44.71          37.34   \n",
       "            2013   38.24  43.15     45.83          39.11   \n",
       "...                  ...    ...       ...            ...   \n",
       "Zambia      2017   36.22  42.43     45.15          41.01   \n",
       "            2018   35.71  41.81     44.47          40.46   \n",
       "            2019   38.56  44.26     46.12          40.59   \n",
       "Zimbabwe    2014   25.93  33.52     45.09          37.76   \n",
       "            2019   35.06  42.06     47.54          40.64   \n",
       "\n",
       "                  Technicians and associate professionals  \\\n",
       "country     year                                            \n",
       "Afghanistan 2014                                    40.75   \n",
       "            2017                                    43.40   \n",
       "Albania     2010                                    43.18   \n",
       "            2012                                    41.34   \n",
       "            2013                                    42.90   \n",
       "...                                                   ...   \n",
       "Zambia      2017                                    42.16   \n",
       "            2018                                    42.77   \n",
       "            2019                                    40.55   \n",
       "Zimbabwe    2014                                    42.23   \n",
       "            2019                                    43.29   \n",
       "\n",
       "                  Clerical support workers  Service and sales workers  \\\n",
       "country     year                                                        \n",
       "Afghanistan 2014                     45.05                      53.51   \n",
       "            2017                     46.85                      52.23   \n",
       "Albania     2010                     42.81                      46.74   \n",
       "            2012                     43.09                      47.04   \n",
       "            2013                     45.88                      48.82   \n",
       "...                                    ...                        ...   \n",
       "Zambia      2017                     43.17                      46.71   \n",
       "            2018                     45.62                      46.73   \n",
       "            2019                     44.95                      47.37   \n",
       "Zimbabwe    2014                     39.23                      46.29   \n",
       "            2019                     42.88                      47.05   \n",
       "\n",
       "                  Skilled agricultural, forestry and fishery workers  \\\n",
       "country     year                                                       \n",
       "Afghanistan 2014                                              31.64    \n",
       "            2017                                              29.50    \n",
       "Albania     2010                                              37.30    \n",
       "            2012                                              35.35    \n",
       "            2013                                              36.18    \n",
       "...                                                             ...    \n",
       "Zambia      2017                                              26.10    \n",
       "            2018                                              22.04    \n",
       "            2019                                              27.29    \n",
       "Zimbabwe    2014                                              20.97    \n",
       "            2019                                              25.35    \n",
       "\n",
       "                  Craft and related trades workers  \\\n",
       "country     year                                     \n",
       "Afghanistan 2014                             38.37   \n",
       "            2017                             37.30   \n",
       "Albania     2010                             43.41   \n",
       "            2012                             41.56   \n",
       "            2013                             43.93   \n",
       "...                                            ...   \n",
       "Zambia      2017                             40.48   \n",
       "            2018                             39.85   \n",
       "            2019                             41.18   \n",
       "Zimbabwe    2014                             39.17   \n",
       "            2019                             38.61   \n",
       "\n",
       "                  Plant and machine operators, and assemblers  \\\n",
       "country     year                                                \n",
       "Afghanistan 2014                                        47.65   \n",
       "            2017                                        47.91   \n",
       "Albania     2010                                        45.86   \n",
       "            2012                                        44.35   \n",
       "            2013                                        45.83   \n",
       "...                                                       ...   \n",
       "Zambia      2017                                        52.54   \n",
       "            2018                                        52.19   \n",
       "            2019                                        53.81   \n",
       "Zimbabwe    2014                                        50.29   \n",
       "            2019                                        45.14   \n",
       "\n",
       "                  Elementary occupations Cluster  \n",
       "country     year                                  \n",
       "Afghanistan 2014                   39.95       3  \n",
       "            2017                   40.66       3  \n",
       "Albania     2010                   42.38       0  \n",
       "            2012                   41.21       3  \n",
       "            2013                   43.56       0  \n",
       "...                                  ...     ...  \n",
       "Zambia      2017                   37.74       3  \n",
       "            2018                   42.57       3  \n",
       "            2019                   39.25       3  \n",
       "Zimbabwe    2014                   42.92       3  \n",
       "            2019                   39.66       3  \n",
       "\n",
       "[843 rows x 12 columns]"
      ]
     },
     "execution_count": 10,
     "metadata": {},
     "output_type": "execute_result"
    }
   ],
   "source": [
    "labels = kmeans.labels_\n",
    "merged_data['Cluster'] = labels\n",
    "merged_data['Cluster'] = merged_data['Cluster'].astype(str)\n",
    "merged_data"
   ]
  },
  {
   "cell_type": "code",
   "execution_count": 11,
   "metadata": {},
   "outputs": [],
   "source": [
    "df = merged_data.groupby('Cluster', as_index=False).mean()"
   ]
  },
  {
   "cell_type": "markdown",
   "metadata": {},
   "source": [
    "## Plot the profiles of the clusters"
   ]
  },
  {
   "cell_type": "code",
   "execution_count": 12,
   "metadata": {},
   "outputs": [
    {
     "data": {
      "image/png": "[encoded data removed]",
      "text/plain": [
       "<Figure size 1000x600 with 1 Axes>"
      ]
     },
     "metadata": {},
     "output_type": "display_data"
    }
   ],
   "source": [
    "# Get the Set3 color palette\n",
    "colors = sns.color_palette(\"Set3\", n_colors=len(df))\n",
    "\n",
    "# Line chart\n",
    "# Remove the 'Cluster' column for the x-axis labels\n",
    "x = df.columns.drop('Cluster')\n",
    "\n",
    "# Plotting\n",
    "plt.figure(figsize=(10, 6))\n",
    "\n",
    "# Set the background color to light grey\n",
    "plt.gca().set_facecolor('#f0f0f0')\n",
    "plt.gcf().set_facecolor('#f0f0f0')\n",
    "\n",
    "# Loop through each row in the DataFrame (each cluster)\n",
    "for index, (_, row) in enumerate(df.iterrows()):\n",
    "    plt.plot(x, row.drop('Cluster'), marker='o', label=f'Cluster {row[\"Cluster\"]}', color=colors[index])\n",
    "\n",
    "# Set x-axis labels and title\n",
    "plt.xlabel('Category', fontsize=14)\n",
    "plt.ylabel('Working Hours', fontsize=14)\n",
    "# plt.title('Cluster Profiles', fontsize=16) \n",
    "\n",
    "# Rotate x-axis labels if needed\n",
    "plt.xticks(rotation=45, ha='right')\n",
    "\n",
    "# Add a legend to identify clusters\n",
    "plt.legend(title='Cluster', loc='upper left')\n",
    "\n",
    "# Display the plot\n",
    "plt.tight_layout()\n",
    "plt.show()"
   ]
  },
  {
   "cell_type": "code",
   "execution_count": 13,
   "metadata": {},
   "outputs": [],
   "source": [
    "# # Assuming your dataframe is called 'df'\n",
    "# categories = df.columns[1:]  # Exclude the 'cluster' column\n",
    "\n",
    "# # Melt the dataframe to create a long format\n",
    "# melted_df = pd.melt(df, id_vars='cluster', value_vars=categories, var_name='Category', value_name='Average Working Hours')\n",
    "# melted_df"
   ]
  },
  {
   "cell_type": "code",
   "execution_count": 14,
   "metadata": {},
   "outputs": [],
   "source": [
    "# FacetGrid\n",
    "# # Create a FacetGrid with 11 facets (one for each category)\n",
    "# g = sns.FacetGrid(melted_df, col='Category', col_wrap=4, sharex=False, sharey=True)\n",
    "\n",
    "# # Define a custom color palette for the clusters\n",
    "# num_clusters = len(df['cluster'].unique())\n",
    "\n",
    "# # Default colormap\n",
    "# # colors = [mcolors.rgb2hex(plt.cm.tab10(i)) for i in range(num_clusters)]\n",
    "\n",
    "# # Using the Set1 colormap\n",
    "# # colors = [mcolors.rgb2hex(plt.cm.Set1(i/num_clusters)) for i in range(num_clusters)]\n",
    "\n",
    "# # Using the Accent colormap\n",
    "# # colors = [mcolors.rgb2hex(plt.cm.Accent(i/num_clusters)) for i in range(num_clusters)]\n",
    "\n",
    "# # Using the Paired colormap\n",
    "# # colors = [mcolors.rgb2hex(plt.cm.Paired(i/num_clusters)) for i in range(num_clusters)]\n",
    "\n",
    "# # Using the Pastel1 colormap\n",
    "# colors = [mcolors.rgb2hex(plt.cm.Pastel1(i/num_clusters)) for i in range(num_clusters)]\n",
    "\n",
    "# # Map a bar plot to each facet\n",
    "# g = g.map_dataframe(sns.barplot, x='cluster', y='Average Working Hours', \n",
    "#                     order=sorted(df['cluster'].unique()), palette=colors)\n",
    "\n",
    "# # Adjust the layout and styling\n",
    "# g.set_titles(\"{col_name}\")  # Set the titles for each facet\n",
    "# g.set_axis_labels(\"Cluster\", \"Average Working Hours\")  # Set the axis labels\n",
    "\n",
    "# g.figure.subplots_adjust(top=0.9, # Adjust the top margin to prevent overlap with titles\n",
    "#                          wspace=0.4, hspace=0.5)  # Adjust the width and height spacing\n",
    "# g.figure.suptitle(\"Mean Weekly Working Hours by Cluster and Category\", fontsize=16)  # Set the overall title\n",
    "\n",
    "# plt.show()"
   ]
  },
  {
   "cell_type": "markdown",
   "metadata": {},
   "source": [
    "## Plot the clusters on map"
   ]
  },
  {
   "cell_type": "code",
   "execution_count": 15,
   "metadata": {},
   "outputs": [
    {
     "data": {
      "text/html": [
       "<div>\n",
       "<style scoped>\n",
       "    .dataframe tbody tr th:only-of-type {\n",
       "        vertical-align: middle;\n",
       "    }\n",
       "\n",
       "    .dataframe tbody tr th {\n",
       "        vertical-align: top;\n",
       "    }\n",
       "\n",
       "    .dataframe thead th {\n",
       "        text-align: right;\n",
       "    }\n",
       "</style>\n",
       "<table border=\"1\" class=\"dataframe\">\n",
       "  <thead>\n",
       "    <tr style=\"text-align: right;\">\n",
       "      <th></th>\n",
       "      <th>ISO code</th>\n",
       "      <th>Country</th>\n",
       "    </tr>\n",
       "  </thead>\n",
       "  <tbody>\n",
       "    <tr>\n",
       "      <th>0</th>\n",
       "      <td>ABW</td>\n",
       "      <td>Aruba</td>\n",
       "    </tr>\n",
       "    <tr>\n",
       "      <th>1</th>\n",
       "      <td>AFG</td>\n",
       "      <td>Afghanistan</td>\n",
       "    </tr>\n",
       "    <tr>\n",
       "      <th>2</th>\n",
       "      <td>AGO</td>\n",
       "      <td>Angola</td>\n",
       "    </tr>\n",
       "    <tr>\n",
       "      <th>3</th>\n",
       "      <td>AIA</td>\n",
       "      <td>Anguilla</td>\n",
       "    </tr>\n",
       "    <tr>\n",
       "      <th>4</th>\n",
       "      <td>ALA</td>\n",
       "      <td>Åland Islands</td>\n",
       "    </tr>\n",
       "    <tr>\n",
       "      <th>...</th>\n",
       "      <td>...</td>\n",
       "      <td>...</td>\n",
       "    </tr>\n",
       "    <tr>\n",
       "      <th>244</th>\n",
       "      <td>WSM</td>\n",
       "      <td>Samoa</td>\n",
       "    </tr>\n",
       "    <tr>\n",
       "      <th>245</th>\n",
       "      <td>YEM</td>\n",
       "      <td>Yemen</td>\n",
       "    </tr>\n",
       "    <tr>\n",
       "      <th>246</th>\n",
       "      <td>ZAF</td>\n",
       "      <td>South Africa</td>\n",
       "    </tr>\n",
       "    <tr>\n",
       "      <th>247</th>\n",
       "      <td>ZMB</td>\n",
       "      <td>Zambia</td>\n",
       "    </tr>\n",
       "    <tr>\n",
       "      <th>248</th>\n",
       "      <td>ZWE</td>\n",
       "      <td>Zimbabwe</td>\n",
       "    </tr>\n",
       "  </tbody>\n",
       "</table>\n",
       "<p>249 rows × 2 columns</p>\n",
       "</div>"
      ],
      "text/plain": [
       "    ISO code        Country\n",
       "0        ABW          Aruba\n",
       "1        AFG    Afghanistan\n",
       "2        AGO         Angola\n",
       "3        AIA       Anguilla\n",
       "4        ALA  Åland Islands\n",
       "..       ...            ...\n",
       "244      WSM          Samoa\n",
       "245      YEM          Yemen\n",
       "246      ZAF   South Africa\n",
       "247      ZMB         Zambia\n",
       "248      ZWE       Zimbabwe\n",
       "\n",
       "[249 rows x 2 columns]"
      ]
     },
     "execution_count": 15,
     "metadata": {},
     "output_type": "execute_result"
    }
   ],
   "source": [
    "# Country code data\n",
    "country_code = pd.read_csv('~/Desktop/2-硕士/MY498/Data/country_code.csv')[['alpha3', 'name']]\n",
    "country_code['alpha3'] = country_code['alpha3'].str.upper()\n",
    "country_code.columns = ['ISO code', 'Country']\n",
    "country_code = country_code.sort_values(by='ISO code').reset_index(drop=True)\n",
    "country_code"
   ]
  },
  {
   "cell_type": "code",
   "execution_count": 16,
   "metadata": {},
   "outputs": [
    {
     "data": {
      "text/html": [
       "<div>\n",
       "<style scoped>\n",
       "    .dataframe tbody tr th:only-of-type {\n",
       "        vertical-align: middle;\n",
       "    }\n",
       "\n",
       "    .dataframe tbody tr th {\n",
       "        vertical-align: top;\n",
       "    }\n",
       "\n",
       "    .dataframe thead th {\n",
       "        text-align: right;\n",
       "    }\n",
       "</style>\n",
       "<table border=\"1\" class=\"dataframe\">\n",
       "  <thead>\n",
       "    <tr style=\"text-align: right;\">\n",
       "      <th></th>\n",
       "      <th>country</th>\n",
       "      <th>year</th>\n",
       "      <th>Cluster</th>\n",
       "      <th>ISO code</th>\n",
       "      <th>Country</th>\n",
       "    </tr>\n",
       "  </thead>\n",
       "  <tbody>\n",
       "    <tr>\n",
       "      <th>0</th>\n",
       "      <td>Republic of Korea</td>\n",
       "      <td>2000</td>\n",
       "      <td>0</td>\n",
       "      <td>NaN</td>\n",
       "      <td>NaN</td>\n",
       "    </tr>\n",
       "    <tr>\n",
       "      <th>1</th>\n",
       "      <td>Australia</td>\n",
       "      <td>2000</td>\n",
       "      <td>1</td>\n",
       "      <td>AUS</td>\n",
       "      <td>Australia</td>\n",
       "    </tr>\n",
       "    <tr>\n",
       "      <th>2</th>\n",
       "      <td>Switzerland</td>\n",
       "      <td>2000</td>\n",
       "      <td>1</td>\n",
       "      <td>CHE</td>\n",
       "      <td>Switzerland</td>\n",
       "    </tr>\n",
       "    <tr>\n",
       "      <th>3</th>\n",
       "      <td>Republic of Moldova</td>\n",
       "      <td>2000</td>\n",
       "      <td>2</td>\n",
       "      <td>NaN</td>\n",
       "      <td>NaN</td>\n",
       "    </tr>\n",
       "    <tr>\n",
       "      <th>4</th>\n",
       "      <td>Slovakia</td>\n",
       "      <td>2000</td>\n",
       "      <td>2</td>\n",
       "      <td>SVK</td>\n",
       "      <td>Slovakia</td>\n",
       "    </tr>\n",
       "    <tr>\n",
       "      <th>...</th>\n",
       "      <td>...</td>\n",
       "      <td>...</td>\n",
       "      <td>...</td>\n",
       "      <td>...</td>\n",
       "      <td>...</td>\n",
       "    </tr>\n",
       "    <tr>\n",
       "      <th>838</th>\n",
       "      <td>Vanuatu</td>\n",
       "      <td>2019</td>\n",
       "      <td>3</td>\n",
       "      <td>VUT</td>\n",
       "      <td>Vanuatu</td>\n",
       "    </tr>\n",
       "    <tr>\n",
       "      <th>839</th>\n",
       "      <td>Viet Nam</td>\n",
       "      <td>2019</td>\n",
       "      <td>3</td>\n",
       "      <td>VNM</td>\n",
       "      <td>Viet Nam</td>\n",
       "    </tr>\n",
       "    <tr>\n",
       "      <th>840</th>\n",
       "      <td>Wallis and Futuna</td>\n",
       "      <td>2019</td>\n",
       "      <td>3</td>\n",
       "      <td>WLF</td>\n",
       "      <td>Wallis and Futuna</td>\n",
       "    </tr>\n",
       "    <tr>\n",
       "      <th>841</th>\n",
       "      <td>Zambia</td>\n",
       "      <td>2019</td>\n",
       "      <td>3</td>\n",
       "      <td>ZMB</td>\n",
       "      <td>Zambia</td>\n",
       "    </tr>\n",
       "    <tr>\n",
       "      <th>842</th>\n",
       "      <td>Zimbabwe</td>\n",
       "      <td>2019</td>\n",
       "      <td>3</td>\n",
       "      <td>ZWE</td>\n",
       "      <td>Zimbabwe</td>\n",
       "    </tr>\n",
       "  </tbody>\n",
       "</table>\n",
       "<p>843 rows × 5 columns</p>\n",
       "</div>"
      ],
      "text/plain": [
       "                 country  year Cluster ISO code            Country\n",
       "0      Republic of Korea  2000       0      NaN                NaN\n",
       "1              Australia  2000       1      AUS          Australia\n",
       "2            Switzerland  2000       1      CHE        Switzerland\n",
       "3    Republic of Moldova  2000       2      NaN                NaN\n",
       "4               Slovakia  2000       2      SVK           Slovakia\n",
       "..                   ...   ...     ...      ...                ...\n",
       "838              Vanuatu  2019       3      VUT            Vanuatu\n",
       "839             Viet Nam  2019       3      VNM           Viet Nam\n",
       "840    Wallis and Futuna  2019       3      WLF  Wallis and Futuna\n",
       "841               Zambia  2019       3      ZMB             Zambia\n",
       "842             Zimbabwe  2019       3      ZWE           Zimbabwe\n",
       "\n",
       "[843 rows x 5 columns]"
      ]
     },
     "execution_count": 16,
     "metadata": {},
     "output_type": "execute_result"
    }
   ],
   "source": [
    "df_plot = merged_data[['Cluster']].reset_index()\n",
    "# Sort the dataframe by year and cluster\n",
    "df_plot = df_plot.sort_values(by=['year','Cluster']).reset_index(drop=True)\n",
    "# Check unmatched countries\n",
    "df_plot = pd.merge(df_plot, country_code, left_on='country', right_on='Country', how='left')\n",
    "df_plot"
   ]
  },
  {
   "cell_type": "code",
   "execution_count": 17,
   "metadata": {},
   "outputs": [
    {
     "name": "stdout",
     "output_type": "stream",
     "text": [
      "Republic of Korea\n",
      "Republic of Moldova\n",
      "Iran (Islamic Republic of)\n",
      "Occupied Palestinian Territory\n",
      "Hong Kong, China\n",
      "Micronesia (Federated States of)\n",
      "Kosovo\n",
      "Bolivia (Plurinational State of)\n"
     ]
    },
    {
     "data": {
      "text/plain": [
       "country      0\n",
       "year         0\n",
       "Cluster      0\n",
       "ISO code    11\n",
       "Country     71\n",
       "dtype: int64"
      ]
     },
     "execution_count": 17,
     "metadata": {},
     "output_type": "execute_result"
    }
   ],
   "source": [
    "unmatch_country_names = df_plot.loc[df_plot['Country'].isnull(), 'country'].unique()\n",
    "for country in unmatch_country_names:\n",
    "    print(country)\n",
    "iso_codes_for_unmatched_countries = ['KOR', 'MDA', 'IRN', None,\n",
    "                                     'HKG', 'FSM', None, 'BOL']\n",
    "\n",
    "for iso_code, country in zip(iso_codes_for_unmatched_countries, unmatch_country_names):\n",
    "    df_plot.loc[df_plot['country']==country, 'ISO code'] = iso_code\n",
    "\n",
    "df_plot.isnull().sum()"
   ]
  },
  {
   "cell_type": "code",
   "execution_count": 18,
   "metadata": {},
   "outputs": [
    {
     "data": {
      "text/html": [
       "<div>\n",
       "<style scoped>\n",
       "    .dataframe tbody tr th:only-of-type {\n",
       "        vertical-align: middle;\n",
       "    }\n",
       "\n",
       "    .dataframe tbody tr th {\n",
       "        vertical-align: top;\n",
       "    }\n",
       "\n",
       "    .dataframe thead th {\n",
       "        text-align: right;\n",
       "    }\n",
       "</style>\n",
       "<table border=\"1\" class=\"dataframe\">\n",
       "  <thead>\n",
       "    <tr style=\"text-align: right;\">\n",
       "      <th></th>\n",
       "      <th>ISO code</th>\n",
       "      <th>year</th>\n",
       "      <th>Cluster</th>\n",
       "    </tr>\n",
       "  </thead>\n",
       "  <tbody>\n",
       "    <tr>\n",
       "      <th>10</th>\n",
       "      <td>COL</td>\n",
       "      <td>2002</td>\n",
       "      <td>0</td>\n",
       "    </tr>\n",
       "    <tr>\n",
       "      <th>11</th>\n",
       "      <td>PRY</td>\n",
       "      <td>2002</td>\n",
       "      <td>0</td>\n",
       "    </tr>\n",
       "    <tr>\n",
       "      <th>12</th>\n",
       "      <td>KOR</td>\n",
       "      <td>2002</td>\n",
       "      <td>0</td>\n",
       "    </tr>\n",
       "    <tr>\n",
       "      <th>13</th>\n",
       "      <td>AUS</td>\n",
       "      <td>2002</td>\n",
       "      <td>1</td>\n",
       "    </tr>\n",
       "    <tr>\n",
       "      <th>14</th>\n",
       "      <td>CHE</td>\n",
       "      <td>2002</td>\n",
       "      <td>1</td>\n",
       "    </tr>\n",
       "    <tr>\n",
       "      <th>...</th>\n",
       "      <td>...</td>\n",
       "      <td>...</td>\n",
       "      <td>...</td>\n",
       "    </tr>\n",
       "    <tr>\n",
       "      <th>838</th>\n",
       "      <td>VUT</td>\n",
       "      <td>2019</td>\n",
       "      <td>3</td>\n",
       "    </tr>\n",
       "    <tr>\n",
       "      <th>839</th>\n",
       "      <td>VNM</td>\n",
       "      <td>2019</td>\n",
       "      <td>3</td>\n",
       "    </tr>\n",
       "    <tr>\n",
       "      <th>840</th>\n",
       "      <td>WLF</td>\n",
       "      <td>2019</td>\n",
       "      <td>3</td>\n",
       "    </tr>\n",
       "    <tr>\n",
       "      <th>841</th>\n",
       "      <td>ZMB</td>\n",
       "      <td>2019</td>\n",
       "      <td>3</td>\n",
       "    </tr>\n",
       "    <tr>\n",
       "      <th>842</th>\n",
       "      <td>ZWE</td>\n",
       "      <td>2019</td>\n",
       "      <td>3</td>\n",
       "    </tr>\n",
       "  </tbody>\n",
       "</table>\n",
       "<p>822 rows × 3 columns</p>\n",
       "</div>"
      ],
      "text/plain": [
       "    ISO code  year Cluster\n",
       "10       COL  2002       0\n",
       "11       PRY  2002       0\n",
       "12       KOR  2002       0\n",
       "13       AUS  2002       1\n",
       "14       CHE  2002       1\n",
       "..       ...   ...     ...\n",
       "838      VUT  2019       3\n",
       "839      VNM  2019       3\n",
       "840      WLF  2019       3\n",
       "841      ZMB  2019       3\n",
       "842      ZWE  2019       3\n",
       "\n",
       "[822 rows x 3 columns]"
      ]
     },
     "execution_count": 18,
     "metadata": {},
     "output_type": "execute_result"
    }
   ],
   "source": [
    "df_plot.dropna(subset=['ISO code'], inplace=True)\n",
    "df_plot = df_plot[['ISO code', 'year', 'Cluster']]\n",
    "# Filter out the rows before 2002 because the data does not contain all clusters\n",
    "df_plot = df_plot[df_plot['year'] >= 2002]\n",
    "df_plot"
   ]
  },
  {
   "cell_type": "code",
   "execution_count": 19,
   "metadata": {},
   "outputs": [],
   "source": [
    "# # Load a list of standard country names\n",
    "# standard_countries = [country.name for country in pycountry.countries]\n",
    "\n",
    "# # Create a mapping dictionary for non-standard country names\n",
    "# non_standard_country_mapping = {'Hong Kong, China': 'Hong Kong',\n",
    "#  'Republic of Korea': 'Korea, Republic of',\n",
    "#  'Iran (Islamic Republic of)': 'Iran, Islamic Republic of',\n",
    "#  'Occupied Palestinian Territory': 'Palestine, State of',\n",
    "#  'United States of America': 'United States',\n",
    "#  'Republic of Moldova': 'Moldova, Republic of',\n",
    "#  'United Kingdom of Great Britain and Northern Ireland': 'United Kingdom',\n",
    "#  'Micronesia (Federated States of)': 'Micronesia, Federated States of',\n",
    "#  'Côte d’Ivoire': \"Côte d'Ivoire\",\n",
    "#  'Bolivia (Plurinational State of)': 'Bolivia, Plurinational State of',\n",
    "#  'Congo, Democratic Republic of the': 'Congo, The Democratic Republic of the'\n",
    "# }\n",
    "\n",
    "# # Replace non-standard country names with standard country names\n",
    "# df_plot['country'] = df_plot['country'].replace(non_standard_country_mapping)\n",
    "\n",
    "# # Map the country names to country codes (ISO 3166-1 alpha-3) for plotly\n",
    "# country_code_mapping = {country: pycountry.countries.get(name=country).alpha_3\n",
    "#                         for country in df_plot['country'].unique()\n",
    "#                         if country in standard_countries}\n",
    "\n",
    "# # Apply the mapping to the 'country' column\n",
    "# df_plot['country'] = df_plot['country'].replace(country_code_mapping)"
   ]
  },
  {
   "cell_type": "code",
   "execution_count": 20,
   "metadata": {},
   "outputs": [
    {
     "data": {
      "application/vnd.plotly.v1+json": {
       "config": {
        "plotlyServerURL": "https://plot.ly"
       },
       "data": [
        {
         "colorscale": [
          [
           0,
           "rgb(141,211,199)"
          ],
          [
           1,
           "rgb(141,211,199)"
          ]
         ],
         "geo": "geo",
         "hovertemplate": "<b>%{hovertext}</b><br><br>Cluster=0<br>year=2002<br>ISO code=%{location}<extra></extra>",
         "hovertext": [
          "COL",
          "PRY",
          "KOR"
         ],
         "locations": [
          "COL",
          "PRY",
          "KOR"
         ],
         "name": "0",
         "showlegend": true,
         "showscale": false,
         "type": "choropleth",
         "z": [
          1,
          1,
          1
         ]
        },
        {
         "colorscale": [
          [
           0,
           "rgb(255,255,179)"
          ],
          [
           1,
           "rgb(255,255,179)"
          ]
         ],
         "geo": "geo",
         "hovertemplate": "<b>%{hovertext}</b><br><br>Cluster=1<br>year=2002<br>ISO code=%{location}<extra></extra>",
         "hovertext": [
          "AUS",
          "CHE"
         ],
         "locations": [
          "AUS",
          "CHE"
         ],
         "name": "1",
         "showlegend": true,
         "showscale": false,
         "type": "choropleth",
         "z": [
          1,
          1
         ]
        },
        {
         "colorscale": [
          [
           0,
           "rgb(190,186,218)"
          ],
          [
           1,
           "rgb(190,186,218)"
          ]
         ],
         "geo": "geo",
         "hovertemplate": "<b>%{hovertext}</b><br><br>Cluster=2<br>year=2002<br>ISO code=%{location}<extra></extra>",
         "hovertext": [
          "SVK"
         ],
         "locations": [
          "SVK"
         ],
         "name": "2",
         "showlegend": true,
         "showscale": false,
         "type": "choropleth",
         "z": [
          1
         ]
        },
        {
         "colorscale": [
          [
           0,
           "rgb(251,128,114)"
          ],
          [
           1,
           "rgb(251,128,114)"
          ]
         ],
         "geo": "geo",
         "hovertemplate": "<b>%{hovertext}</b><br><br>Cluster=3<br>year=2002<br>ISO code=%{location}<extra></extra>",
         "hovertext": [
          "MDA"
         ],
         "locations": [
          "MDA"
         ],
         "name": "3",
         "showlegend": true,
         "showscale": false,
         "type": "choropleth",
         "z": [
          1
         ]
        }
       ],
       "frames": [
        {
         "data": [
          {
           "colorscale": [
            [
             0,
             "rgb(141,211,199)"
            ],
            [
             1,
             "rgb(141,211,199)"
            ]
           ],
           "geo": "geo",
           "hovertemplate": "<b>%{hovertext}</b><br><br>Cluster=0<br>year=2002<br>ISO code=%{location}<extra></extra>",
           "hovertext": [
            "COL",
            "PRY",
            "KOR"
           ],
           "locations": [
            "COL",
            "PRY",
            "KOR"
           ],
           "name": "0",
           "showlegend": true,
           "showscale": false,
           "type": "choropleth",
           "z": [
            1,
            1,
            1
           ]
          },
          {
           "colorscale": [
            [
             0,
             "rgb(255,255,179)"
            ],
            [
             1,
             "rgb(255,255,179)"
            ]
           ],
           "geo": "geo",
           "hovertemplate": "<b>%{hovertext}</b><br><br>Cluster=1<br>year=2002<br>ISO code=%{location}<extra></extra>",
           "hovertext": [
            "AUS",
            "CHE"
           ],
           "locations": [
            "AUS",
            "CHE"
           ],
           "name": "1",
           "showlegend": true,
           "showscale": false,
           "type": "choropleth",
           "z": [
            1,
            1
           ]
          },
          {
           "colorscale": [
            [
             0,
             "rgb(190,186,218)"
            ],
            [
             1,
             "rgb(190,186,218)"
            ]
           ],
           "geo": "geo",
           "hovertemplate": "<b>%{hovertext}</b><br><br>Cluster=2<br>year=2002<br>ISO code=%{location}<extra></extra>",
           "hovertext": [
            "SVK"
           ],
           "locations": [
            "SVK"
           ],
           "name": "2",
           "showlegend": true,
           "showscale": false,
           "type": "choropleth",
           "z": [
            1
           ]
          },
          {
           "colorscale": [
            [
             0,
             "rgb(251,128,114)"
            ],
            [
             1,
             "rgb(251,128,114)"
            ]
           ],
           "geo": "geo",
           "hovertemplate": "<b>%{hovertext}</b><br><br>Cluster=3<br>year=2002<br>ISO code=%{location}<extra></extra>",
           "hovertext": [
            "MDA"
           ],
           "locations": [
            "MDA"
           ],
           "name": "3",
           "showlegend": true,
           "showscale": false,
           "type": "choropleth",
           "z": [
            1
           ]
          }
         ],
         "name": "2002"
        },
        {
         "data": [
          {
           "colorscale": [
            [
             0,
             "rgb(141,211,199)"
            ],
            [
             1,
             "rgb(141,211,199)"
            ]
           ],
           "geo": "geo",
           "hovertemplate": "<b>%{hovertext}</b><br><br>Cluster=0<br>year=2003<br>ISO code=%{location}<extra></extra>",
           "hovertext": [
            "COL",
            "PRY",
            "KOR"
           ],
           "locations": [
            "COL",
            "PRY",
            "KOR"
           ],
           "name": "0",
           "showlegend": true,
           "showscale": false,
           "type": "choropleth",
           "z": [
            1,
            1,
            1
           ]
          },
          {
           "colorscale": [
            [
             0,
             "rgb(255,255,179)"
            ],
            [
             1,
             "rgb(255,255,179)"
            ]
           ],
           "geo": "geo",
           "hovertemplate": "<b>%{hovertext}</b><br><br>Cluster=1<br>year=2003<br>ISO code=%{location}<extra></extra>",
           "hovertext": [
            "AUS",
            "CHE"
           ],
           "locations": [
            "AUS",
            "CHE"
           ],
           "name": "1",
           "showlegend": true,
           "showscale": false,
           "type": "choropleth",
           "z": [
            1,
            1
           ]
          },
          {
           "colorscale": [
            [
             0,
             "rgb(190,186,218)"
            ],
            [
             1,
             "rgb(190,186,218)"
            ]
           ],
           "geo": "geo",
           "hovertemplate": "<b>%{hovertext}</b><br><br>Cluster=2<br>year=2003<br>ISO code=%{location}<extra></extra>",
           "hovertext": [
            "MDA",
            "USA"
           ],
           "locations": [
            "MDA",
            "USA"
           ],
           "name": "2",
           "showlegend": true,
           "showscale": false,
           "type": "choropleth",
           "z": [
            1,
            1
           ]
          }
         ],
         "name": "2003"
        },
        {
         "data": [
          {
           "colorscale": [
            [
             0,
             "rgb(141,211,199)"
            ],
            [
             1,
             "rgb(141,211,199)"
            ]
           ],
           "geo": "geo",
           "hovertemplate": "<b>%{hovertext}</b><br><br>Cluster=0<br>year=2004<br>ISO code=%{location}<extra></extra>",
           "hovertext": [
            "COL",
            "PRY",
            "KOR"
           ],
           "locations": [
            "COL",
            "PRY",
            "KOR"
           ],
           "name": "0",
           "showlegend": true,
           "showscale": false,
           "type": "choropleth",
           "z": [
            1,
            1,
            1
           ]
          },
          {
           "colorscale": [
            [
             0,
             "rgb(255,255,179)"
            ],
            [
             1,
             "rgb(255,255,179)"
            ]
           ],
           "geo": "geo",
           "hovertemplate": "<b>%{hovertext}</b><br><br>Cluster=1<br>year=2004<br>ISO code=%{location}<extra></extra>",
           "hovertext": [
            "AUS",
            "CHE"
           ],
           "locations": [
            "AUS",
            "CHE"
           ],
           "name": "1",
           "showlegend": true,
           "showscale": false,
           "type": "choropleth",
           "z": [
            1,
            1
           ]
          },
          {
           "colorscale": [
            [
             0,
             "rgb(190,186,218)"
            ],
            [
             1,
             "rgb(190,186,218)"
            ]
           ],
           "geo": "geo",
           "hovertemplate": "<b>%{hovertext}</b><br><br>Cluster=2<br>year=2004<br>ISO code=%{location}<extra></extra>",
           "hovertext": [
            "MDA",
            "SVK",
            "USA"
           ],
           "locations": [
            "MDA",
            "SVK",
            "USA"
           ],
           "name": "2",
           "showlegend": true,
           "showscale": false,
           "type": "choropleth",
           "z": [
            1,
            1,
            1
           ]
          },
          {
           "colorscale": [
            [
             0,
             "rgb(251,128,114)"
            ],
            [
             1,
             "rgb(251,128,114)"
            ]
           ],
           "geo": "geo",
           "hovertemplate": "<b>%{hovertext}</b><br><br>Cluster=3<br>year=2004<br>ISO code=%{location}<extra></extra>",
           "hovertext": [
            "ARG"
           ],
           "locations": [
            "ARG"
           ],
           "name": "3",
           "showlegend": true,
           "showscale": false,
           "type": "choropleth",
           "z": [
            1
           ]
          }
         ],
         "name": "2004"
        },
        {
         "data": [
          {
           "colorscale": [
            [
             0,
             "rgb(141,211,199)"
            ],
            [
             1,
             "rgb(141,211,199)"
            ]
           ],
           "geo": "geo",
           "hovertemplate": "<b>%{hovertext}</b><br><br>Cluster=0<br>year=2005<br>ISO code=%{location}<extra></extra>",
           "hovertext": [
            "COL",
            "KEN",
            "PRY",
            "KOR"
           ],
           "locations": [
            "COL",
            "KEN",
            "PRY",
            "KOR"
           ],
           "name": "0",
           "showlegend": true,
           "showscale": false,
           "type": "choropleth",
           "z": [
            1,
            1,
            1,
            1
           ]
          },
          {
           "colorscale": [
            [
             0,
             "rgb(255,255,179)"
            ],
            [
             1,
             "rgb(255,255,179)"
            ]
           ],
           "geo": "geo",
           "hovertemplate": "<b>%{hovertext}</b><br><br>Cluster=1<br>year=2005<br>ISO code=%{location}<extra></extra>",
           "hovertext": [
            "AUS",
            "CHE",
            "GBR"
           ],
           "locations": [
            "AUS",
            "CHE",
            "GBR"
           ],
           "name": "1",
           "showlegend": true,
           "showscale": false,
           "type": "choropleth",
           "z": [
            1,
            1,
            1
           ]
          },
          {
           "colorscale": [
            [
             0,
             "rgb(190,186,218)"
            ],
            [
             1,
             "rgb(190,186,218)"
            ]
           ],
           "geo": "geo",
           "hovertemplate": "<b>%{hovertext}</b><br><br>Cluster=2<br>year=2005<br>ISO code=%{location}<extra></extra>",
           "hovertext": [
            "MDA",
            "SVK",
            "USA"
           ],
           "locations": [
            "MDA",
            "SVK",
            "USA"
           ],
           "name": "2",
           "showlegend": true,
           "showscale": false,
           "type": "choropleth",
           "z": [
            1,
            1,
            1
           ]
          },
          {
           "colorscale": [
            [
             0,
             "rgb(251,128,114)"
            ],
            [
             1,
             "rgb(251,128,114)"
            ]
           ],
           "geo": "geo",
           "hovertemplate": "<b>%{hovertext}</b><br><br>Cluster=3<br>year=2005<br>ISO code=%{location}<extra></extra>",
           "hovertext": [
            "ARG"
           ],
           "locations": [
            "ARG"
           ],
           "name": "3",
           "showlegend": true,
           "showscale": false,
           "type": "choropleth",
           "z": [
            1
           ]
          }
         ],
         "name": "2005"
        },
        {
         "data": [
          {
           "colorscale": [
            [
             0,
             "rgb(141,211,199)"
            ],
            [
             1,
             "rgb(141,211,199)"
            ]
           ],
           "geo": "geo",
           "hovertemplate": "<b>%{hovertext}</b><br><br>Cluster=0<br>year=2006<br>ISO code=%{location}<extra></extra>",
           "hovertext": [
            "MKD",
            "PRY",
            "KOR"
           ],
           "locations": [
            "MKD",
            "PRY",
            "KOR"
           ],
           "name": "0",
           "showlegend": true,
           "showscale": false,
           "type": "choropleth",
           "z": [
            1,
            1,
            1
           ]
          },
          {
           "colorscale": [
            [
             0,
             "rgb(255,255,179)"
            ],
            [
             1,
             "rgb(255,255,179)"
            ]
           ],
           "geo": "geo",
           "hovertemplate": "<b>%{hovertext}</b><br><br>Cluster=1<br>year=2006<br>ISO code=%{location}<extra></extra>",
           "hovertext": [
            "AUS",
            "CHE",
            "GBR",
            "VUT"
           ],
           "locations": [
            "AUS",
            "CHE",
            "GBR",
            "VUT"
           ],
           "name": "1",
           "showlegend": true,
           "showscale": false,
           "type": "choropleth",
           "z": [
            1,
            1,
            1,
            1
           ]
          },
          {
           "colorscale": [
            [
             0,
             "rgb(190,186,218)"
            ],
            [
             1,
             "rgb(190,186,218)"
            ]
           ],
           "geo": "geo",
           "hovertemplate": "<b>%{hovertext}</b><br><br>Cluster=2<br>year=2006<br>ISO code=%{location}<extra></extra>",
           "hovertext": [
            "ARG",
            "GRC",
            "MDA",
            "USA"
           ],
           "locations": [
            "ARG",
            "GRC",
            "MDA",
            "USA"
           ],
           "name": "2",
           "showlegend": true,
           "showscale": false,
           "type": "choropleth",
           "z": [
            1,
            1,
            1,
            1
           ]
          }
         ],
         "name": "2006"
        },
        {
         "data": [
          {
           "colorscale": [
            [
             0,
             "rgb(141,211,199)"
            ],
            [
             1,
             "rgb(141,211,199)"
            ]
           ],
           "geo": "geo",
           "hovertemplate": "<b>%{hovertext}</b><br><br>Cluster=0<br>year=2007<br>ISO code=%{location}<extra></extra>",
           "hovertext": [
            "KHM",
            "COL",
            "MNG",
            "PRY",
            "KOR"
           ],
           "locations": [
            "KHM",
            "COL",
            "MNG",
            "PRY",
            "KOR"
           ],
           "name": "0",
           "showlegend": true,
           "showscale": false,
           "type": "choropleth",
           "z": [
            1,
            1,
            1,
            1,
            1
           ]
          },
          {
           "colorscale": [
            [
             0,
             "rgb(255,255,179)"
            ],
            [
             1,
             "rgb(255,255,179)"
            ]
           ],
           "geo": "geo",
           "hovertemplate": "<b>%{hovertext}</b><br><br>Cluster=1<br>year=2007<br>ISO code=%{location}<extra></extra>",
           "hovertext": [
            "AUS",
            "CHE",
            "GBR"
           ],
           "locations": [
            "AUS",
            "CHE",
            "GBR"
           ],
           "name": "1",
           "showlegend": true,
           "showscale": false,
           "type": "choropleth",
           "z": [
            1,
            1,
            1
           ]
          },
          {
           "colorscale": [
            [
             0,
             "rgb(190,186,218)"
            ],
            [
             1,
             "rgb(190,186,218)"
            ]
           ],
           "geo": "geo",
           "hovertemplate": "<b>%{hovertext}</b><br><br>Cluster=2<br>year=2007<br>ISO code=%{location}<extra></extra>",
           "hovertext": [
            "GRC",
            "MKD",
            "MDA",
            "USA"
           ],
           "locations": [
            "GRC",
            "MKD",
            "MDA",
            "USA"
           ],
           "name": "2",
           "showlegend": true,
           "showscale": false,
           "type": "choropleth",
           "z": [
            1,
            1,
            1,
            1
           ]
          }
         ],
         "name": "2007"
        },
        {
         "data": [
          {
           "colorscale": [
            [
             0,
             "rgb(141,211,199)"
            ],
            [
             1,
             "rgb(141,211,199)"
            ]
           ],
           "geo": "geo",
           "hovertemplate": "<b>%{hovertext}</b><br><br>Cluster=0<br>year=2008<br>ISO code=%{location}<extra></extra>",
           "hovertext": [
            "COL",
            "IRN",
            "JAM",
            "MNG",
            "PRY",
            "KOR"
           ],
           "locations": [
            "COL",
            "IRN",
            "JAM",
            "MNG",
            "PRY",
            "KOR"
           ],
           "name": "0",
           "showlegend": true,
           "showscale": false,
           "type": "choropleth",
           "z": [
            1,
            1,
            1,
            1,
            1,
            1
           ]
          },
          {
           "colorscale": [
            [
             0,
             "rgb(255,255,179)"
            ],
            [
             1,
             "rgb(255,255,179)"
            ]
           ],
           "geo": "geo",
           "hovertemplate": "<b>%{hovertext}</b><br><br>Cluster=1<br>year=2008<br>ISO code=%{location}<extra></extra>",
           "hovertext": [
            "AUS",
            "CHE",
            "GBR"
           ],
           "locations": [
            "AUS",
            "CHE",
            "GBR"
           ],
           "name": "1",
           "showlegend": true,
           "showscale": false,
           "type": "choropleth",
           "z": [
            1,
            1,
            1
           ]
          },
          {
           "colorscale": [
            [
             0,
             "rgb(190,186,218)"
            ],
            [
             1,
             "rgb(190,186,218)"
            ]
           ],
           "geo": "geo",
           "hovertemplate": "<b>%{hovertext}</b><br><br>Cluster=2<br>year=2008<br>ISO code=%{location}<extra></extra>",
           "hovertext": [
            "ARG",
            "GRC",
            "MKD",
            "USA"
           ],
           "locations": [
            "ARG",
            "GRC",
            "MKD",
            "USA"
           ],
           "name": "2",
           "showlegend": true,
           "showscale": false,
           "type": "choropleth",
           "z": [
            1,
            1,
            1,
            1
           ]
          },
          {
           "colorscale": [
            [
             0,
             "rgb(251,128,114)"
            ],
            [
             1,
             "rgb(251,128,114)"
            ]
           ],
           "geo": "geo",
           "hovertemplate": "<b>%{hovertext}</b><br><br>Cluster=3<br>year=2008<br>ISO code=%{location}<extra></extra>",
           "hovertext": [
            "KHM",
            "MDA"
           ],
           "locations": [
            "KHM",
            "MDA"
           ],
           "name": "3",
           "showlegend": true,
           "showscale": false,
           "type": "choropleth",
           "z": [
            1,
            1
           ]
          }
         ],
         "name": "2008"
        },
        {
         "data": [
          {
           "colorscale": [
            [
             0,
             "rgb(141,211,199)"
            ],
            [
             1,
             "rgb(141,211,199)"
            ]
           ],
           "geo": "geo",
           "hovertemplate": "<b>%{hovertext}</b><br><br>Cluster=0<br>year=2009<br>ISO code=%{location}<extra></extra>",
           "hovertext": [
            "CPV",
            "COL",
            "COG",
            "EGY",
            "IRN",
            "JAM",
            "MNG",
            "PRY",
            "KOR",
            "ARE",
            "VNM"
           ],
           "locations": [
            "CPV",
            "COL",
            "COG",
            "EGY",
            "IRN",
            "JAM",
            "MNG",
            "PRY",
            "KOR",
            "ARE",
            "VNM"
           ],
           "name": "0",
           "showlegend": true,
           "showscale": false,
           "type": "choropleth",
           "z": [
            1,
            1,
            1,
            1,
            1,
            1,
            1,
            1,
            1,
            1,
            1
           ]
          },
          {
           "colorscale": [
            [
             0,
             "rgb(255,255,179)"
            ],
            [
             1,
             "rgb(255,255,179)"
            ]
           ],
           "geo": "geo",
           "hovertemplate": "<b>%{hovertext}</b><br><br>Cluster=1<br>year=2009<br>ISO code=%{location}<extra></extra>",
           "hovertext": [
            "AUS",
            "CHE",
            "GBR",
            "USA"
           ],
           "locations": [
            "AUS",
            "CHE",
            "GBR",
            "USA"
           ],
           "name": "1",
           "showlegend": true,
           "showscale": false,
           "type": "choropleth",
           "z": [
            1,
            1,
            1,
            1
           ]
          },
          {
           "colorscale": [
            [
             0,
             "rgb(190,186,218)"
            ],
            [
             1,
             "rgb(190,186,218)"
            ]
           ],
           "geo": "geo",
           "hovertemplate": "<b>%{hovertext}</b><br><br>Cluster=2<br>year=2009<br>ISO code=%{location}<extra></extra>",
           "hovertext": [
            "ARG",
            "DOM",
            "GRC",
            "MKD",
            "MDA"
           ],
           "locations": [
            "ARG",
            "DOM",
            "GRC",
            "MKD",
            "MDA"
           ],
           "name": "2",
           "showlegend": true,
           "showscale": false,
           "type": "choropleth",
           "z": [
            1,
            1,
            1,
            1,
            1
           ]
          },
          {
           "colorscale": [
            [
             0,
             "rgb(251,128,114)"
            ],
            [
             1,
             "rgb(251,128,114)"
            ]
           ],
           "geo": "geo",
           "hovertemplate": "<b>%{hovertext}</b><br><br>Cluster=3<br>year=2009<br>ISO code=%{location}<extra></extra>",
           "hovertext": [
            "KHM"
           ],
           "locations": [
            "KHM"
           ],
           "name": "3",
           "showlegend": true,
           "showscale": false,
           "type": "choropleth",
           "z": [
            1
           ]
          }
         ],
         "name": "2009"
        },
        {
         "data": [
          {
           "colorscale": [
            [
             0,
             "rgb(141,211,199)"
            ],
            [
             1,
             "rgb(141,211,199)"
            ]
           ],
           "geo": "geo",
           "hovertemplate": "<b>%{hovertext}</b><br><br>Cluster=0<br>year=2010<br>ISO code=%{location}<extra></extra>",
           "hovertext": [
            "ALB",
            "COL",
            "EGY",
            "IRN",
            "JAM",
            "LAO",
            "LBR",
            "MNG",
            "PRY",
            "KOR",
            "TLS"
           ],
           "locations": [
            "ALB",
            "COL",
            "EGY",
            "IRN",
            "JAM",
            "LAO",
            "LBR",
            "MNG",
            "PRY",
            "KOR",
            "TLS"
           ],
           "name": "0",
           "showlegend": true,
           "showscale": false,
           "type": "choropleth",
           "z": [
            1,
            1,
            1,
            1,
            1,
            1,
            1,
            1,
            1,
            1,
            1
           ]
          },
          {
           "colorscale": [
            [
             0,
             "rgb(255,255,179)"
            ],
            [
             1,
             "rgb(255,255,179)"
            ]
           ],
           "geo": "geo",
           "hovertemplate": "<b>%{hovertext}</b><br><br>Cluster=1<br>year=2010<br>ISO code=%{location}<extra></extra>",
           "hovertext": [
            "AUS",
            "CHE",
            "GBR",
            "USA",
            "VUT"
           ],
           "locations": [
            "AUS",
            "CHE",
            "GBR",
            "USA",
            "VUT"
           ],
           "name": "1",
           "showlegend": true,
           "showscale": false,
           "type": "choropleth",
           "z": [
            1,
            1,
            1,
            1,
            1
           ]
          },
          {
           "colorscale": [
            [
             0,
             "rgb(190,186,218)"
            ],
            [
             1,
             "rgb(190,186,218)"
            ]
           ],
           "geo": "geo",
           "hovertemplate": "<b>%{hovertext}</b><br><br>Cluster=2<br>year=2010<br>ISO code=%{location}<extra></extra>",
           "hovertext": [
            "ARG",
            "ABW",
            "DOM",
            "GRC",
            "MKD",
            "MDA"
           ],
           "locations": [
            "ARG",
            "ABW",
            "DOM",
            "GRC",
            "MKD",
            "MDA"
           ],
           "name": "2",
           "showlegend": true,
           "showscale": false,
           "type": "choropleth",
           "z": [
            1,
            1,
            1,
            1,
            1,
            1
           ]
          },
          {
           "colorscale": [
            [
             0,
             "rgb(251,128,114)"
            ],
            [
             1,
             "rgb(251,128,114)"
            ]
           ],
           "geo": "geo",
           "hovertemplate": "<b>%{hovertext}</b><br><br>Cluster=3<br>year=2010<br>ISO code=%{location}<extra></extra>",
           "hovertext": [
            "KHM",
            "KGZ",
            "MDG",
            "YEM"
           ],
           "locations": [
            "KHM",
            "KGZ",
            "MDG",
            "YEM"
           ],
           "name": "3",
           "showlegend": true,
           "showscale": false,
           "type": "choropleth",
           "z": [
            1,
            1,
            1,
            1
           ]
          }
         ],
         "name": "2010"
        },
        {
         "data": [
          {
           "colorscale": [
            [
             0,
             "rgb(141,211,199)"
            ],
            [
             1,
             "rgb(141,211,199)"
            ]
           ],
           "geo": "geo",
           "hovertemplate": "<b>%{hovertext}</b><br><br>Cluster=0<br>year=2011<br>ISO code=%{location}<extra></extra>",
           "hovertext": [
            "COL",
            "EGY",
            "HKG",
            "IRN",
            "JAM",
            "MYS",
            "MNG",
            "PRY",
            "QAT",
            "KOR",
            "THA",
            "TUR",
            "VNM"
           ],
           "locations": [
            "COL",
            "EGY",
            "HKG",
            "IRN",
            "JAM",
            "MYS",
            "MNG",
            "PRY",
            "QAT",
            "KOR",
            "THA",
            "TUR",
            "VNM"
           ],
           "name": "0",
           "showlegend": true,
           "showscale": false,
           "type": "choropleth",
           "z": [
            1,
            1,
            1,
            1,
            1,
            1,
            1,
            1,
            1,
            1,
            1,
            1,
            1
           ]
          },
          {
           "colorscale": [
            [
             0,
             "rgb(255,255,179)"
            ],
            [
             1,
             "rgb(255,255,179)"
            ]
           ],
           "geo": "geo",
           "hovertemplate": "<b>%{hovertext}</b><br><br>Cluster=1<br>year=2011<br>ISO code=%{location}<extra></extra>",
           "hovertext": [
            "AUS",
            "AUT",
            "BEL",
            "DNK",
            "FIN",
            "FRA",
            "DEU",
            "ISL",
            "IRL",
            "ITA",
            "LUX",
            "MLT",
            "NLD",
            "NOR",
            "ESP",
            "SWE",
            "CHE",
            "GBR"
           ],
           "locations": [
            "AUS",
            "AUT",
            "BEL",
            "DNK",
            "FIN",
            "FRA",
            "DEU",
            "ISL",
            "IRL",
            "ITA",
            "LUX",
            "MLT",
            "NLD",
            "NOR",
            "ESP",
            "SWE",
            "CHE",
            "GBR"
           ],
           "name": "1",
           "showlegend": true,
           "showscale": false,
           "type": "choropleth",
           "z": [
            1,
            1,
            1,
            1,
            1,
            1,
            1,
            1,
            1,
            1,
            1,
            1,
            1,
            1,
            1,
            1,
            1,
            1
           ]
          },
          {
           "colorscale": [
            [
             0,
             "rgb(190,186,218)"
            ],
            [
             1,
             "rgb(190,186,218)"
            ]
           ],
           "geo": "geo",
           "hovertemplate": "<b>%{hovertext}</b><br><br>Cluster=2<br>year=2011<br>ISO code=%{location}<extra></extra>",
           "hovertext": [
            "ARG",
            "BIH",
            "BGR",
            "CYM",
            "HRV",
            "CYP",
            "CZE",
            "EST",
            "GRC",
            "HUN",
            "KAZ",
            "LVA",
            "LTU",
            "MNE",
            "MKD",
            "POL",
            "MDA",
            "ROU",
            "SRB",
            "SYC",
            "SVN",
            "USA"
           ],
           "locations": [
            "ARG",
            "BIH",
            "BGR",
            "CYM",
            "HRV",
            "CYP",
            "CZE",
            "EST",
            "GRC",
            "HUN",
            "KAZ",
            "LVA",
            "LTU",
            "MNE",
            "MKD",
            "POL",
            "MDA",
            "ROU",
            "SRB",
            "SYC",
            "SVN",
            "USA"
           ],
           "name": "2",
           "showlegend": true,
           "showscale": false,
           "type": "choropleth",
           "z": [
            1,
            1,
            1,
            1,
            1,
            1,
            1,
            1,
            1,
            1,
            1,
            1,
            1,
            1,
            1,
            1,
            1,
            1,
            1,
            1,
            1,
            1
           ]
          },
          {
           "colorscale": [
            [
             0,
             "rgb(251,128,114)"
            ],
            [
             1,
             "rgb(251,128,114)"
            ]
           ],
           "geo": "geo",
           "hovertemplate": "<b>%{hovertext}</b><br><br>Cluster=3<br>year=2011<br>ISO code=%{location}<extra></extra>",
           "hovertext": [
            "KHM",
            "KGZ",
            "MUS",
            "PAN",
            "PRT"
           ],
           "locations": [
            "KHM",
            "KGZ",
            "MUS",
            "PAN",
            "PRT"
           ],
           "name": "3",
           "showlegend": true,
           "showscale": false,
           "type": "choropleth",
           "z": [
            1,
            1,
            1,
            1,
            1
           ]
          }
         ],
         "name": "2011"
        },
        {
         "data": [
          {
           "colorscale": [
            [
             0,
             "rgb(141,211,199)"
            ],
            [
             1,
             "rgb(141,211,199)"
            ]
           ],
           "geo": "geo",
           "hovertemplate": "<b>%{hovertext}</b><br><br>Cluster=0<br>year=2012<br>ISO code=%{location}<extra></extra>",
           "hovertext": [
            "KHM",
            "COL",
            "EGY",
            "GMB",
            "HKG",
            "IRN",
            "JAM",
            "MYS",
            "MNG",
            "QAT",
            "KOR",
            "THA",
            "TUR",
            "VNM"
           ],
           "locations": [
            "KHM",
            "COL",
            "EGY",
            "GMB",
            "HKG",
            "IRN",
            "JAM",
            "MYS",
            "MNG",
            "QAT",
            "KOR",
            "THA",
            "TUR",
            "VNM"
           ],
           "name": "0",
           "showlegend": true,
           "showscale": false,
           "type": "choropleth",
           "z": [
            1,
            1,
            1,
            1,
            1,
            1,
            1,
            1,
            1,
            1,
            1,
            1,
            1,
            1
           ]
          },
          {
           "colorscale": [
            [
             0,
             "rgb(255,255,179)"
            ],
            [
             1,
             "rgb(255,255,179)"
            ]
           ],
           "geo": "geo",
           "hovertemplate": "<b>%{hovertext}</b><br><br>Cluster=1<br>year=2012<br>ISO code=%{location}<extra></extra>",
           "hovertext": [
            "AUS",
            "AUT",
            "BEL",
            "DNK",
            "FIN",
            "FRA",
            "DEU",
            "ISL",
            "IRL",
            "ITA",
            "LUX",
            "MLT",
            "NLD",
            "NOR",
            "REU",
            "ESP",
            "SWE",
            "CHE",
            "GBR"
           ],
           "locations": [
            "AUS",
            "AUT",
            "BEL",
            "DNK",
            "FIN",
            "FRA",
            "DEU",
            "ISL",
            "IRL",
            "ITA",
            "LUX",
            "MLT",
            "NLD",
            "NOR",
            "REU",
            "ESP",
            "SWE",
            "CHE",
            "GBR"
           ],
           "name": "1",
           "showlegend": true,
           "showscale": false,
           "type": "choropleth",
           "z": [
            1,
            1,
            1,
            1,
            1,
            1,
            1,
            1,
            1,
            1,
            1,
            1,
            1,
            1,
            1,
            1,
            1,
            1,
            1
           ]
          },
          {
           "colorscale": [
            [
             0,
             "rgb(190,186,218)"
            ],
            [
             1,
             "rgb(190,186,218)"
            ]
           ],
           "geo": "geo",
           "hovertemplate": "<b>%{hovertext}</b><br><br>Cluster=2<br>year=2012<br>ISO code=%{location}<extra></extra>",
           "hovertext": [
            "ARG",
            "BIH",
            "BRA",
            "BGR",
            "CYM",
            "HRV",
            "CYP",
            "CZE",
            "EST",
            "GRC",
            "HUN",
            "ISR",
            "KAZ",
            "LVA",
            "LTU",
            "MKD",
            "POL",
            "MDA",
            "ROU",
            "SRB",
            "SVK",
            "SVN",
            "USA"
           ],
           "locations": [
            "ARG",
            "BIH",
            "BRA",
            "BGR",
            "CYM",
            "HRV",
            "CYP",
            "CZE",
            "EST",
            "GRC",
            "HUN",
            "ISR",
            "KAZ",
            "LVA",
            "LTU",
            "MKD",
            "POL",
            "MDA",
            "ROU",
            "SRB",
            "SVK",
            "SVN",
            "USA"
           ],
           "name": "2",
           "showlegend": true,
           "showscale": false,
           "type": "choropleth",
           "z": [
            1,
            1,
            1,
            1,
            1,
            1,
            1,
            1,
            1,
            1,
            1,
            1,
            1,
            1,
            1,
            1,
            1,
            1,
            1,
            1,
            1,
            1,
            1
           ]
          },
          {
           "colorscale": [
            [
             0,
             "rgb(251,128,114)"
            ],
            [
             1,
             "rgb(251,128,114)"
            ]
           ],
           "geo": "geo",
           "hovertemplate": "<b>%{hovertext}</b><br><br>Cluster=3<br>year=2012<br>ISO code=%{location}<extra></extra>",
           "hovertext": [
            "ALB",
            "COD",
            "IRQ",
            "KGZ",
            "MUS",
            "MNE",
            "PAN",
            "PRY",
            "PRT",
            "WSM",
            "UGA"
           ],
           "locations": [
            "ALB",
            "COD",
            "IRQ",
            "KGZ",
            "MUS",
            "MNE",
            "PAN",
            "PRY",
            "PRT",
            "WSM",
            "UGA"
           ],
           "name": "3",
           "showlegend": true,
           "showscale": false,
           "type": "choropleth",
           "z": [
            1,
            1,
            1,
            1,
            1,
            1,
            1,
            1,
            1,
            1,
            1
           ]
          }
         ],
         "name": "2012"
        },
        {
         "data": [
          {
           "colorscale": [
            [
             0,
             "rgb(141,211,199)"
            ],
            [
             1,
             "rgb(141,211,199)"
            ]
           ],
           "geo": "geo",
           "hovertemplate": "<b>%{hovertext}</b><br><br>Cluster=0<br>year=2013<br>ISO code=%{location}<extra></extra>",
           "hovertext": [
            "ALB",
            "BGD",
            "KHM",
            "COL",
            "EGY",
            "GHA",
            "HKG",
            "IRN",
            "JAM",
            "MYS",
            "MLI",
            "MEX",
            "MNG",
            "MNE",
            "PAK",
            "PRY",
            "KOR",
            "LKA",
            "THA",
            "TUR"
           ],
           "locations": [
            "ALB",
            "BGD",
            "KHM",
            "COL",
            "EGY",
            "GHA",
            "HKG",
            "IRN",
            "JAM",
            "MYS",
            "MLI",
            "MEX",
            "MNG",
            "MNE",
            "PAK",
            "PRY",
            "KOR",
            "LKA",
            "THA",
            "TUR"
           ],
           "name": "0",
           "showlegend": true,
           "showscale": false,
           "type": "choropleth",
           "z": [
            1,
            1,
            1,
            1,
            1,
            1,
            1,
            1,
            1,
            1,
            1,
            1,
            1,
            1,
            1,
            1,
            1,
            1,
            1,
            1
           ]
          },
          {
           "colorscale": [
            [
             0,
             "rgb(255,255,179)"
            ],
            [
             1,
             "rgb(255,255,179)"
            ]
           ],
           "geo": "geo",
           "hovertemplate": "<b>%{hovertext}</b><br><br>Cluster=1<br>year=2013<br>ISO code=%{location}<extra></extra>",
           "hovertext": [
            "AUS",
            "AUT",
            "BEL",
            "DNK",
            "FIN",
            "FRA",
            "DEU",
            "ISL",
            "IRL",
            "ITA",
            "LUX",
            "MLT",
            "NLD",
            "NOR",
            "ESP",
            "SWE",
            "CHE",
            "GBR"
           ],
           "locations": [
            "AUS",
            "AUT",
            "BEL",
            "DNK",
            "FIN",
            "FRA",
            "DEU",
            "ISL",
            "IRL",
            "ITA",
            "LUX",
            "MLT",
            "NLD",
            "NOR",
            "ESP",
            "SWE",
            "CHE",
            "GBR"
           ],
           "name": "1",
           "showlegend": true,
           "showscale": false,
           "type": "choropleth",
           "z": [
            1,
            1,
            1,
            1,
            1,
            1,
            1,
            1,
            1,
            1,
            1,
            1,
            1,
            1,
            1,
            1,
            1,
            1
           ]
          },
          {
           "colorscale": [
            [
             0,
             "rgb(190,186,218)"
            ],
            [
             1,
             "rgb(190,186,218)"
            ]
           ],
           "geo": "geo",
           "hovertemplate": "<b>%{hovertext}</b><br><br>Cluster=2<br>year=2013<br>ISO code=%{location}<extra></extra>",
           "hovertext": [
            "ARG",
            "BIH",
            "BRA",
            "BGR",
            "CYM",
            "HRV",
            "CYP",
            "CZE",
            "EST",
            "GRC",
            "HUN",
            "ISR",
            "LVA",
            "LTU",
            "MKD",
            "POL",
            "MDA",
            "ROU",
            "SRB",
            "SVK",
            "SVN",
            "USA"
           ],
           "locations": [
            "ARG",
            "BIH",
            "BRA",
            "BGR",
            "CYM",
            "HRV",
            "CYP",
            "CZE",
            "EST",
            "GRC",
            "HUN",
            "ISR",
            "LVA",
            "LTU",
            "MKD",
            "POL",
            "MDA",
            "ROU",
            "SRB",
            "SVK",
            "SVN",
            "USA"
           ],
           "name": "2",
           "showlegend": true,
           "showscale": false,
           "type": "choropleth",
           "z": [
            1,
            1,
            1,
            1,
            1,
            1,
            1,
            1,
            1,
            1,
            1,
            1,
            1,
            1,
            1,
            1,
            1,
            1,
            1,
            1,
            1,
            1
           ]
          },
          {
           "colorscale": [
            [
             0,
             "rgb(251,128,114)"
            ],
            [
             1,
             "rgb(251,128,114)"
            ]
           ],
           "geo": "geo",
           "hovertemplate": "<b>%{hovertext}</b><br><br>Cluster=3<br>year=2013<br>ISO code=%{location}<extra></extra>",
           "hovertext": [
            "SLV",
            "ETH",
            "KGZ",
            "MWI",
            "MUS",
            "NRU",
            "PAN",
            "PRT",
            "SLB",
            "TLS",
            "UGA",
            "VNM"
           ],
           "locations": [
            "SLV",
            "ETH",
            "KGZ",
            "MWI",
            "MUS",
            "NRU",
            "PAN",
            "PRT",
            "SLB",
            "TLS",
            "UGA",
            "VNM"
           ],
           "name": "3",
           "showlegend": true,
           "showscale": false,
           "type": "choropleth",
           "z": [
            1,
            1,
            1,
            1,
            1,
            1,
            1,
            1,
            1,
            1,
            1,
            1
           ]
          }
         ],
         "name": "2013"
        },
        {
         "data": [
          {
           "colorscale": [
            [
             0,
             "rgb(141,211,199)"
            ],
            [
             1,
             "rgb(141,211,199)"
            ]
           ],
           "geo": "geo",
           "hovertemplate": "<b>%{hovertext}</b><br><br>Cluster=0<br>year=2014<br>ISO code=%{location}<extra></extra>",
           "hovertext": [
            "ARM",
            "BRN",
            "KHM",
            "COL",
            "COM",
            "HKG",
            "IRN",
            "JAM",
            "MYS",
            "MLI",
            "MEX",
            "MNG",
            "PAK",
            "PRY",
            "QAT",
            "KOR",
            "SLE",
            "LKA",
            "THA",
            "TUR"
           ],
           "locations": [
            "ARM",
            "BRN",
            "KHM",
            "COL",
            "COM",
            "HKG",
            "IRN",
            "JAM",
            "MYS",
            "MLI",
            "MEX",
            "MNG",
            "PAK",
            "PRY",
            "QAT",
            "KOR",
            "SLE",
            "LKA",
            "THA",
            "TUR"
           ],
           "name": "0",
           "showlegend": true,
           "showscale": false,
           "type": "choropleth",
           "z": [
            1,
            1,
            1,
            1,
            1,
            1,
            1,
            1,
            1,
            1,
            1,
            1,
            1,
            1,
            1,
            1,
            1,
            1,
            1,
            1
           ]
          },
          {
           "colorscale": [
            [
             0,
             "rgb(255,255,179)"
            ],
            [
             1,
             "rgb(255,255,179)"
            ]
           ],
           "geo": "geo",
           "hovertemplate": "<b>%{hovertext}</b><br><br>Cluster=1<br>year=2014<br>ISO code=%{location}<extra></extra>",
           "hovertext": [
            "AUS",
            "AUT",
            "BEL",
            "DNK",
            "FIN",
            "FRA",
            "DEU",
            "ISL",
            "IRL",
            "ITA",
            "LUX",
            "MLT",
            "NLD",
            "NOR",
            "ESP",
            "SWE",
            "CHE",
            "GBR"
           ],
           "locations": [
            "AUS",
            "AUT",
            "BEL",
            "DNK",
            "FIN",
            "FRA",
            "DEU",
            "ISL",
            "IRL",
            "ITA",
            "LUX",
            "MLT",
            "NLD",
            "NOR",
            "ESP",
            "SWE",
            "CHE",
            "GBR"
           ],
           "name": "1",
           "showlegend": true,
           "showscale": false,
           "type": "choropleth",
           "z": [
            1,
            1,
            1,
            1,
            1,
            1,
            1,
            1,
            1,
            1,
            1,
            1,
            1,
            1,
            1,
            1,
            1,
            1
           ]
          },
          {
           "colorscale": [
            [
             0,
             "rgb(190,186,218)"
            ],
            [
             1,
             "rgb(190,186,218)"
            ]
           ],
           "geo": "geo",
           "hovertemplate": "<b>%{hovertext}</b><br><br>Cluster=2<br>year=2014<br>ISO code=%{location}<extra></extra>",
           "hovertext": [
            "ARG",
            "BIH",
            "BRA",
            "BGR",
            "CYM",
            "HRV",
            "CYP",
            "CZE",
            "DOM",
            "EST",
            "GRC",
            "HUN",
            "ISR",
            "LVA",
            "LTU",
            "MDV",
            "MKD",
            "POL",
            "MDA",
            "ROU",
            "SRB",
            "SYC",
            "SVK",
            "SVN",
            "USA"
           ],
           "locations": [
            "ARG",
            "BIH",
            "BRA",
            "BGR",
            "CYM",
            "HRV",
            "CYP",
            "CZE",
            "DOM",
            "EST",
            "GRC",
            "HUN",
            "ISR",
            "LVA",
            "LTU",
            "MDV",
            "MKD",
            "POL",
            "MDA",
            "ROU",
            "SRB",
            "SYC",
            "SVK",
            "SVN",
            "USA"
           ],
           "name": "2",
           "showlegend": true,
           "showscale": false,
           "type": "choropleth",
           "z": [
            1,
            1,
            1,
            1,
            1,
            1,
            1,
            1,
            1,
            1,
            1,
            1,
            1,
            1,
            1,
            1,
            1,
            1,
            1,
            1,
            1,
            1,
            1,
            1,
            1
           ]
          },
          {
           "colorscale": [
            [
             0,
             "rgb(251,128,114)"
            ],
            [
             1,
             "rgb(251,128,114)"
            ]
           ],
           "geo": "geo",
           "hovertemplate": "<b>%{hovertext}</b><br><br>Cluster=3<br>year=2014<br>ISO code=%{location}<extra></extra>",
           "hovertext": [
            "AFG",
            "ALB",
            "ECU",
            "SLV",
            "IRQ",
            "KGZ",
            "MUS",
            "FSM",
            "MNE",
            "PLW",
            "PAN",
            "PRT",
            "RWA",
            "WSM",
            "UGA",
            "VNM",
            "ZWE"
           ],
           "locations": [
            "AFG",
            "ALB",
            "ECU",
            "SLV",
            "IRQ",
            "KGZ",
            "MUS",
            "FSM",
            "MNE",
            "PLW",
            "PAN",
            "PRT",
            "RWA",
            "WSM",
            "UGA",
            "VNM",
            "ZWE"
           ],
           "name": "3",
           "showlegend": true,
           "showscale": false,
           "type": "choropleth",
           "z": [
            1,
            1,
            1,
            1,
            1,
            1,
            1,
            1,
            1,
            1,
            1,
            1,
            1,
            1,
            1,
            1,
            1
           ]
          }
         ],
         "name": "2014"
        },
        {
         "data": [
          {
           "colorscale": [
            [
             0,
             "rgb(141,211,199)"
            ],
            [
             1,
             "rgb(141,211,199)"
            ]
           ],
           "geo": "geo",
           "hovertemplate": "<b>%{hovertext}</b><br><br>Cluster=0<br>year=2015<br>ISO code=%{location}<extra></extra>",
           "hovertext": [
            "BLZ",
            "KHM",
            "COL",
            "EGY",
            "HKG",
            "IRN",
            "MYS",
            "MLI",
            "MEX",
            "MNG",
            "MMR",
            "PAK",
            "PRY",
            "KOR",
            "SEN",
            "SYC",
            "LKA",
            "THA",
            "TUR"
           ],
           "locations": [
            "BLZ",
            "KHM",
            "COL",
            "EGY",
            "HKG",
            "IRN",
            "MYS",
            "MLI",
            "MEX",
            "MNG",
            "MMR",
            "PAK",
            "PRY",
            "KOR",
            "SEN",
            "SYC",
            "LKA",
            "THA",
            "TUR"
           ],
           "name": "0",
           "showlegend": true,
           "showscale": false,
           "type": "choropleth",
           "z": [
            1,
            1,
            1,
            1,
            1,
            1,
            1,
            1,
            1,
            1,
            1,
            1,
            1,
            1,
            1,
            1,
            1,
            1,
            1
           ]
          },
          {
           "colorscale": [
            [
             0,
             "rgb(255,255,179)"
            ],
            [
             1,
             "rgb(255,255,179)"
            ]
           ],
           "geo": "geo",
           "hovertemplate": "<b>%{hovertext}</b><br><br>Cluster=1<br>year=2015<br>ISO code=%{location}<extra></extra>",
           "hovertext": [
            "AUS",
            "AUT",
            "BEL",
            "DNK",
            "FIN",
            "FRA",
            "DEU",
            "ISL",
            "IRL",
            "ITA",
            "LUX",
            "MLT",
            "NLD",
            "NOR",
            "ESP",
            "SWE",
            "CHE",
            "GBR"
           ],
           "locations": [
            "AUS",
            "AUT",
            "BEL",
            "DNK",
            "FIN",
            "FRA",
            "DEU",
            "ISL",
            "IRL",
            "ITA",
            "LUX",
            "MLT",
            "NLD",
            "NOR",
            "ESP",
            "SWE",
            "CHE",
            "GBR"
           ],
           "name": "1",
           "showlegend": true,
           "showscale": false,
           "type": "choropleth",
           "z": [
            1,
            1,
            1,
            1,
            1,
            1,
            1,
            1,
            1,
            1,
            1,
            1,
            1,
            1,
            1,
            1,
            1,
            1
           ]
          },
          {
           "colorscale": [
            [
             0,
             "rgb(190,186,218)"
            ],
            [
             1,
             "rgb(190,186,218)"
            ]
           ],
           "geo": "geo",
           "hovertemplate": "<b>%{hovertext}</b><br><br>Cluster=2<br>year=2015<br>ISO code=%{location}<extra></extra>",
           "hovertext": [
            "BIH",
            "BRA",
            "BGR",
            "CYM",
            "HRV",
            "CYP",
            "CZE",
            "DOM",
            "EST",
            "GRC",
            "HUN",
            "ISR",
            "KAZ",
            "LVA",
            "LTU",
            "MNE",
            "MKD",
            "POL",
            "ROU",
            "SRB",
            "SVK",
            "SVN",
            "USA"
           ],
           "locations": [
            "BIH",
            "BRA",
            "BGR",
            "CYM",
            "HRV",
            "CYP",
            "CZE",
            "DOM",
            "EST",
            "GRC",
            "HUN",
            "ISR",
            "KAZ",
            "LVA",
            "LTU",
            "MNE",
            "MKD",
            "POL",
            "ROU",
            "SRB",
            "SVK",
            "SVN",
            "USA"
           ],
           "name": "2",
           "showlegend": true,
           "showscale": false,
           "type": "choropleth",
           "z": [
            1,
            1,
            1,
            1,
            1,
            1,
            1,
            1,
            1,
            1,
            1,
            1,
            1,
            1,
            1,
            1,
            1,
            1,
            1,
            1,
            1,
            1,
            1
           ]
          },
          {
           "colorscale": [
            [
             0,
             "rgb(251,128,114)"
            ],
            [
             1,
             "rgb(251,128,114)"
            ]
           ],
           "geo": "geo",
           "hovertemplate": "<b>%{hovertext}</b><br><br>Cluster=3<br>year=2015<br>ISO code=%{location}<extra></extra>",
           "hovertext": [
            "ALB",
            "ARM",
            "SLV",
            "GHA",
            "HND",
            "KGZ",
            "MDG",
            "MUS",
            "MOZ",
            "PAN",
            "PRT",
            "MDA",
            "VNM"
           ],
           "locations": [
            "ALB",
            "ARM",
            "SLV",
            "GHA",
            "HND",
            "KGZ",
            "MDG",
            "MUS",
            "MOZ",
            "PAN",
            "PRT",
            "MDA",
            "VNM"
           ],
           "name": "3",
           "showlegend": true,
           "showscale": false,
           "type": "choropleth",
           "z": [
            1,
            1,
            1,
            1,
            1,
            1,
            1,
            1,
            1,
            1,
            1,
            1,
            1
           ]
          }
         ],
         "name": "2015"
        },
        {
         "data": [
          {
           "colorscale": [
            [
             0,
             "rgb(141,211,199)"
            ],
            [
             1,
             "rgb(141,211,199)"
            ]
           ],
           "geo": "geo",
           "hovertemplate": "<b>%{hovertext}</b><br><br>Cluster=0<br>year=2016<br>ISO code=%{location}<extra></extra>",
           "hovertext": [
            "BGD",
            "BLZ",
            "KHM",
            "COL",
            "CIV",
            "EGY",
            "SWZ",
            "HKG",
            "IRN",
            "MYS",
            "MDV",
            "MLI",
            "MEX",
            "MNG",
            "PAK",
            "KOR",
            "SEN",
            "SYC",
            "LKA",
            "THA",
            "TUR"
           ],
           "locations": [
            "BGD",
            "BLZ",
            "KHM",
            "COL",
            "CIV",
            "EGY",
            "SWZ",
            "HKG",
            "IRN",
            "MYS",
            "MDV",
            "MLI",
            "MEX",
            "MNG",
            "PAK",
            "KOR",
            "SEN",
            "SYC",
            "LKA",
            "THA",
            "TUR"
           ],
           "name": "0",
           "showlegend": true,
           "showscale": false,
           "type": "choropleth",
           "z": [
            1,
            1,
            1,
            1,
            1,
            1,
            1,
            1,
            1,
            1,
            1,
            1,
            1,
            1,
            1,
            1,
            1,
            1,
            1,
            1,
            1
           ]
          },
          {
           "colorscale": [
            [
             0,
             "rgb(255,255,179)"
            ],
            [
             1,
             "rgb(255,255,179)"
            ]
           ],
           "geo": "geo",
           "hovertemplate": "<b>%{hovertext}</b><br><br>Cluster=1<br>year=2016<br>ISO code=%{location}<extra></extra>",
           "hovertext": [
            "AUS",
            "AUT",
            "BEL",
            "DNK",
            "FIN",
            "FRA",
            "DEU",
            "ISL",
            "IRL",
            "ITA",
            "LUX",
            "NLD",
            "NOR",
            "ESP",
            "SWE",
            "CHE",
            "GBR"
           ],
           "locations": [
            "AUS",
            "AUT",
            "BEL",
            "DNK",
            "FIN",
            "FRA",
            "DEU",
            "ISL",
            "IRL",
            "ITA",
            "LUX",
            "NLD",
            "NOR",
            "ESP",
            "SWE",
            "CHE",
            "GBR"
           ],
           "name": "1",
           "showlegend": true,
           "showscale": false,
           "type": "choropleth",
           "z": [
            1,
            1,
            1,
            1,
            1,
            1,
            1,
            1,
            1,
            1,
            1,
            1,
            1,
            1,
            1,
            1,
            1
           ]
          },
          {
           "colorscale": [
            [
             0,
             "rgb(190,186,218)"
            ],
            [
             1,
             "rgb(190,186,218)"
            ]
           ],
           "geo": "geo",
           "hovertemplate": "<b>%{hovertext}</b><br><br>Cluster=2<br>year=2016<br>ISO code=%{location}<extra></extra>",
           "hovertext": [
            "BLR",
            "BIH",
            "BRA",
            "BGR",
            "HRV",
            "CYP",
            "CZE",
            "DOM",
            "EST",
            "GRC",
            "HUN",
            "ISR",
            "LVA",
            "LTU",
            "MLT",
            "MNE",
            "MKD",
            "POL",
            "ROU",
            "SRB",
            "SVK",
            "SVN",
            "TJK",
            "USA"
           ],
           "locations": [
            "BLR",
            "BIH",
            "BRA",
            "BGR",
            "HRV",
            "CYP",
            "CZE",
            "DOM",
            "EST",
            "GRC",
            "HUN",
            "ISR",
            "LVA",
            "LTU",
            "MLT",
            "MNE",
            "MKD",
            "POL",
            "ROU",
            "SRB",
            "SVK",
            "SVN",
            "TJK",
            "USA"
           ],
           "name": "2",
           "showlegend": true,
           "showscale": false,
           "type": "choropleth",
           "z": [
            1,
            1,
            1,
            1,
            1,
            1,
            1,
            1,
            1,
            1,
            1,
            1,
            1,
            1,
            1,
            1,
            1,
            1,
            1,
            1,
            1,
            1,
            1,
            1
           ]
          },
          {
           "colorscale": [
            [
             0,
             "rgb(251,128,114)"
            ],
            [
             1,
             "rgb(251,128,114)"
            ]
           ],
           "geo": "geo",
           "hovertemplate": "<b>%{hovertext}</b><br><br>Cluster=3<br>year=2016<br>ISO code=%{location}<extra></extra>",
           "hovertext": [
            "ALB",
            "ARM",
            "COK",
            "SLV",
            "HND",
            "KGZ",
            "MUS",
            "PAN",
            "PRY",
            "PRT",
            "MDA",
            "RUS",
            "TLS",
            "TUV",
            "VNM"
           ],
           "locations": [
            "ALB",
            "ARM",
            "COK",
            "SLV",
            "HND",
            "KGZ",
            "MUS",
            "PAN",
            "PRY",
            "PRT",
            "MDA",
            "RUS",
            "TLS",
            "TUV",
            "VNM"
           ],
           "name": "3",
           "showlegend": true,
           "showscale": false,
           "type": "choropleth",
           "z": [
            1,
            1,
            1,
            1,
            1,
            1,
            1,
            1,
            1,
            1,
            1,
            1,
            1,
            1,
            1
           ]
          }
         ],
         "name": "2016"
        },
        {
         "data": [
          {
           "colorscale": [
            [
             0,
             "rgb(141,211,199)"
            ],
            [
             1,
             "rgb(141,211,199)"
            ]
           ],
           "geo": "geo",
           "hovertemplate": "<b>%{hovertext}</b><br><br>Cluster=0<br>year=2017<br>ISO code=%{location}<extra></extra>",
           "hovertext": [
            "BGD",
            "BLZ",
            "BRN",
            "KHM",
            "COL",
            "CRI",
            "CIV",
            "EGY",
            "IRN",
            "JOR",
            "LBR",
            "MYS",
            "MLI",
            "MEX",
            "MNG",
            "MMR",
            "KOR",
            "WSM",
            "LKA",
            "THA",
            "TUR",
            "UGA",
            "ARE"
           ],
           "locations": [
            "BGD",
            "BLZ",
            "BRN",
            "KHM",
            "COL",
            "CRI",
            "CIV",
            "EGY",
            "IRN",
            "JOR",
            "LBR",
            "MYS",
            "MLI",
            "MEX",
            "MNG",
            "MMR",
            "KOR",
            "WSM",
            "LKA",
            "THA",
            "TUR",
            "UGA",
            "ARE"
           ],
           "name": "0",
           "showlegend": true,
           "showscale": false,
           "type": "choropleth",
           "z": [
            1,
            1,
            1,
            1,
            1,
            1,
            1,
            1,
            1,
            1,
            1,
            1,
            1,
            1,
            1,
            1,
            1,
            1,
            1,
            1,
            1,
            1,
            1
           ]
          },
          {
           "colorscale": [
            [
             0,
             "rgb(255,255,179)"
            ],
            [
             1,
             "rgb(255,255,179)"
            ]
           ],
           "geo": "geo",
           "hovertemplate": "<b>%{hovertext}</b><br><br>Cluster=1<br>year=2017<br>ISO code=%{location}<extra></extra>",
           "hovertext": [
            "AUS",
            "AUT",
            "BEL",
            "DNK",
            "FIN",
            "FRA",
            "DEU",
            "ISL",
            "IRL",
            "ITA",
            "LUX",
            "MLT",
            "NLD",
            "NOR",
            "ESP",
            "SWE",
            "CHE",
            "GBR"
           ],
           "locations": [
            "AUS",
            "AUT",
            "BEL",
            "DNK",
            "FIN",
            "FRA",
            "DEU",
            "ISL",
            "IRL",
            "ITA",
            "LUX",
            "MLT",
            "NLD",
            "NOR",
            "ESP",
            "SWE",
            "CHE",
            "GBR"
           ],
           "name": "1",
           "showlegend": true,
           "showscale": false,
           "type": "choropleth",
           "z": [
            1,
            1,
            1,
            1,
            1,
            1,
            1,
            1,
            1,
            1,
            1,
            1,
            1,
            1,
            1,
            1,
            1,
            1
           ]
          },
          {
           "colorscale": [
            [
             0,
             "rgb(190,186,218)"
            ],
            [
             1,
             "rgb(190,186,218)"
            ]
           ],
           "geo": "geo",
           "hovertemplate": "<b>%{hovertext}</b><br><br>Cluster=2<br>year=2017<br>ISO code=%{location}<extra></extra>",
           "hovertext": [
            "DZA",
            "ARG",
            "BLR",
            "BIH",
            "BRA",
            "BGR",
            "HRV",
            "CYP",
            "CZE",
            "DOM",
            "EST",
            "GRC",
            "HUN",
            "ISR",
            "KAZ",
            "LAO",
            "LVA",
            "LTU",
            "MNE",
            "NER",
            "MKD",
            "POL",
            "ROU",
            "LCA",
            "SRB",
            "SYC",
            "SVK",
            "SVN",
            "UKR",
            "USA"
           ],
           "locations": [
            "DZA",
            "ARG",
            "BLR",
            "BIH",
            "BRA",
            "BGR",
            "HRV",
            "CYP",
            "CZE",
            "DOM",
            "EST",
            "GRC",
            "HUN",
            "ISR",
            "KAZ",
            "LAO",
            "LVA",
            "LTU",
            "MNE",
            "NER",
            "MKD",
            "POL",
            "ROU",
            "LCA",
            "SRB",
            "SYC",
            "SVK",
            "SVN",
            "UKR",
            "USA"
           ],
           "name": "2",
           "showlegend": true,
           "showscale": false,
           "type": "choropleth",
           "z": [
            1,
            1,
            1,
            1,
            1,
            1,
            1,
            1,
            1,
            1,
            1,
            1,
            1,
            1,
            1,
            1,
            1,
            1,
            1,
            1,
            1,
            1,
            1,
            1,
            1,
            1,
            1,
            1,
            1,
            1
           ]
          },
          {
           "colorscale": [
            [
             0,
             "rgb(251,128,114)"
            ],
            [
             1,
             "rgb(251,128,114)"
            ]
           ],
           "geo": "geo",
           "hovertemplate": "<b>%{hovertext}</b><br><br>Cluster=3<br>year=2017<br>ISO code=%{location}<extra></extra>",
           "hovertext": [
            "AFG",
            "ALB",
            "ARM",
            "SLV",
            "GEO",
            "GHA",
            "HND",
            "IDN",
            "KGZ",
            "MUS",
            "NPL",
            "PAN",
            "PRY",
            "PHL",
            "PRT",
            "MDA",
            "RUS",
            "RWA",
            "VNM",
            "ZMB"
           ],
           "locations": [
            "AFG",
            "ALB",
            "ARM",
            "SLV",
            "GEO",
            "GHA",
            "HND",
            "IDN",
            "KGZ",
            "MUS",
            "NPL",
            "PAN",
            "PRY",
            "PHL",
            "PRT",
            "MDA",
            "RUS",
            "RWA",
            "VNM",
            "ZMB"
           ],
           "name": "3",
           "showlegend": true,
           "showscale": false,
           "type": "choropleth",
           "z": [
            1,
            1,
            1,
            1,
            1,
            1,
            1,
            1,
            1,
            1,
            1,
            1,
            1,
            1,
            1,
            1,
            1,
            1,
            1,
            1
           ]
          }
         ],
         "name": "2017"
        },
        {
         "data": [
          {
           "colorscale": [
            [
             0,
             "rgb(141,211,199)"
            ],
            [
             1,
             "rgb(141,211,199)"
            ]
           ],
           "geo": "geo",
           "hovertemplate": "<b>%{hovertext}</b><br><br>Cluster=0<br>year=2018<br>ISO code=%{location}<extra></extra>",
           "hovertext": [
            "ALB",
            "BTN",
            "BRN",
            "COL",
            "CRI",
            "EGY",
            "GMB",
            "GUY",
            "IRN",
            "JOR",
            "MYS",
            "MLI",
            "MEX",
            "MNG",
            "MNE",
            "MMR",
            "PAK",
            "SLE",
            "LKA",
            "THA",
            "TUR",
            "ARE"
           ],
           "locations": [
            "ALB",
            "BTN",
            "BRN",
            "COL",
            "CRI",
            "EGY",
            "GMB",
            "GUY",
            "IRN",
            "JOR",
            "MYS",
            "MLI",
            "MEX",
            "MNG",
            "MNE",
            "MMR",
            "PAK",
            "SLE",
            "LKA",
            "THA",
            "TUR",
            "ARE"
           ],
           "name": "0",
           "showlegend": true,
           "showscale": false,
           "type": "choropleth",
           "z": [
            1,
            1,
            1,
            1,
            1,
            1,
            1,
            1,
            1,
            1,
            1,
            1,
            1,
            1,
            1,
            1,
            1,
            1,
            1,
            1,
            1,
            1
           ]
          },
          {
           "colorscale": [
            [
             0,
             "rgb(255,255,179)"
            ],
            [
             1,
             "rgb(255,255,179)"
            ]
           ],
           "geo": "geo",
           "hovertemplate": "<b>%{hovertext}</b><br><br>Cluster=1<br>year=2018<br>ISO code=%{location}<extra></extra>",
           "hovertext": [
            "AUS",
            "AUT",
            "BEL",
            "CUW",
            "DNK",
            "FIN",
            "FRA",
            "DEU",
            "ISL",
            "IRL",
            "ITA",
            "LUX",
            "NLD",
            "NOR",
            "ESP",
            "SWE",
            "CHE",
            "GBR"
           ],
           "locations": [
            "AUS",
            "AUT",
            "BEL",
            "CUW",
            "DNK",
            "FIN",
            "FRA",
            "DEU",
            "ISL",
            "IRL",
            "ITA",
            "LUX",
            "NLD",
            "NOR",
            "ESP",
            "SWE",
            "CHE",
            "GBR"
           ],
           "name": "1",
           "showlegend": true,
           "showscale": false,
           "type": "choropleth",
           "z": [
            1,
            1,
            1,
            1,
            1,
            1,
            1,
            1,
            1,
            1,
            1,
            1,
            1,
            1,
            1,
            1,
            1,
            1
           ]
          },
          {
           "colorscale": [
            [
             0,
             "rgb(190,186,218)"
            ],
            [
             1,
             "rgb(190,186,218)"
            ]
           ],
           "geo": "geo",
           "hovertemplate": "<b>%{hovertext}</b><br><br>Cluster=2<br>year=2018<br>ISO code=%{location}<extra></extra>",
           "hovertext": [
            "ARG",
            "BLR",
            "BIH",
            "BRA",
            "BGR",
            "HRV",
            "CYP",
            "CZE",
            "DOM",
            "EST",
            "GRC",
            "GRD",
            "GNB",
            "HUN",
            "ISR",
            "LVA",
            "LTU",
            "MLT",
            "MKD",
            "POL",
            "ROU",
            "LCA",
            "SRB",
            "SYC",
            "SVK",
            "SVN",
            "TON",
            "USA",
            "URY"
           ],
           "locations": [
            "ARG",
            "BLR",
            "BIH",
            "BRA",
            "BGR",
            "HRV",
            "CYP",
            "CZE",
            "DOM",
            "EST",
            "GRC",
            "GRD",
            "GNB",
            "HUN",
            "ISR",
            "LVA",
            "LTU",
            "MLT",
            "MKD",
            "POL",
            "ROU",
            "LCA",
            "SRB",
            "SYC",
            "SVK",
            "SVN",
            "TON",
            "USA",
            "URY"
           ],
           "name": "2",
           "showlegend": true,
           "showscale": false,
           "type": "choropleth",
           "z": [
            1,
            1,
            1,
            1,
            1,
            1,
            1,
            1,
            1,
            1,
            1,
            1,
            1,
            1,
            1,
            1,
            1,
            1,
            1,
            1,
            1,
            1,
            1,
            1,
            1,
            1,
            1,
            1,
            1
           ]
          },
          {
           "colorscale": [
            [
             0,
             "rgb(251,128,114)"
            ],
            [
             1,
             "rgb(251,128,114)"
            ]
           ],
           "geo": "geo",
           "hovertemplate": "<b>%{hovertext}</b><br><br>Cluster=3<br>year=2018<br>ISO code=%{location}<extra></extra>",
           "hovertext": [
            "ARM",
            "SLV",
            "GEO",
            "HND",
            "KGZ",
            "MUS",
            "PAN",
            "PRY",
            "PHL",
            "PRT",
            "KOR",
            "MDA",
            "RUS",
            "RWA",
            "VNM",
            "ZMB"
           ],
           "locations": [
            "ARM",
            "SLV",
            "GEO",
            "HND",
            "KGZ",
            "MUS",
            "PAN",
            "PRY",
            "PHL",
            "PRT",
            "KOR",
            "MDA",
            "RUS",
            "RWA",
            "VNM",
            "ZMB"
           ],
           "name": "3",
           "showlegend": true,
           "showscale": false,
           "type": "choropleth",
           "z": [
            1,
            1,
            1,
            1,
            1,
            1,
            1,
            1,
            1,
            1,
            1,
            1,
            1,
            1,
            1,
            1
           ]
          }
         ],
         "name": "2018"
        },
        {
         "data": [
          {
           "colorscale": [
            [
             0,
             "rgb(141,211,199)"
            ],
            [
             1,
             "rgb(141,211,199)"
            ]
           ],
           "geo": "geo",
           "hovertemplate": "<b>%{hovertext}</b><br><br>Cluster=0<br>year=2019<br>ISO code=%{location}<extra></extra>",
           "hovertext": [
            "ALB",
            "AGO",
            "BTN",
            "BWA",
            "BRN",
            "KHM",
            "COL",
            "CIV",
            "EGY",
            "SLV",
            "GUY",
            "IRN",
            "JOR",
            "KEN",
            "LBN",
            "LSO",
            "MYS",
            "MDV",
            "MEX",
            "MNG",
            "MNE",
            "MMR",
            "PAK",
            "SEN",
            "LKA",
            "THA",
            "TUN",
            "TUR",
            "ARE"
           ],
           "locations": [
            "ALB",
            "AGO",
            "BTN",
            "BWA",
            "BRN",
            "KHM",
            "COL",
            "CIV",
            "EGY",
            "SLV",
            "GUY",
            "IRN",
            "JOR",
            "KEN",
            "LBN",
            "LSO",
            "MYS",
            "MDV",
            "MEX",
            "MNG",
            "MNE",
            "MMR",
            "PAK",
            "SEN",
            "LKA",
            "THA",
            "TUN",
            "TUR",
            "ARE"
           ],
           "name": "0",
           "showlegend": true,
           "showscale": false,
           "type": "choropleth",
           "z": [
            1,
            1,
            1,
            1,
            1,
            1,
            1,
            1,
            1,
            1,
            1,
            1,
            1,
            1,
            1,
            1,
            1,
            1,
            1,
            1,
            1,
            1,
            1,
            1,
            1,
            1,
            1,
            1,
            1
           ]
          },
          {
           "colorscale": [
            [
             0,
             "rgb(255,255,179)"
            ],
            [
             1,
             "rgb(255,255,179)"
            ]
           ],
           "geo": "geo",
           "hovertemplate": "<b>%{hovertext}</b><br><br>Cluster=1<br>year=2019<br>ISO code=%{location}<extra></extra>",
           "hovertext": [
            "AUS",
            "AUT",
            "BEL",
            "DNK",
            "FIN",
            "FRA",
            "DEU",
            "ISL",
            "IRL",
            "ITA",
            "LUX",
            "NLD",
            "NOR",
            "SOM",
            "ESP",
            "SWE",
            "CHE",
            "GBR"
           ],
           "locations": [
            "AUS",
            "AUT",
            "BEL",
            "DNK",
            "FIN",
            "FRA",
            "DEU",
            "ISL",
            "IRL",
            "ITA",
            "LUX",
            "NLD",
            "NOR",
            "SOM",
            "ESP",
            "SWE",
            "CHE",
            "GBR"
           ],
           "name": "1",
           "showlegend": true,
           "showscale": false,
           "type": "choropleth",
           "z": [
            1,
            1,
            1,
            1,
            1,
            1,
            1,
            1,
            1,
            1,
            1,
            1,
            1,
            1,
            1,
            1,
            1,
            1
           ]
          },
          {
           "colorscale": [
            [
             0,
             "rgb(190,186,218)"
            ],
            [
             1,
             "rgb(190,186,218)"
            ]
           ],
           "geo": "geo",
           "hovertemplate": "<b>%{hovertext}</b><br><br>Cluster=2<br>year=2019<br>ISO code=%{location}<extra></extra>",
           "hovertext": [
            "ARG",
            "BHS",
            "BLR",
            "BOL",
            "BIH",
            "BRA",
            "BGR",
            "CHL",
            "COK",
            "CRI",
            "HRV",
            "CYP",
            "CZE",
            "DOM",
            "EST",
            "GRC",
            "HUN",
            "ISR",
            "LVA",
            "LTU",
            "MLT",
            "MKD",
            "POL",
            "KOR",
            "MDA",
            "ROU",
            "LCA",
            "SRB",
            "SYC",
            "SVK",
            "SVN",
            "UKR",
            "USA"
           ],
           "locations": [
            "ARG",
            "BHS",
            "BLR",
            "BOL",
            "BIH",
            "BRA",
            "BGR",
            "CHL",
            "COK",
            "CRI",
            "HRV",
            "CYP",
            "CZE",
            "DOM",
            "EST",
            "GRC",
            "HUN",
            "ISR",
            "LVA",
            "LTU",
            "MLT",
            "MKD",
            "POL",
            "KOR",
            "MDA",
            "ROU",
            "LCA",
            "SRB",
            "SYC",
            "SVK",
            "SVN",
            "UKR",
            "USA"
           ],
           "name": "2",
           "showlegend": true,
           "showscale": false,
           "type": "choropleth",
           "z": [
            1,
            1,
            1,
            1,
            1,
            1,
            1,
            1,
            1,
            1,
            1,
            1,
            1,
            1,
            1,
            1,
            1,
            1,
            1,
            1,
            1,
            1,
            1,
            1,
            1,
            1,
            1,
            1,
            1,
            1,
            1,
            1,
            1
           ]
          },
          {
           "colorscale": [
            [
             0,
             "rgb(251,128,114)"
            ],
            [
             1,
             "rgb(251,128,114)"
            ]
           ],
           "geo": "geo",
           "hovertemplate": "<b>%{hovertext}</b><br><br>Cluster=3<br>year=2019<br>ISO code=%{location}<extra></extra>",
           "hovertext": [
            "BLZ",
            "GEO",
            "GRD",
            "HND",
            "IDN",
            "KGZ",
            "MHL",
            "MUS",
            "PAN",
            "PRY",
            "PHL",
            "PRT",
            "RUS",
            "RWA",
            "UGA",
            "VUT",
            "VNM",
            "WLF",
            "ZMB",
            "ZWE"
           ],
           "locations": [
            "BLZ",
            "GEO",
            "GRD",
            "HND",
            "IDN",
            "KGZ",
            "MHL",
            "MUS",
            "PAN",
            "PRY",
            "PHL",
            "PRT",
            "RUS",
            "RWA",
            "UGA",
            "VUT",
            "VNM",
            "WLF",
            "ZMB",
            "ZWE"
           ],
           "name": "3",
           "showlegend": true,
           "showscale": false,
           "type": "choropleth",
           "z": [
            1,
            1,
            1,
            1,
            1,
            1,
            1,
            1,
            1,
            1,
            1,
            1,
            1,
            1,
            1,
            1,
            1,
            1,
            1,
            1
           ]
          }
         ],
         "name": "2019"
        }
       ],
       "layout": {
        "geo": {
         "center": {},
         "domain": {
          "x": [
           0,
           1
          ],
          "y": [
           0,
           1
          ]
         },
         "projection": {
          "type": "equirectangular"
         },
         "showcoastlines": false,
         "showframe": false
        },
        "legend": {
         "title": {
          "text": "Cluster"
         },
         "tracegroupgap": 0
        },
        "margin": {
         "t": 60
        },
        "sliders": [
         {
          "active": 0,
          "currentvalue": {
           "prefix": "year="
          },
          "len": 0.9,
          "pad": {
           "b": 10,
           "t": 60
          },
          "steps": [
           {
            "args": [
             [
              "2002"
             ],
             {
              "frame": {
               "duration": 0,
               "redraw": true
              },
              "fromcurrent": true,
              "mode": "immediate",
              "transition": {
               "duration": 0,
               "easing": "linear"
              }
             }
            ],
            "label": "2002",
            "method": "animate"
           },
           {
            "args": [
             [
              "2003"
             ],
             {
              "frame": {
               "duration": 0,
               "redraw": true
              },
              "fromcurrent": true,
              "mode": "immediate",
              "transition": {
               "duration": 0,
               "easing": "linear"
              }
             }
            ],
            "label": "2003",
            "method": "animate"
           },
           {
            "args": [
             [
              "2004"
             ],
             {
              "frame": {
               "duration": 0,
               "redraw": true
              },
              "fromcurrent": true,
              "mode": "immediate",
              "transition": {
               "duration": 0,
               "easing": "linear"
              }
             }
            ],
            "label": "2004",
            "method": "animate"
           },
           {
            "args": [
             [
              "2005"
             ],
             {
              "frame": {
               "duration": 0,
               "redraw": true
              },
              "fromcurrent": true,
              "mode": "immediate",
              "transition": {
               "duration": 0,
               "easing": "linear"
              }
             }
            ],
            "label": "2005",
            "method": "animate"
           },
           {
            "args": [
             [
              "2006"
             ],
             {
              "frame": {
               "duration": 0,
               "redraw": true
              },
              "fromcurrent": true,
              "mode": "immediate",
              "transition": {
               "duration": 0,
               "easing": "linear"
              }
             }
            ],
            "label": "2006",
            "method": "animate"
           },
           {
            "args": [
             [
              "2007"
             ],
             {
              "frame": {
               "duration": 0,
               "redraw": true
              },
              "fromcurrent": true,
              "mode": "immediate",
              "transition": {
               "duration": 0,
               "easing": "linear"
              }
             }
            ],
            "label": "2007",
            "method": "animate"
           },
           {
            "args": [
             [
              "2008"
             ],
             {
              "frame": {
               "duration": 0,
               "redraw": true
              },
              "fromcurrent": true,
              "mode": "immediate",
              "transition": {
               "duration": 0,
               "easing": "linear"
              }
             }
            ],
            "label": "2008",
            "method": "animate"
           },
           {
            "args": [
             [
              "2009"
             ],
             {
              "frame": {
               "duration": 0,
               "redraw": true
              },
              "fromcurrent": true,
              "mode": "immediate",
              "transition": {
               "duration": 0,
               "easing": "linear"
              }
             }
            ],
            "label": "2009",
            "method": "animate"
           },
           {
            "args": [
             [
              "2010"
             ],
             {
              "frame": {
               "duration": 0,
               "redraw": true
              },
              "fromcurrent": true,
              "mode": "immediate",
              "transition": {
               "duration": 0,
               "easing": "linear"
              }
             }
            ],
            "label": "2010",
            "method": "animate"
           },
           {
            "args": [
             [
              "2011"
             ],
             {
              "frame": {
               "duration": 0,
               "redraw": true
              },
              "fromcurrent": true,
              "mode": "immediate",
              "transition": {
               "duration": 0,
               "easing": "linear"
              }
             }
            ],
            "label": "2011",
            "method": "animate"
           },
           {
            "args": [
             [
              "2012"
             ],
             {
              "frame": {
               "duration": 0,
               "redraw": true
              },
              "fromcurrent": true,
              "mode": "immediate",
              "transition": {
               "duration": 0,
               "easing": "linear"
              }
             }
            ],
            "label": "2012",
            "method": "animate"
           },
           {
            "args": [
             [
              "2013"
             ],
             {
              "frame": {
               "duration": 0,
               "redraw": true
              },
              "fromcurrent": true,
              "mode": "immediate",
              "transition": {
               "duration": 0,
               "easing": "linear"
              }
             }
            ],
            "label": "2013",
            "method": "animate"
           },
           {
            "args": [
             [
              "2014"
             ],
             {
              "frame": {
               "duration": 0,
               "redraw": true
              },
              "fromcurrent": true,
              "mode": "immediate",
              "transition": {
               "duration": 0,
               "easing": "linear"
              }
             }
            ],
            "label": "2014",
            "method": "animate"
           },
           {
            "args": [
             [
              "2015"
             ],
             {
              "frame": {
               "duration": 0,
               "redraw": true
              },
              "fromcurrent": true,
              "mode": "immediate",
              "transition": {
               "duration": 0,
               "easing": "linear"
              }
             }
            ],
            "label": "2015",
            "method": "animate"
           },
           {
            "args": [
             [
              "2016"
             ],
             {
              "frame": {
               "duration": 0,
               "redraw": true
              },
              "fromcurrent": true,
              "mode": "immediate",
              "transition": {
               "duration": 0,
               "easing": "linear"
              }
             }
            ],
            "label": "2016",
            "method": "animate"
           },
           {
            "args": [
             [
              "2017"
             ],
             {
              "frame": {
               "duration": 0,
               "redraw": true
              },
              "fromcurrent": true,
              "mode": "immediate",
              "transition": {
               "duration": 0,
               "easing": "linear"
              }
             }
            ],
            "label": "2017",
            "method": "animate"
           },
           {
            "args": [
             [
              "2018"
             ],
             {
              "frame": {
               "duration": 0,
               "redraw": true
              },
              "fromcurrent": true,
              "mode": "immediate",
              "transition": {
               "duration": 0,
               "easing": "linear"
              }
             }
            ],
            "label": "2018",
            "method": "animate"
           },
           {
            "args": [
             [
              "2019"
             ],
             {
              "frame": {
               "duration": 0,
               "redraw": true
              },
              "fromcurrent": true,
              "mode": "immediate",
              "transition": {
               "duration": 0,
               "easing": "linear"
              }
             }
            ],
            "label": "2019",
            "method": "animate"
           }
          ],
          "x": 0.1,
          "xanchor": "left",
          "y": 0,
          "yanchor": "top"
         }
        ],
        "template": {
         "data": {
          "bar": [
           {
            "error_x": {
             "color": "#2a3f5f"
            },
            "error_y": {
             "color": "#2a3f5f"
            },
            "marker": {
             "line": {
              "color": "#E5ECF6",
              "width": 0.5
             },
             "pattern": {
              "fillmode": "overlay",
              "size": 10,
              "solidity": 0.2
             }
            },
            "type": "bar"
           }
          ],
          "barpolar": [
           {
            "marker": {
             "line": {
              "color": "#E5ECF6",
              "width": 0.5
             },
             "pattern": {
              "fillmode": "overlay",
              "size": 10,
              "solidity": 0.2
             }
            },
            "type": "barpolar"
           }
          ],
          "carpet": [
           {
            "aaxis": {
             "endlinecolor": "#2a3f5f",
             "gridcolor": "white",
             "linecolor": "white",
             "minorgridcolor": "white",
             "startlinecolor": "#2a3f5f"
            },
            "baxis": {
             "endlinecolor": "#2a3f5f",
             "gridcolor": "white",
             "linecolor": "white",
             "minorgridcolor": "white",
             "startlinecolor": "#2a3f5f"
            },
            "type": "carpet"
           }
          ],
          "choropleth": [
           {
            "colorbar": {
             "outlinewidth": 0,
             "ticks": ""
            },
            "type": "choropleth"
           }
          ],
          "contour": [
           {
            "colorbar": {
             "outlinewidth": 0,
             "ticks": ""
            },
            "colorscale": [
             [
              0,
              "#0d0887"
             ],
             [
              0.1111111111111111,
              "#46039f"
             ],
             [
              0.2222222222222222,
              "#7201a8"
             ],
             [
              0.3333333333333333,
              "#9c179e"
             ],
             [
              0.4444444444444444,
              "#bd3786"
             ],
             [
              0.5555555555555556,
              "#d8576b"
             ],
             [
              0.6666666666666666,
              "#ed7953"
             ],
             [
              0.7777777777777778,
              "#fb9f3a"
             ],
             [
              0.8888888888888888,
              "#fdca26"
             ],
             [
              1,
              "#f0f921"
             ]
            ],
            "type": "contour"
           }
          ],
          "contourcarpet": [
           {
            "colorbar": {
             "outlinewidth": 0,
             "ticks": ""
            },
            "type": "contourcarpet"
           }
          ],
          "heatmap": [
           {
            "colorbar": {
             "outlinewidth": 0,
             "ticks": ""
            },
            "colorscale": [
             [
              0,
              "#0d0887"
             ],
             [
              0.1111111111111111,
              "#46039f"
             ],
             [
              0.2222222222222222,
              "#7201a8"
             ],
             [
              0.3333333333333333,
              "#9c179e"
             ],
             [
              0.4444444444444444,
              "#bd3786"
             ],
             [
              0.5555555555555556,
              "#d8576b"
             ],
             [
              0.6666666666666666,
              "#ed7953"
             ],
             [
              0.7777777777777778,
              "#fb9f3a"
             ],
             [
              0.8888888888888888,
              "#fdca26"
             ],
             [
              1,
              "#f0f921"
             ]
            ],
            "type": "heatmap"
           }
          ],
          "heatmapgl": [
           {
            "colorbar": {
             "outlinewidth": 0,
             "ticks": ""
            },
            "colorscale": [
             [
              0,
              "#0d0887"
             ],
             [
              0.1111111111111111,
              "#46039f"
             ],
             [
              0.2222222222222222,
              "#7201a8"
             ],
             [
              0.3333333333333333,
              "#9c179e"
             ],
             [
              0.4444444444444444,
              "#bd3786"
             ],
             [
              0.5555555555555556,
              "#d8576b"
             ],
             [
              0.6666666666666666,
              "#ed7953"
             ],
             [
              0.7777777777777778,
              "#fb9f3a"
             ],
             [
              0.8888888888888888,
              "#fdca26"
             ],
             [
              1,
              "#f0f921"
             ]
            ],
            "type": "heatmapgl"
           }
          ],
          "histogram": [
           {
            "marker": {
             "pattern": {
              "fillmode": "overlay",
              "size": 10,
              "solidity": 0.2
             }
            },
            "type": "histogram"
           }
          ],
          "histogram2d": [
           {
            "colorbar": {
             "outlinewidth": 0,
             "ticks": ""
            },
            "colorscale": [
             [
              0,
              "#0d0887"
             ],
             [
              0.1111111111111111,
              "#46039f"
             ],
             [
              0.2222222222222222,
              "#7201a8"
             ],
             [
              0.3333333333333333,
              "#9c179e"
             ],
             [
              0.4444444444444444,
              "#bd3786"
             ],
             [
              0.5555555555555556,
              "#d8576b"
             ],
             [
              0.6666666666666666,
              "#ed7953"
             ],
             [
              0.7777777777777778,
              "#fb9f3a"
             ],
             [
              0.8888888888888888,
              "#fdca26"
             ],
             [
              1,
              "#f0f921"
             ]
            ],
            "type": "histogram2d"
           }
          ],
          "histogram2dcontour": [
           {
            "colorbar": {
             "outlinewidth": 0,
             "ticks": ""
            },
            "colorscale": [
             [
              0,
              "#0d0887"
             ],
             [
              0.1111111111111111,
              "#46039f"
             ],
             [
              0.2222222222222222,
              "#7201a8"
             ],
             [
              0.3333333333333333,
              "#9c179e"
             ],
             [
              0.4444444444444444,
              "#bd3786"
             ],
             [
              0.5555555555555556,
              "#d8576b"
             ],
             [
              0.6666666666666666,
              "#ed7953"
             ],
             [
              0.7777777777777778,
              "#fb9f3a"
             ],
             [
              0.8888888888888888,
              "#fdca26"
             ],
             [
              1,
              "#f0f921"
             ]
            ],
            "type": "histogram2dcontour"
           }
          ],
          "mesh3d": [
           {
            "colorbar": {
             "outlinewidth": 0,
             "ticks": ""
            },
            "type": "mesh3d"
           }
          ],
          "parcoords": [
           {
            "line": {
             "colorbar": {
              "outlinewidth": 0,
              "ticks": ""
             }
            },
            "type": "parcoords"
           }
          ],
          "pie": [
           {
            "automargin": true,
            "type": "pie"
           }
          ],
          "scatter": [
           {
            "fillpattern": {
             "fillmode": "overlay",
             "size": 10,
             "solidity": 0.2
            },
            "type": "scatter"
           }
          ],
          "scatter3d": [
           {
            "line": {
             "colorbar": {
              "outlinewidth": 0,
              "ticks": ""
             }
            },
            "marker": {
             "colorbar": {
              "outlinewidth": 0,
              "ticks": ""
             }
            },
            "type": "scatter3d"
           }
          ],
          "scattercarpet": [
           {
            "marker": {
             "colorbar": {
              "outlinewidth": 0,
              "ticks": ""
             }
            },
            "type": "scattercarpet"
           }
          ],
          "scattergeo": [
           {
            "marker": {
             "colorbar": {
              "outlinewidth": 0,
              "ticks": ""
             }
            },
            "type": "scattergeo"
           }
          ],
          "scattergl": [
           {
            "marker": {
             "colorbar": {
              "outlinewidth": 0,
              "ticks": ""
             }
            },
            "type": "scattergl"
           }
          ],
          "scattermapbox": [
           {
            "marker": {
             "colorbar": {
              "outlinewidth": 0,
              "ticks": ""
             }
            },
            "type": "scattermapbox"
           }
          ],
          "scatterpolar": [
           {
            "marker": {
             "colorbar": {
              "outlinewidth": 0,
              "ticks": ""
             }
            },
            "type": "scatterpolar"
           }
          ],
          "scatterpolargl": [
           {
            "marker": {
             "colorbar": {
              "outlinewidth": 0,
              "ticks": ""
             }
            },
            "type": "scatterpolargl"
           }
          ],
          "scatterternary": [
           {
            "marker": {
             "colorbar": {
              "outlinewidth": 0,
              "ticks": ""
             }
            },
            "type": "scatterternary"
           }
          ],
          "surface": [
           {
            "colorbar": {
             "outlinewidth": 0,
             "ticks": ""
            },
            "colorscale": [
             [
              0,
              "#0d0887"
             ],
             [
              0.1111111111111111,
              "#46039f"
             ],
             [
              0.2222222222222222,
              "#7201a8"
             ],
             [
              0.3333333333333333,
              "#9c179e"
             ],
             [
              0.4444444444444444,
              "#bd3786"
             ],
             [
              0.5555555555555556,
              "#d8576b"
             ],
             [
              0.6666666666666666,
              "#ed7953"
             ],
             [
              0.7777777777777778,
              "#fb9f3a"
             ],
             [
              0.8888888888888888,
              "#fdca26"
             ],
             [
              1,
              "#f0f921"
             ]
            ],
            "type": "surface"
           }
          ],
          "table": [
           {
            "cells": {
             "fill": {
              "color": "#EBF0F8"
             },
             "line": {
              "color": "white"
             }
            },
            "header": {
             "fill": {
              "color": "#C8D4E3"
             },
             "line": {
              "color": "white"
             }
            },
            "type": "table"
           }
          ]
         },
         "layout": {
          "annotationdefaults": {
           "arrowcolor": "#2a3f5f",
           "arrowhead": 0,
           "arrowwidth": 1
          },
          "autotypenumbers": "strict",
          "coloraxis": {
           "colorbar": {
            "outlinewidth": 0,
            "ticks": ""
           }
          },
          "colorscale": {
           "diverging": [
            [
             0,
             "#8e0152"
            ],
            [
             0.1,
             "#c51b7d"
            ],
            [
             0.2,
             "#de77ae"
            ],
            [
             0.3,
             "#f1b6da"
            ],
            [
             0.4,
             "#fde0ef"
            ],
            [
             0.5,
             "#f7f7f7"
            ],
            [
             0.6,
             "#e6f5d0"
            ],
            [
             0.7,
             "#b8e186"
            ],
            [
             0.8,
             "#7fbc41"
            ],
            [
             0.9,
             "#4d9221"
            ],
            [
             1,
             "#276419"
            ]
           ],
           "sequential": [
            [
             0,
             "#0d0887"
            ],
            [
             0.1111111111111111,
             "#46039f"
            ],
            [
             0.2222222222222222,
             "#7201a8"
            ],
            [
             0.3333333333333333,
             "#9c179e"
            ],
            [
             0.4444444444444444,
             "#bd3786"
            ],
            [
             0.5555555555555556,
             "#d8576b"
            ],
            [
             0.6666666666666666,
             "#ed7953"
            ],
            [
             0.7777777777777778,
             "#fb9f3a"
            ],
            [
             0.8888888888888888,
             "#fdca26"
            ],
            [
             1,
             "#f0f921"
            ]
           ],
           "sequentialminus": [
            [
             0,
             "#0d0887"
            ],
            [
             0.1111111111111111,
             "#46039f"
            ],
            [
             0.2222222222222222,
             "#7201a8"
            ],
            [
             0.3333333333333333,
             "#9c179e"
            ],
            [
             0.4444444444444444,
             "#bd3786"
            ],
            [
             0.5555555555555556,
             "#d8576b"
            ],
            [
             0.6666666666666666,
             "#ed7953"
            ],
            [
             0.7777777777777778,
             "#fb9f3a"
            ],
            [
             0.8888888888888888,
             "#fdca26"
            ],
            [
             1,
             "#f0f921"
            ]
           ]
          },
          "colorway": [
           "#636efa",
           "#EF553B",
           "#00cc96",
           "#ab63fa",
           "#FFA15A",
           "#19d3f3",
           "#FF6692",
           "#B6E880",
           "#FF97FF",
           "#FECB52"
          ],
          "font": {
           "color": "#2a3f5f"
          },
          "geo": {
           "bgcolor": "white",
           "lakecolor": "white",
           "landcolor": "#E5ECF6",
           "showlakes": true,
           "showland": true,
           "subunitcolor": "white"
          },
          "hoverlabel": {
           "align": "left"
          },
          "hovermode": "closest",
          "mapbox": {
           "style": "light"
          },
          "paper_bgcolor": "white",
          "plot_bgcolor": "#E5ECF6",
          "polar": {
           "angularaxis": {
            "gridcolor": "white",
            "linecolor": "white",
            "ticks": ""
           },
           "bgcolor": "#E5ECF6",
           "radialaxis": {
            "gridcolor": "white",
            "linecolor": "white",
            "ticks": ""
           }
          },
          "scene": {
           "xaxis": {
            "backgroundcolor": "#E5ECF6",
            "gridcolor": "white",
            "gridwidth": 2,
            "linecolor": "white",
            "showbackground": true,
            "ticks": "",
            "zerolinecolor": "white"
           },
           "yaxis": {
            "backgroundcolor": "#E5ECF6",
            "gridcolor": "white",
            "gridwidth": 2,
            "linecolor": "white",
            "showbackground": true,
            "ticks": "",
            "zerolinecolor": "white"
           },
           "zaxis": {
            "backgroundcolor": "#E5ECF6",
            "gridcolor": "white",
            "gridwidth": 2,
            "linecolor": "white",
            "showbackground": true,
            "ticks": "",
            "zerolinecolor": "white"
           }
          },
          "shapedefaults": {
           "line": {
            "color": "#2a3f5f"
           }
          },
          "ternary": {
           "aaxis": {
            "gridcolor": "white",
            "linecolor": "white",
            "ticks": ""
           },
           "baxis": {
            "gridcolor": "white",
            "linecolor": "white",
            "ticks": ""
           },
           "bgcolor": "#E5ECF6",
           "caxis": {
            "gridcolor": "white",
            "linecolor": "white",
            "ticks": ""
           }
          },
          "title": {
           "x": 0.05
          },
          "xaxis": {
           "automargin": true,
           "gridcolor": "white",
           "linecolor": "white",
           "ticks": "",
           "title": {
            "standoff": 15
           },
           "zerolinecolor": "white",
           "zerolinewidth": 2
          },
          "yaxis": {
           "automargin": true,
           "gridcolor": "white",
           "linecolor": "white",
           "ticks": "",
           "title": {
            "standoff": 15
           },
           "zerolinecolor": "white",
           "zerolinewidth": 2
          }
         }
        },
        "title": {
         "text": "Countries by Cluster",
         "x": 0.5
        },
        "updatemenus": [
         {
          "buttons": [
           {
            "args": [
             null,
             {
              "frame": {
               "duration": 500,
               "redraw": false
              },
              "fromcurrent": true,
              "transition": {
               "duration": 300
              }
             }
            ],
            "label": "Play",
            "method": "animate"
           },
           {
            "args": [
             [
              null
             ],
             {
              "frame": {
               "duration": 0,
               "redraw": false
              },
              "mode": "immediate",
              "transition": {
               "duration": 0
              }
             }
            ],
            "label": "Pause",
            "method": "animate"
           }
          ],
          "direction": "left",
          "pad": {
           "r": 10,
           "t": 70
          },
          "showactive": false,
          "type": "buttons",
          "x": 0.1,
          "xanchor": "right",
          "y": 0,
          "yanchor": "top"
         }
        ]
       }
      }
     },
     "metadata": {},
     "output_type": "display_data"
    }
   ],
   "source": [
    "# Create a choropleth map\n",
    "fig = px.choropleth(df_plot, locations=\"ISO code\", color=\"Cluster\", hover_name=\"ISO code\",\n",
    "                    animation_frame=\"year\", color_discrete_sequence=px.colors.qualitative.Set3)\n",
    "\n",
    "# Update the layout\n",
    "fig.update_layout(\n",
    "    title_text=\"Countries by Cluster\",\n",
    "    title_x=0.5,  # Center the title\n",
    "    geo=dict(\n",
    "        showframe=False,\n",
    "        showcoastlines=False,\n",
    "        projection_type='equirectangular'\n",
    "    ),\n",
    "    updatemenus=[\n",
    "        dict(\n",
    "            type=\"buttons\",\n",
    "            buttons=[\n",
    "                dict(\n",
    "                    label=\"Play\",\n",
    "                    method=\"animate\",\n",
    "                    args=[None, {\"frame\": {\"duration\": 500, \"redraw\": False},\n",
    "                                 \"fromcurrent\": True, \"transition\": {\"duration\": 300}}]\n",
    "                ),\n",
    "                dict(\n",
    "                    label=\"Pause\",\n",
    "                    method=\"animate\",\n",
    "                    args=[[None], {\"frame\": {\"duration\": 0, \"redraw\": False},\n",
    "                                   \"mode\": \"immediate\",\n",
    "                                   \"transition\": {\"duration\": 0}}]\n",
    "                )\n",
    "            ]\n",
    "        )\n",
    "    ]\n",
    ")\n",
    "\n",
    "# Show the map\n",
    "fig.show()"
   ]
  },
  {
   "cell_type": "markdown",
   "metadata": {},
   "source": [
    "# PCA"
   ]
  },
  {
   "cell_type": "code",
   "execution_count": 9,
   "metadata": {},
   "outputs": [
    {
     "data": {
      "text/plain": [
       "array([[-2.68549338, -0.15471011,  0.44753339, ..., -0.72970734,\n",
       "         0.59734043,  0.37723829],\n",
       "       [-3.40756821,  0.23796953,  0.50725487, ..., -0.99093844,\n",
       "         0.64293747,  0.48297313],\n",
       "       [-3.009333  ,  0.94628407,  1.52511673, ..., -0.81271535,\n",
       "         0.82181818,  0.37574907],\n",
       "       ...,\n",
       "       [-0.36172531,  0.0938213 ,  1.03436191, ..., -0.67111345,\n",
       "         0.15715359,  0.33405083],\n",
       "       [ 0.2750134 ,  0.50389814,  0.23720989, ..., -0.07540888,\n",
       "         0.99894516,  0.57381574],\n",
       "       [ 1.16994856,  1.46322942,  1.08889022, ...,  0.88894892,\n",
       "         1.52155743,  1.24843378]])"
      ]
     },
     "execution_count": 9,
     "metadata": {},
     "output_type": "execute_result"
    }
   ],
   "source": [
    "scaler = StandardScaler(with_std=True, with_mean=True)\n",
    "merged_data_scaled = scaler.fit_transform(merged_data)\n",
    "merged_data_scaled"
   ]
  },
  {
   "cell_type": "code",
   "execution_count": 10,
   "metadata": {},
   "outputs": [
    {
     "data": {
      "text/html": [
       "<style>#sk-container-id-1 {color: black;}#sk-container-id-1 pre{padding: 0;}#sk-container-id-1 div.sk-toggleable {background-color: white;}#sk-container-id-1 label.sk-toggleable__label {cursor: pointer;display: block;width: 100%;margin-bottom: 0;padding: 0.3em;box-sizing: border-box;text-align: center;}#sk-container-id-1 label.sk-toggleable__label-arrow:before {content: \"▸\";float: left;margin-right: 0.25em;color: #696969;}#sk-container-id-1 label.sk-toggleable__label-arrow:hover:before {color: black;}#sk-container-id-1 div.sk-estimator:hover label.sk-toggleable__label-arrow:before {color: black;}#sk-container-id-1 div.sk-toggleable__content {max-height: 0;max-width: 0;overflow: hidden;text-align: left;background-color: #f0f8ff;}#sk-container-id-1 div.sk-toggleable__content pre {margin: 0.2em;color: black;border-radius: 0.25em;background-color: #f0f8ff;}#sk-container-id-1 input.sk-toggleable__control:checked~div.sk-toggleable__content {max-height: 200px;max-width: 100%;overflow: auto;}#sk-container-id-1 input.sk-toggleable__control:checked~label.sk-toggleable__label-arrow:before {content: \"▾\";}#sk-container-id-1 div.sk-estimator input.sk-toggleable__control:checked~label.sk-toggleable__label {background-color: #d4ebff;}#sk-container-id-1 div.sk-label input.sk-toggleable__control:checked~label.sk-toggleable__label {background-color: #d4ebff;}#sk-container-id-1 input.sk-hidden--visually {border: 0;clip: rect(1px 1px 1px 1px);clip: rect(1px, 1px, 1px, 1px);height: 1px;margin: -1px;overflow: hidden;padding: 0;position: absolute;width: 1px;}#sk-container-id-1 div.sk-estimator {font-family: monospace;background-color: #f0f8ff;border: 1px dotted black;border-radius: 0.25em;box-sizing: border-box;margin-bottom: 0.5em;}#sk-container-id-1 div.sk-estimator:hover {background-color: #d4ebff;}#sk-container-id-1 div.sk-parallel-item::after {content: \"\";width: 100%;border-bottom: 1px solid gray;flex-grow: 1;}#sk-container-id-1 div.sk-label:hover label.sk-toggleable__label {background-color: #d4ebff;}#sk-container-id-1 div.sk-serial::before {content: \"\";position: absolute;border-left: 1px solid gray;box-sizing: border-box;top: 0;bottom: 0;left: 50%;z-index: 0;}#sk-container-id-1 div.sk-serial {display: flex;flex-direction: column;align-items: center;background-color: white;padding-right: 0.2em;padding-left: 0.2em;position: relative;}#sk-container-id-1 div.sk-item {position: relative;z-index: 1;}#sk-container-id-1 div.sk-parallel {display: flex;align-items: stretch;justify-content: center;background-color: white;position: relative;}#sk-container-id-1 div.sk-item::before, #sk-container-id-1 div.sk-parallel-item::before {content: \"\";position: absolute;border-left: 1px solid gray;box-sizing: border-box;top: 0;bottom: 0;left: 50%;z-index: -1;}#sk-container-id-1 div.sk-parallel-item {display: flex;flex-direction: column;z-index: 1;position: relative;background-color: white;}#sk-container-id-1 div.sk-parallel-item:first-child::after {align-self: flex-end;width: 50%;}#sk-container-id-1 div.sk-parallel-item:last-child::after {align-self: flex-start;width: 50%;}#sk-container-id-1 div.sk-parallel-item:only-child::after {width: 0;}#sk-container-id-1 div.sk-dashed-wrapped {border: 1px dashed gray;margin: 0 0.4em 0.5em 0.4em;box-sizing: border-box;padding-bottom: 0.4em;background-color: white;}#sk-container-id-1 div.sk-label label {font-family: monospace;font-weight: bold;display: inline-block;line-height: 1.2em;}#sk-container-id-1 div.sk-label-container {text-align: center;}#sk-container-id-1 div.sk-container {/* jupyter's `normalize.less` sets `[hidden] { display: none; }` but bootstrap.min.css set `[hidden] { display: none !important; }` so we also need the `!important` here to be able to override the default hidden behavior on the sphinx rendered scikit-learn.org. See: https://github.com/scikit-learn/scikit-learn/issues/21755 */display: inline-block !important;position: relative;}#sk-container-id-1 div.sk-text-repr-fallback {display: none;}</style><div id=\"sk-container-id-1\" class=\"sk-top-container\"><div class=\"sk-text-repr-fallback\"><pre>PCA()</pre><b>In a Jupyter environment, please rerun this cell to show the HTML representation or trust the notebook. <br />On GitHub, the HTML representation is unable to render, please try loading this page with nbviewer.org.</b></div><div class=\"sk-container\" hidden><div class=\"sk-item\"><div class=\"sk-estimator sk-toggleable\"><input class=\"sk-toggleable__control sk-hidden--visually\" id=\"sk-estimator-id-1\" type=\"checkbox\" checked><label for=\"sk-estimator-id-1\" class=\"sk-toggleable__label sk-toggleable__label-arrow\">PCA</label><div class=\"sk-toggleable__content\"><pre>PCA()</pre></div></div></div></div></div>"
      ],
      "text/plain": [
       "PCA()"
      ]
     },
     "execution_count": 10,
     "metadata": {},
     "output_type": "execute_result"
    }
   ],
   "source": [
    "pca = PCA()\n",
    "pca.fit(merged_data_scaled)"
   ]
  },
  {
   "cell_type": "code",
   "execution_count": 11,
   "metadata": {},
   "outputs": [
    {
     "data": {
      "text/plain": [
       "array([-1.04957539e-15,  9.50558844e-16, -5.74295968e-16, -1.40999562e-15,\n",
       "        1.94468497e-15,  7.20840457e-16,  9.74322815e-16,  2.69325006e-16,\n",
       "       -7.60447075e-16, -2.85167653e-16, -1.10898532e-16])"
      ]
     },
     "execution_count": 11,
     "metadata": {},
     "output_type": "execute_result"
    }
   ],
   "source": [
    "pca.mean_"
   ]
  },
  {
   "cell_type": "code",
   "execution_count": 12,
   "metadata": {},
   "outputs": [],
   "source": [
    "scores = pca.transform(merged_data_scaled)"
   ]
  },
  {
   "cell_type": "code",
   "execution_count": 15,
   "metadata": {},
   "outputs": [
    {
     "data": {
      "text/plain": [
       "array([[ 0.29026976,  0.33698845,  0.24568276,  0.2619781 ,  0.34477176,\n",
       "         0.33593417,  0.34426357, -0.00781972,  0.31989576,  0.33113561,\n",
       "         0.33302814],\n",
       "       [-0.19492623, -0.26667858, -0.08305764, -0.12122578,  0.13250092,\n",
       "         0.29836337,  0.21563272, -0.81375874, -0.19075188,  0.12949629,\n",
       "        -0.02930047],\n",
       "       [-0.50129322,  0.08251145,  0.73636016, -0.07165475,  0.061967  ,\n",
       "        -0.00540491, -0.03422784,  0.09689604, -0.07363315,  0.2515041 ,\n",
       "        -0.33381225],\n",
       "       [-0.10205243,  0.2198088 , -0.1169216 , -0.84164616, -0.16489767,\n",
       "        -0.06306278,  0.22166209,  0.06707646,  0.23903201,  0.19869197,\n",
       "         0.1944587 ],\n",
       "       [-0.58899559,  0.00526479, -0.49954112,  0.28153473,  0.10121832,\n",
       "        -0.00372768, -0.14429952,  0.09224743,  0.39107933,  0.36169815,\n",
       "        -0.02989585],\n",
       "       [-0.09722049,  0.07069386, -0.27094467, -0.06537706,  0.20104071,\n",
       "         0.3468109 ,  0.18825991,  0.43922159, -0.69682195,  0.18204382,\n",
       "         0.01058444],\n",
       "       [ 0.18077871, -0.15080742,  0.08024347,  0.12775005, -0.68221348,\n",
       "         0.15042285, -0.23275799, -0.02376562, -0.13142771,  0.57128428,\n",
       "         0.18813496],\n",
       "       [-0.43724231,  0.08575032,  0.1562287 ,  0.13195553, -0.10516804,\n",
       "        -0.10812883, -0.01369667, -0.05042715, -0.18853317, -0.29603644,\n",
       "         0.78165299],\n",
       "       [ 0.18010492, -0.29354358,  0.06103492, -0.19250124,  0.54661841,\n",
       "        -0.36527178, -0.44425983, -0.01358353, -0.11750072,  0.35072159,\n",
       "         0.27209165],\n",
       "       [-0.05662482, -0.776984  ,  0.13675738, -0.08162255,  0.01649049,\n",
       "         0.30811898,  0.20265124,  0.34438407,  0.28136517, -0.13046685,\n",
       "         0.12907194],\n",
       "       [ 0.01280956, -0.18762723, -0.02485658,  0.20538222, -0.07964356,\n",
       "        -0.64120983,  0.66001299,  0.02301461, -0.1201151 ,  0.22989361,\n",
       "        -0.03022506]])"
      ]
     },
     "execution_count": 15,
     "metadata": {},
     "output_type": "execute_result"
    }
   ],
   "source": [
    "pca.components_"
   ]
  },
  {
   "cell_type": "code",
   "execution_count": 16,
   "metadata": {},
   "outputs": [
    {
     "data": {
      "text/plain": [
       "array([0.63048575, 0.12636328, 0.07772078, 0.05931749, 0.02613613,\n",
       "       0.02531714, 0.01614309, 0.01394439, 0.00948474, 0.00876566,\n",
       "       0.00632155])"
      ]
     },
     "execution_count": 16,
     "metadata": {},
     "output_type": "execute_result"
    }
   ],
   "source": [
    "pca.explained_variance_ratio_"
   ]
  },
  {
   "cell_type": "code",
   "execution_count": 20,
   "metadata": {},
   "outputs": [],
   "source": [
    "%%capture\n",
    "fig, axes = plt.subplots(1, 2, figsize=(15, 6))\n",
    "ticks = np.arange(pca.n_components_)+1\n",
    "ax = axes[0]\n",
    "ax.plot(ticks, pca.explained_variance_ratio_, marker='o')\n",
    "ax.set_xlabel('Principal Component');\n",
    "ax.set_ylabel('Proportion of Variance Explained')\n",
    "ax.set_ylim([0,1])\n",
    "ax.set_xticks(ticks)"
   ]
  },
  {
   "cell_type": "code",
   "execution_count": 22,
   "metadata": {},
   "outputs": [
    {
     "data": {
      "image/png": "[encoded data removed]",
      "text/plain": [
       "<Figure size 1500x600 with 2 Axes>"
      ]
     },
     "execution_count": 22,
     "metadata": {},
     "output_type": "execute_result"
    }
   ],
   "source": [
    "ax = axes[1]\n",
    "ax.plot(ticks, pca.explained_variance_ratio_.cumsum(), marker='o')\n",
    "ax.set_xlabel('Principal Component')\n",
    "ax.set_ylabel('Cumulative Proportion of Variance Explained')\n",
    "ax.set_ylim([0, 1])\n",
    "ax.set_xticks(ticks)\n",
    "fig"
   ]
  }
 ],
 "metadata": {
  "kernelspec": {
   "display_name": "base",
   "language": "python",
   "name": "python3"
  },
  "language_info": {
   "codemirror_mode": {
    "name": "ipython",
    "version": 3
   },
   "file_extension": ".py",
   "mimetype": "text/x-python",
   "name": "python",
   "nbconvert_exporter": "python",
   "pygments_lexer": "ipython3",
   "version": "3.11.4"
  }
 },
 "nbformat": 4,
 "nbformat_minor": 2
}
